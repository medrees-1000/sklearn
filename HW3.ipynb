{
  "cells": [
    {
      "cell_type": "code",
      "execution_count": 43,
      "metadata": {
        "id": "hYuUnAhh4D9k"
      },
      "outputs": [],
      "source": [
        "import pandas as pd\n",
        "import numpy as np\n",
        "import matplotlib.pyplot as plt"
      ]
    },
    {
      "cell_type": "code",
      "execution_count": 44,
      "metadata": {
        "colab": {
          "base_uri": "https://localhost:8080/",
          "height": 206
        },
        "id": "g8SpnHD94ncz",
        "outputId": "bf00ea48-d004-4c48-e296-e1b380be1a6f"
      },
      "outputs": [
        {
          "data": {
            "text/html": [
              "<div>\n",
              "<style scoped>\n",
              "    .dataframe tbody tr th:only-of-type {\n",
              "        vertical-align: middle;\n",
              "    }\n",
              "\n",
              "    .dataframe tbody tr th {\n",
              "        vertical-align: top;\n",
              "    }\n",
              "\n",
              "    .dataframe thead th {\n",
              "        text-align: right;\n",
              "    }\n",
              "</style>\n",
              "<table border=\"1\" class=\"dataframe\">\n",
              "  <thead>\n",
              "    <tr style=\"text-align: right;\">\n",
              "      <th></th>\n",
              "      <th>city08</th>\n",
              "      <th>cylinders</th>\n",
              "      <th>fuelType</th>\n",
              "      <th>highway08</th>\n",
              "      <th>id</th>\n",
              "      <th>make</th>\n",
              "      <th>model</th>\n",
              "      <th>mpgData</th>\n",
              "      <th>trany</th>\n",
              "      <th>year</th>\n",
              "    </tr>\n",
              "  </thead>\n",
              "  <tbody>\n",
              "    <tr>\n",
              "      <th>0</th>\n",
              "      <td>19</td>\n",
              "      <td>4</td>\n",
              "      <td>Regular</td>\n",
              "      <td>25</td>\n",
              "      <td>1</td>\n",
              "      <td>Alfa Romeo</td>\n",
              "      <td>Spider Veloce 2000</td>\n",
              "      <td>Y</td>\n",
              "      <td>Manual 5-spd</td>\n",
              "      <td>1985</td>\n",
              "    </tr>\n",
              "    <tr>\n",
              "      <th>1</th>\n",
              "      <td>9</td>\n",
              "      <td>12</td>\n",
              "      <td>Regular</td>\n",
              "      <td>14</td>\n",
              "      <td>10</td>\n",
              "      <td>Ferrari</td>\n",
              "      <td>Testarossa</td>\n",
              "      <td>N</td>\n",
              "      <td>Manual 5-spd</td>\n",
              "      <td>1985</td>\n",
              "    </tr>\n",
              "    <tr>\n",
              "      <th>2</th>\n",
              "      <td>23</td>\n",
              "      <td>4</td>\n",
              "      <td>Regular</td>\n",
              "      <td>33</td>\n",
              "      <td>100</td>\n",
              "      <td>Dodge</td>\n",
              "      <td>Charger</td>\n",
              "      <td>Y</td>\n",
              "      <td>Manual 5-spd</td>\n",
              "      <td>1985</td>\n",
              "    </tr>\n",
              "    <tr>\n",
              "      <th>3</th>\n",
              "      <td>10</td>\n",
              "      <td>8</td>\n",
              "      <td>Regular</td>\n",
              "      <td>12</td>\n",
              "      <td>1000</td>\n",
              "      <td>Dodge</td>\n",
              "      <td>B150/B250 Wagon 2WD</td>\n",
              "      <td>N</td>\n",
              "      <td>Automatic 3-spd</td>\n",
              "      <td>1985</td>\n",
              "    </tr>\n",
              "    <tr>\n",
              "      <th>4</th>\n",
              "      <td>17</td>\n",
              "      <td>4</td>\n",
              "      <td>Premium</td>\n",
              "      <td>23</td>\n",
              "      <td>10000</td>\n",
              "      <td>Subaru</td>\n",
              "      <td>Legacy AWD Turbo</td>\n",
              "      <td>N</td>\n",
              "      <td>Manual 5-spd</td>\n",
              "      <td>1993</td>\n",
              "    </tr>\n",
              "  </tbody>\n",
              "</table>\n",
              "</div>"
            ],
            "text/plain": [
              "   city08  cylinders fuelType  highway08     id        make  \\\n",
              "0      19          4  Regular         25      1  Alfa Romeo   \n",
              "1       9         12  Regular         14     10     Ferrari   \n",
              "2      23          4  Regular         33    100       Dodge   \n",
              "3      10          8  Regular         12   1000       Dodge   \n",
              "4      17          4  Premium         23  10000      Subaru   \n",
              "\n",
              "                 model mpgData            trany  year  \n",
              "0   Spider Veloce 2000       Y     Manual 5-spd  1985  \n",
              "1           Testarossa       N     Manual 5-spd  1985  \n",
              "2              Charger       Y     Manual 5-spd  1985  \n",
              "3  B150/B250 Wagon 2WD       N  Automatic 3-spd  1985  \n",
              "4     Legacy AWD Turbo       N     Manual 5-spd  1993  "
            ]
          },
          "execution_count": 44,
          "metadata": {},
          "output_type": "execute_result"
        }
      ],
      "source": [
        "# In this homework, we're using Fuel Economy Data from the EPA.\n",
        "column_subset = [\n",
        "  \"id\",\n",
        "  \"make\",\n",
        "  \"model\",\n",
        "  \"year\",\n",
        "  \"cylinders\",\n",
        "  \"fuelType\",\n",
        "  \"trany\",\n",
        "  \"mpgData\",\n",
        "  \"city08\",\n",
        "  \"highway08\"\n",
        "]\n",
        "\n",
        "df = pd.read_csv(\n",
        "  \"https://www.fueleconomy.gov/feg/epadata/vehicles.csv\",\n",
        "  usecols=column_subset,\n",
        "  nrows=100\n",
        ")\n",
        "\n",
        "df.head()"
      ]
    },
    {
      "cell_type": "markdown",
      "metadata": {
        "id": "t8qa1y9W6u-l"
      },
      "source": [
        "##Question 1\n",
        "\n",
        "Please fill in the code below to produce a scatter plot where number of cylinders is the independent variable (x variable) and highway mileage is the dependent variable (y variable)."
      ]
    },
    {
      "cell_type": "code",
      "execution_count": 45,
      "metadata": {
        "colab": {
          "base_uri": "https://localhost:8080/",
          "height": 143
        },
        "id": "Ur3fHM9047kE",
        "outputId": "ed63f921-dc00-4c59-b770-f987080bb848"
      },
      "outputs": [
        {
          "data": {
            "image/png": "[encoded data removed]",
            "text/plain": [
              "<Figure size 640x480 with 1 Axes>"
            ]
          },
          "metadata": {},
          "output_type": "display_data"
        }
      ],
      "source": [
        "cylinders = df['cylinders']\n",
        "highway_mileage = df['highway08']\n",
        "plt.scatter(cylinders, highway_mileage)\n",
        "plt.title('Number of Cylinders vs. Highway MPG')\n",
        "plt.xlabel('Cylinder Count')\n",
        "plt.ylabel('Highway MPG');\n"
      ]
    },
    {
      "cell_type": "markdown",
      "metadata": {
        "id": "AOCYE1mO8yf_"
      },
      "source": [
        "##Question 2\n",
        "\n",
        "In one sentence, please describe the relationship between cylinder count and highway MPG."
      ]
    },
    {
      "cell_type": "markdown",
      "metadata": {
        "id": "zSN8Kbwp87RR"
      },
      "source": [
        "**Write answer here.**\n",
        "\n",
        "the generel trend seems to be the higer the **Cylinder** the lower the **MPG**"
      ]
    },
    {
      "cell_type": "markdown",
      "metadata": {
        "id": "zxrs4x0s9WKP"
      },
      "source": [
        "Let's build a simple linear regression model that fits the relationship between cylinders and highway MPG. In other words, we want to build a linear model that can be used to predict highway MPG from cylinder count."
      ]
    },
    {
      "cell_type": "markdown",
      "metadata": {
        "id": "8ShWPcj69nwJ"
      },
      "source": [
        "#**Step 1: Creating the design matrix**"
      ]
    },
    {
      "cell_type": "markdown",
      "metadata": {
        "id": "nU9u-5Kxxj6l"
      },
      "source": [
        "## Question 3\n",
        "\n",
        "Please fill in the code below so the dataframe ```data``` contains only the cylinder and highway columns."
      ]
    },
    {
      "cell_type": "code",
      "execution_count": 46,
      "metadata": {
        "id": "mw1zxMkE7tw5"
      },
      "outputs": [
        {
          "data": {
            "text/html": [
              "<div>\n",
              "<style scoped>\n",
              "    .dataframe tbody tr th:only-of-type {\n",
              "        vertical-align: middle;\n",
              "    }\n",
              "\n",
              "    .dataframe tbody tr th {\n",
              "        vertical-align: top;\n",
              "    }\n",
              "\n",
              "    .dataframe thead th {\n",
              "        text-align: right;\n",
              "    }\n",
              "</style>\n",
              "<table border=\"1\" class=\"dataframe\">\n",
              "  <thead>\n",
              "    <tr style=\"text-align: right;\">\n",
              "      <th></th>\n",
              "      <th>cylinders</th>\n",
              "      <th>highway08</th>\n",
              "    </tr>\n",
              "  </thead>\n",
              "  <tbody>\n",
              "    <tr>\n",
              "      <th>0</th>\n",
              "      <td>4</td>\n",
              "      <td>25</td>\n",
              "    </tr>\n",
              "    <tr>\n",
              "      <th>1</th>\n",
              "      <td>12</td>\n",
              "      <td>14</td>\n",
              "    </tr>\n",
              "    <tr>\n",
              "      <th>2</th>\n",
              "      <td>4</td>\n",
              "      <td>33</td>\n",
              "    </tr>\n",
              "    <tr>\n",
              "      <th>3</th>\n",
              "      <td>8</td>\n",
              "      <td>12</td>\n",
              "    </tr>\n",
              "    <tr>\n",
              "      <th>4</th>\n",
              "      <td>4</td>\n",
              "      <td>23</td>\n",
              "    </tr>\n",
              "  </tbody>\n",
              "</table>\n",
              "</div>"
            ],
            "text/plain": [
              "   cylinders  highway08\n",
              "0          4         25\n",
              "1         12         14\n",
              "2          4         33\n",
              "3          8         12\n",
              "4          4         23"
            ]
          },
          "execution_count": 46,
          "metadata": {},
          "output_type": "execute_result"
        }
      ],
      "source": [
        "#start by slicing the dataframe to contain only the cylinder and highway columns\n",
        "#hint: consider using .loc or .iloc!!\n",
        "data = df.loc[:,['cylinders', 'highway08']]\n",
        "data.head()"
      ]
    },
    {
      "cell_type": "markdown",
      "metadata": {
        "id": "xPRhjGZHxz8i"
      },
      "source": [
        "## Question 4\n",
        "\n",
        "Please fill in the code below to convert ```data``` into a numpy array called ```X```."
      ]
    },
    {
      "cell_type": "code",
      "execution_count": 47,
      "metadata": {
        "id": "NlAcqWeV-Nyd"
      },
      "outputs": [
        {
          "data": {
            "text/plain": [
              "array([[ 4, 25],\n",
              "       [12, 14],\n",
              "       [ 4, 33],\n",
              "       [ 8, 12],\n",
              "       [ 4, 23],\n",
              "       [ 4, 24],\n",
              "       [ 4, 29],\n",
              "       [ 4, 26],\n",
              "       [ 4, 31],\n",
              "       [ 4, 30],\n",
              "       [ 4, 30],\n",
              "       [ 4, 26],\n",
              "       [ 4, 29],\n",
              "       [ 4, 26],\n",
              "       [ 8, 15],\n",
              "       [ 4, 28],\n",
              "       [ 4, 23],\n",
              "       [ 4, 26],\n",
              "       [ 6, 22],\n",
              "       [ 6, 24],\n",
              "       [ 8, 20],\n",
              "       [ 8, 20],\n",
              "       [12, 17],\n",
              "       [ 4, 28],\n",
              "       [ 6, 24],\n",
              "       [ 8, 17],\n",
              "       [ 6, 26],\n",
              "       [ 6, 25],\n",
              "       [ 6, 27],\n",
              "       [ 6, 26],\n",
              "       [ 6, 25],\n",
              "       [ 8, 23],\n",
              "       [ 8, 23],\n",
              "       [ 8, 23],\n",
              "       [ 8, 23],\n",
              "       [ 4, 26],\n",
              "       [ 8, 17],\n",
              "       [ 6, 25],\n",
              "       [ 6, 27],\n",
              "       [ 6, 24],\n",
              "       [ 6, 24],\n",
              "       [ 6, 24],\n",
              "       [ 6, 19],\n",
              "       [ 6, 19],\n",
              "       [ 6, 23],\n",
              "       [ 6, 24],\n",
              "       [ 6, 24],\n",
              "       [ 8, 11],\n",
              "       [ 4, 24],\n",
              "       [ 6, 26],\n",
              "       [ 6, 24],\n",
              "       [ 4, 24],\n",
              "       [ 4, 26],\n",
              "       [ 4, 29],\n",
              "       [ 6, 24],\n",
              "       [ 6, 26],\n",
              "       [ 6, 27],\n",
              "       [ 6, 24],\n",
              "       [ 8, 11],\n",
              "       [ 6, 25],\n",
              "       [ 6, 24],\n",
              "       [ 6, 21],\n",
              "       [ 6, 22],\n",
              "       [ 8, 22],\n",
              "       [ 4, 25],\n",
              "       [ 4, 24],\n",
              "       [ 6, 22],\n",
              "       [ 8, 20],\n",
              "       [ 8, 18],\n",
              "       [ 8, 11],\n",
              "       [ 8, 22],\n",
              "       [ 6, 24],\n",
              "       [ 8, 22],\n",
              "       [ 6, 27],\n",
              "       [ 6, 25],\n",
              "       [ 4, 28],\n",
              "       [ 4, 31],\n",
              "       [ 6, 23],\n",
              "       [ 6, 24],\n",
              "       [ 6, 22],\n",
              "       [ 8, 10],\n",
              "       [ 4, 28],\n",
              "       [ 6, 24],\n",
              "       [ 6, 26],\n",
              "       [ 6, 25],\n",
              "       [ 6, 27],\n",
              "       [ 6, 24],\n",
              "       [ 6, 24],\n",
              "       [ 6, 25],\n",
              "       [ 4, 24],\n",
              "       [ 4, 26],\n",
              "       [ 6, 15],\n",
              "       [ 4, 29],\n",
              "       [ 6, 24],\n",
              "       [ 6, 26],\n",
              "       [ 6, 25],\n",
              "       [ 6, 27],\n",
              "       [ 6, 24],\n",
              "       [ 6, 24],\n",
              "       [ 8, 13]])"
            ]
          },
          "execution_count": 47,
          "metadata": {},
          "output_type": "execute_result"
        }
      ],
      "source": [
        "#convert the dataframe to a matrix (multidimensional numpy array) that can be manipulated\n",
        "X = data.values\n",
        "X"
      ]
    },
    {
      "cell_type": "code",
      "execution_count": 48,
      "metadata": {
        "id": "4SnYLOKh-zVQ"
      },
      "outputs": [
        {
          "data": {
            "text/plain": [
              "array([[ 4],\n",
              "       [12],\n",
              "       [ 4],\n",
              "       [ 8],\n",
              "       [ 4],\n",
              "       [ 4],\n",
              "       [ 4],\n",
              "       [ 4],\n",
              "       [ 4],\n",
              "       [ 4],\n",
              "       [ 4],\n",
              "       [ 4],\n",
              "       [ 4],\n",
              "       [ 4],\n",
              "       [ 8],\n",
              "       [ 4],\n",
              "       [ 4],\n",
              "       [ 4],\n",
              "       [ 6],\n",
              "       [ 6],\n",
              "       [ 8],\n",
              "       [ 8],\n",
              "       [12],\n",
              "       [ 4],\n",
              "       [ 6],\n",
              "       [ 8],\n",
              "       [ 6],\n",
              "       [ 6],\n",
              "       [ 6],\n",
              "       [ 6],\n",
              "       [ 6],\n",
              "       [ 8],\n",
              "       [ 8],\n",
              "       [ 8],\n",
              "       [ 8],\n",
              "       [ 4],\n",
              "       [ 8],\n",
              "       [ 6],\n",
              "       [ 6],\n",
              "       [ 6],\n",
              "       [ 6],\n",
              "       [ 6],\n",
              "       [ 6],\n",
              "       [ 6],\n",
              "       [ 6],\n",
              "       [ 6],\n",
              "       [ 6],\n",
              "       [ 8],\n",
              "       [ 4],\n",
              "       [ 6],\n",
              "       [ 6],\n",
              "       [ 4],\n",
              "       [ 4],\n",
              "       [ 4],\n",
              "       [ 6],\n",
              "       [ 6],\n",
              "       [ 6],\n",
              "       [ 6],\n",
              "       [ 8],\n",
              "       [ 6],\n",
              "       [ 6],\n",
              "       [ 6],\n",
              "       [ 6],\n",
              "       [ 8],\n",
              "       [ 4],\n",
              "       [ 4],\n",
              "       [ 6],\n",
              "       [ 8],\n",
              "       [ 8],\n",
              "       [ 8],\n",
              "       [ 8],\n",
              "       [ 6],\n",
              "       [ 8],\n",
              "       [ 6],\n",
              "       [ 6],\n",
              "       [ 4],\n",
              "       [ 4],\n",
              "       [ 6],\n",
              "       [ 6],\n",
              "       [ 6],\n",
              "       [ 8],\n",
              "       [ 4],\n",
              "       [ 6],\n",
              "       [ 6],\n",
              "       [ 6],\n",
              "       [ 6],\n",
              "       [ 6],\n",
              "       [ 6],\n",
              "       [ 6],\n",
              "       [ 4],\n",
              "       [ 4],\n",
              "       [ 6],\n",
              "       [ 4],\n",
              "       [ 6],\n",
              "       [ 6],\n",
              "       [ 6],\n",
              "       [ 6],\n",
              "       [ 6],\n",
              "       [ 6],\n",
              "       [ 8]])"
            ]
          },
          "execution_count": 48,
          "metadata": {},
          "output_type": "execute_result"
        }
      ],
      "source": [
        "#separate the features from the observed scores (target vector Y)\n",
        "#in this case, we only have one feature: cylinder count\n",
        "X = X[:, 0].reshape(X.shape[0], 1)\n",
        "X"
      ]
    },
    {
      "cell_type": "markdown",
      "metadata": {
        "id": "hCAArblpyDMY"
      },
      "source": [
        "## Question 5\n",
        "\n",
        "Please fill in the code below to modify ```X``` so it has 2 columns:\n",
        "1. Column one should contain all 1's (column of intercepts).\n",
        "2. Column two should be the column containing cylinder data."
      ]
    },
    {
      "cell_type": "code",
      "execution_count": 49,
      "metadata": {
        "id": "IKkOGEqz_2FU"
      },
      "outputs": [
        {
          "data": {
            "text/plain": [
              "array([[ 1.,  4.],\n",
              "       [ 1., 12.],\n",
              "       [ 1.,  4.],\n",
              "       [ 1.,  8.],\n",
              "       [ 1.,  4.],\n",
              "       [ 1.,  4.],\n",
              "       [ 1.,  4.],\n",
              "       [ 1.,  4.],\n",
              "       [ 1.,  4.],\n",
              "       [ 1.,  4.],\n",
              "       [ 1.,  4.],\n",
              "       [ 1.,  4.],\n",
              "       [ 1.,  4.],\n",
              "       [ 1.,  4.],\n",
              "       [ 1.,  8.],\n",
              "       [ 1.,  4.],\n",
              "       [ 1.,  4.],\n",
              "       [ 1.,  4.],\n",
              "       [ 1.,  6.],\n",
              "       [ 1.,  6.],\n",
              "       [ 1.,  8.],\n",
              "       [ 1.,  8.],\n",
              "       [ 1., 12.],\n",
              "       [ 1.,  4.],\n",
              "       [ 1.,  6.],\n",
              "       [ 1.,  8.],\n",
              "       [ 1.,  6.],\n",
              "       [ 1.,  6.],\n",
              "       [ 1.,  6.],\n",
              "       [ 1.,  6.],\n",
              "       [ 1.,  6.],\n",
              "       [ 1.,  8.],\n",
              "       [ 1.,  8.],\n",
              "       [ 1.,  8.],\n",
              "       [ 1.,  8.],\n",
              "       [ 1.,  4.],\n",
              "       [ 1.,  8.],\n",
              "       [ 1.,  6.],\n",
              "       [ 1.,  6.],\n",
              "       [ 1.,  6.],\n",
              "       [ 1.,  6.],\n",
              "       [ 1.,  6.],\n",
              "       [ 1.,  6.],\n",
              "       [ 1.,  6.],\n",
              "       [ 1.,  6.],\n",
              "       [ 1.,  6.],\n",
              "       [ 1.,  6.],\n",
              "       [ 1.,  8.],\n",
              "       [ 1.,  4.],\n",
              "       [ 1.,  6.],\n",
              "       [ 1.,  6.],\n",
              "       [ 1.,  4.],\n",
              "       [ 1.,  4.],\n",
              "       [ 1.,  4.],\n",
              "       [ 1.,  6.],\n",
              "       [ 1.,  6.],\n",
              "       [ 1.,  6.],\n",
              "       [ 1.,  6.],\n",
              "       [ 1.,  8.],\n",
              "       [ 1.,  6.],\n",
              "       [ 1.,  6.],\n",
              "       [ 1.,  6.],\n",
              "       [ 1.,  6.],\n",
              "       [ 1.,  8.],\n",
              "       [ 1.,  4.],\n",
              "       [ 1.,  4.],\n",
              "       [ 1.,  6.],\n",
              "       [ 1.,  8.],\n",
              "       [ 1.,  8.],\n",
              "       [ 1.,  8.],\n",
              "       [ 1.,  8.],\n",
              "       [ 1.,  6.],\n",
              "       [ 1.,  8.],\n",
              "       [ 1.,  6.],\n",
              "       [ 1.,  6.],\n",
              "       [ 1.,  4.],\n",
              "       [ 1.,  4.],\n",
              "       [ 1.,  6.],\n",
              "       [ 1.,  6.],\n",
              "       [ 1.,  6.],\n",
              "       [ 1.,  8.],\n",
              "       [ 1.,  4.],\n",
              "       [ 1.,  6.],\n",
              "       [ 1.,  6.],\n",
              "       [ 1.,  6.],\n",
              "       [ 1.,  6.],\n",
              "       [ 1.,  6.],\n",
              "       [ 1.,  6.],\n",
              "       [ 1.,  6.],\n",
              "       [ 1.,  4.],\n",
              "       [ 1.,  4.],\n",
              "       [ 1.,  6.],\n",
              "       [ 1.,  4.],\n",
              "       [ 1.,  6.],\n",
              "       [ 1.,  6.],\n",
              "       [ 1.,  6.],\n",
              "       [ 1.,  6.],\n",
              "       [ 1.,  6.],\n",
              "       [ 1.,  6.],\n",
              "       [ 1.,  8.]])"
            ]
          },
          "execution_count": 49,
          "metadata": {},
          "output_type": "execute_result"
        }
      ],
      "source": [
        "#add the intercept terms (column of 1's)\n",
        "X = np.hstack([np.ones((X.shape[0], 1)), X])\n",
        "X\n"
      ]
    },
    {
      "cell_type": "markdown",
      "metadata": {
        "id": "l702cgqACa_W"
      },
      "source": [
        "#**Step 2: Store the observed scores**"
      ]
    },
    {
      "cell_type": "markdown",
      "metadata": {
        "id": "AJJF0pkrz5BP"
      },
      "source": [
        "## Question 6\n",
        "\n",
        "Please fill in the code below to create the numpy array ```Y```.\n",
        "\n",
        "The shape of ```Y``` should be (X.shape[0], 1)."
      ]
    },
    {
      "cell_type": "code",
      "execution_count": 50,
      "metadata": {
        "id": "uq4R121rCSv0"
      },
      "outputs": [
        {
          "data": {
            "text/plain": [
              "array([[25],\n",
              "       [14],\n",
              "       [33],\n",
              "       [12],\n",
              "       [23],\n",
              "       [24],\n",
              "       [29],\n",
              "       [26],\n",
              "       [31],\n",
              "       [30],\n",
              "       [30],\n",
              "       [26],\n",
              "       [29],\n",
              "       [26],\n",
              "       [15],\n",
              "       [28],\n",
              "       [23],\n",
              "       [26],\n",
              "       [22],\n",
              "       [24],\n",
              "       [20],\n",
              "       [20],\n",
              "       [17],\n",
              "       [28],\n",
              "       [24],\n",
              "       [17],\n",
              "       [26],\n",
              "       [25],\n",
              "       [27],\n",
              "       [26],\n",
              "       [25],\n",
              "       [23],\n",
              "       [23],\n",
              "       [23],\n",
              "       [23],\n",
              "       [26],\n",
              "       [17],\n",
              "       [25],\n",
              "       [27],\n",
              "       [24],\n",
              "       [24],\n",
              "       [24],\n",
              "       [19],\n",
              "       [19],\n",
              "       [23],\n",
              "       [24],\n",
              "       [24],\n",
              "       [11],\n",
              "       [24],\n",
              "       [26],\n",
              "       [24],\n",
              "       [24],\n",
              "       [26],\n",
              "       [29],\n",
              "       [24],\n",
              "       [26],\n",
              "       [27],\n",
              "       [24],\n",
              "       [11],\n",
              "       [25],\n",
              "       [24],\n",
              "       [21],\n",
              "       [22],\n",
              "       [22],\n",
              "       [25],\n",
              "       [24],\n",
              "       [22],\n",
              "       [20],\n",
              "       [18],\n",
              "       [11],\n",
              "       [22],\n",
              "       [24],\n",
              "       [22],\n",
              "       [27],\n",
              "       [25],\n",
              "       [28],\n",
              "       [31],\n",
              "       [23],\n",
              "       [24],\n",
              "       [22],\n",
              "       [10],\n",
              "       [28],\n",
              "       [24],\n",
              "       [26],\n",
              "       [25],\n",
              "       [27],\n",
              "       [24],\n",
              "       [24],\n",
              "       [25],\n",
              "       [24],\n",
              "       [26],\n",
              "       [15],\n",
              "       [29],\n",
              "       [24],\n",
              "       [26],\n",
              "       [25],\n",
              "       [27],\n",
              "       [24],\n",
              "       [24],\n",
              "       [13]])"
            ]
          },
          "execution_count": 50,
          "metadata": {},
          "output_type": "execute_result"
        }
      ],
      "source": [
        "Y = data.iloc[:, 1].values.reshape(-1, 1)\n",
        "Y\n"
      ]
    },
    {
      "cell_type": "markdown",
      "metadata": {
        "id": "tH3dFR--D_1t"
      },
      "source": [
        "#**Step 3: Create a Linear Model That Fits Our Data**"
      ]
    },
    {
      "cell_type": "code",
      "execution_count": 51,
      "metadata": {
        "id": "jAYB42pADHXq"
      },
      "outputs": [],
      "source": [
        "from sklearn.linear_model import LinearRegression"
      ]
    },
    {
      "cell_type": "markdown",
      "metadata": {
        "id": "zn0intL90Ml_"
      },
      "source": [
        "## Question 7\n",
        "\n",
        "Please fill in the code below to instantiate a linear model and fit ```X``` to ```Y```."
      ]
    },
    {
      "cell_type": "code",
      "execution_count": 53,
      "metadata": {
        "id": "Buf9XRHuEDSI"
      },
      "outputs": [],
      "source": [
        "#creating a model instance and fitting it to our data (i.e. calculating the optimal beta values)\n",
        "model = LinearRegression().fit(X,Y)"
      ]
    },
    {
      "cell_type": "markdown",
      "metadata": {
        "id": "T_pTuNHmEUv3"
      },
      "source": [
        "#**Step 4: Observe Model Coefficients and Make Model Predictions**"
      ]
    },
    {
      "cell_type": "markdown",
      "metadata": {
        "id": "Nnklw_PD1VOv"
      },
      "source": [
        "## Question 8\n",
        "\n",
        "Please fill in the code below to observe the model coefficients and make predictions using ```X```."
      ]
    },
    {
      "cell_type": "code",
      "execution_count": 54,
      "metadata": {
        "id": "vzBH0mtFEIvh"
      },
      "outputs": [
        {
          "data": {
            "text/plain": [
              "array([[ 0.        , -1.97720819]])"
            ]
          },
          "execution_count": 54,
          "metadata": {},
          "output_type": "execute_result"
        }
      ],
      "source": [
        "#get model coefficients\n",
        "#the first coefficient (intercept) will be a 0 here because there is a separate method for extracting the intercept\n",
        "#the second coefficient (slope) is the one we care aobut here\n",
        "coefficients = model.coef_\n",
        "coefficients"
      ]
    },
    {
      "cell_type": "code",
      "execution_count": 55,
      "metadata": {
        "id": "MFuULPS7EqHF"
      },
      "outputs": [
        {
          "data": {
            "text/plain": [
              "array([35.21461665])"
            ]
          },
          "execution_count": 55,
          "metadata": {},
          "output_type": "execute_result"
        }
      ],
      "source": [
        "#get intercept term\n",
        "intercept_term = model.intercept_\n",
        "intercept_term"
      ]
    },
    {
      "cell_type": "code",
      "execution_count": 56,
      "metadata": {
        "id": "y2y8MgzrEunZ"
      },
      "outputs": [
        {
          "data": {
            "text/plain": [
              "array([[27.30578389],\n",
              "       [11.48811837],\n",
              "       [27.30578389],\n",
              "       [19.39695113],\n",
              "       [27.30578389],\n",
              "       [27.30578389],\n",
              "       [27.30578389],\n",
              "       [27.30578389],\n",
              "       [27.30578389],\n",
              "       [27.30578389],\n",
              "       [27.30578389],\n",
              "       [27.30578389],\n",
              "       [27.30578389],\n",
              "       [27.30578389],\n",
              "       [19.39695113],\n",
              "       [27.30578389],\n",
              "       [27.30578389],\n",
              "       [27.30578389],\n",
              "       [23.35136751],\n",
              "       [23.35136751],\n",
              "       [19.39695113],\n",
              "       [19.39695113],\n",
              "       [11.48811837],\n",
              "       [27.30578389],\n",
              "       [23.35136751],\n",
              "       [19.39695113],\n",
              "       [23.35136751],\n",
              "       [23.35136751],\n",
              "       [23.35136751],\n",
              "       [23.35136751],\n",
              "       [23.35136751],\n",
              "       [19.39695113],\n",
              "       [19.39695113],\n",
              "       [19.39695113],\n",
              "       [19.39695113],\n",
              "       [27.30578389],\n",
              "       [19.39695113],\n",
              "       [23.35136751],\n",
              "       [23.35136751],\n",
              "       [23.35136751],\n",
              "       [23.35136751],\n",
              "       [23.35136751],\n",
              "       [23.35136751],\n",
              "       [23.35136751],\n",
              "       [23.35136751],\n",
              "       [23.35136751],\n",
              "       [23.35136751],\n",
              "       [19.39695113],\n",
              "       [27.30578389],\n",
              "       [23.35136751],\n",
              "       [23.35136751],\n",
              "       [27.30578389],\n",
              "       [27.30578389],\n",
              "       [27.30578389],\n",
              "       [23.35136751],\n",
              "       [23.35136751],\n",
              "       [23.35136751],\n",
              "       [23.35136751],\n",
              "       [19.39695113],\n",
              "       [23.35136751],\n",
              "       [23.35136751],\n",
              "       [23.35136751],\n",
              "       [23.35136751],\n",
              "       [19.39695113],\n",
              "       [27.30578389],\n",
              "       [27.30578389],\n",
              "       [23.35136751],\n",
              "       [19.39695113],\n",
              "       [19.39695113],\n",
              "       [19.39695113],\n",
              "       [19.39695113],\n",
              "       [23.35136751],\n",
              "       [19.39695113],\n",
              "       [23.35136751],\n",
              "       [23.35136751],\n",
              "       [27.30578389],\n",
              "       [27.30578389],\n",
              "       [23.35136751],\n",
              "       [23.35136751],\n",
              "       [23.35136751],\n",
              "       [19.39695113],\n",
              "       [27.30578389],\n",
              "       [23.35136751],\n",
              "       [23.35136751],\n",
              "       [23.35136751],\n",
              "       [23.35136751],\n",
              "       [23.35136751],\n",
              "       [23.35136751],\n",
              "       [23.35136751],\n",
              "       [27.30578389],\n",
              "       [27.30578389],\n",
              "       [23.35136751],\n",
              "       [27.30578389],\n",
              "       [23.35136751],\n",
              "       [23.35136751],\n",
              "       [23.35136751],\n",
              "       [23.35136751],\n",
              "       [23.35136751],\n",
              "       [23.35136751],\n",
              "       [19.39695113]])"
            ]
          },
          "execution_count": 56,
          "metadata": {},
          "output_type": "execute_result"
        }
      ],
      "source": [
        "#make predictions using the data we have\n",
        "preds = model.predict(X)\n",
        "preds"
      ]
    },
    {
      "cell_type": "markdown",
      "metadata": {
        "id": "RB-0__JXFHaj"
      },
      "source": [
        "#**Step 5: Evaluate Model Performance**"
      ]
    },
    {
      "cell_type": "markdown",
      "metadata": {
        "id": "j7n0kG2J4ozp"
      },
      "source": [
        "## Question 9\n",
        "\n",
        "Please fill in the code below to compute the R-squared value of the regression model. Consider using Sklearn's ```score``` function."
      ]
    },
    {
      "cell_type": "code",
      "execution_count": 57,
      "metadata": {
        "id": "8VSLsuPaE6fs"
      },
      "outputs": [
        {
          "data": {
            "text/plain": [
              "0.5081810424158184"
            ]
          },
          "execution_count": 57,
          "metadata": {},
          "output_type": "execute_result"
        }
      ],
      "source": [
        "#evaluate model performance\n",
        "r_sq = model.score(X, Y)\n",
        "r_sq"
      ]
    },
    {
      "cell_type": "markdown",
      "metadata": {
        "id": "ZGvbD35DFPva"
      },
      "source": [
        "## Question 10\n",
        "\n",
        "In one sentence, interpret the meaning of the coefficient of determination we obtained above."
      ]
    },
    {
      "cell_type": "markdown",
      "metadata": {
        "id": "YHFFwD88Faqa"
      },
      "source": [
        "**Write answer here.**\n",
        "\n",
        "it shows how good the model fits the data"
      ]
    },
    {
      "cell_type": "markdown",
      "metadata": {
        "id": "a0kPHN5TN6VA"
      },
      "source": [
        "# **Model Visualization**"
      ]
    },
    {
      "cell_type": "markdown",
      "metadata": {
        "id": "_a5A3-yfNrKY"
      },
      "source": [
        "Below, we add our model predictions to the scatterplot generated above."
      ]
    },
    {
      "cell_type": "code",
      "execution_count": 58,
      "metadata": {
        "id": "pv_-pOSJN0AI"
      },
      "outputs": [
        {
          "data": {
            "text/plain": [
              "''"
            ]
          },
          "execution_count": 58,
          "metadata": {},
          "output_type": "execute_result"
        },
        {
          "data": {
            "image/png": "[encoded data removed]",
            "text/plain": [
              "<Figure size 640x480 with 1 Axes>"
            ]
          },
          "metadata": {},
          "output_type": "display_data"
        }
      ],
      "source": [
        "cylinders = df['cylinders']\n",
        "highway_mileage = df['highway08']\n",
        "plt.scatter(cylinders, highway_mileage)\n",
        "plt.title('Number of Cylinders vs. Highway MPG')\n",
        "plt.xlabel('Cylinder Count')\n",
        "plt.ylabel('Highway MPG')\n",
        "\n",
        "#add least-squares regression line\n",
        "plt.plot(cylinders, preds);\n",
        ";"
      ]
    },
    {
      "cell_type": "markdown",
      "metadata": {
        "id": "xlRyErSiFnfH"
      },
      "source": [
        "# **Comparing Methods of Finding Our Model Parameters**"
      ]
    },
    {
      "cell_type": "markdown",
      "metadata": {
        "id": "ZUv68GCNFszn"
      },
      "source": [
        "## *Method 1*\n",
        "\n",
        "$$ \\beta_1 = r * (\\sigma_y / \\sigma_x) $$\n",
        "$$ \\beta_0 = \\bar y - \\beta_1 * \\bar x $$"
      ]
    },
    {
      "cell_type": "markdown",
      "metadata": {
        "id": "OSsGW2kv5YfE"
      },
      "source": [
        "## Question 11\n",
        "\n",
        "Please fill in the code cells below to compute $$ r, \\bar y, \\sigma_y, \\bar x, \\sigma_x, \\beta_0, \\beta_1 $$"
      ]
    },
    {
      "cell_type": "code",
      "execution_count": 59,
      "metadata": {
        "id": "hCkphIQeFNpK"
      },
      "outputs": [
        {
          "data": {
            "text/plain": [
              "np.float64(-0.7128681802520156)"
            ]
          },
          "execution_count": 59,
          "metadata": {},
          "output_type": "execute_result"
        }
      ],
      "source": [
        "#compute the correlation coefficient r between cylinders and highway_mileage using Pandas\n",
        "r = df['cylinders'].corr(df['highway08'])\n",
        "r"
      ]
    },
    {
      "cell_type": "code",
      "execution_count": 60,
      "metadata": {
        "id": "oVr5R2XtH_Y9"
      },
      "outputs": [
        {
          "data": {
            "text/plain": [
              "(np.float64(1.6442123778375906), np.float64(4.560380544107115))"
            ]
          },
          "execution_count": 60,
          "metadata": {},
          "output_type": "execute_result"
        }
      ],
      "source": [
        "#compute standard deviation of cylinders and highway_mileage using Pandas\n",
        "cylinder_sdev= df['cylinders'].std()\n",
        "highway_mileage_sdev = df['highway08'].std()\n",
        "cylinder_sdev, highway_mileage_sdev"
      ]
    },
    {
      "cell_type": "code",
      "execution_count": 61,
      "metadata": {
        "id": "IVAxFf2dInw2"
      },
      "outputs": [
        {
          "data": {
            "text/plain": [
              "np.float64(-1.977208190106116)"
            ]
          },
          "execution_count": 61,
          "metadata": {},
          "output_type": "execute_result"
        }
      ],
      "source": [
        "#compute the slope parameter of our model\n",
        "beta_1 =  r * (highway_mileage_sdev/ cylinder_sdev)\n",
        "beta_1"
      ]
    },
    {
      "cell_type": "code",
      "execution_count": 62,
      "metadata": {
        "id": "gzmiSuD0I_ia"
      },
      "outputs": [
        {
          "data": {
            "text/plain": [
              "(np.float64(5.94), np.float64(23.47))"
            ]
          },
          "execution_count": 62,
          "metadata": {},
          "output_type": "execute_result"
        }
      ],
      "source": [
        "#compute the mean of cylinders and highway_mileage using Pandas\n",
        "cylinder_mean = df['cylinders'].mean()\n",
        "highway_mileage_mean = df['highway08'].mean()\n",
        "cylinder_mean, highway_mileage_mean"
      ]
    },
    {
      "cell_type": "code",
      "execution_count": 64,
      "metadata": {
        "id": "Toih1wf5KDrn"
      },
      "outputs": [
        {
          "data": {
            "text/plain": [
              "np.float64(35.21461664923033)"
            ]
          },
          "execution_count": 64,
          "metadata": {},
          "output_type": "execute_result"
        }
      ],
      "source": [
        "#compute the intercept paramter of our model\n",
        "beta_0 = highway_mileage_mean - beta_1 * cylinder_mean\n",
        "beta_0"
      ]
    },
    {
      "cell_type": "markdown",
      "metadata": {
        "id": "wYB6sC1TKi9V"
      },
      "source": [
        "## Question 12\n",
        "\n",
        "Please compare the model parameters produced using Sklearn with the parameters computed through Method 1 above."
      ]
    },
    {
      "cell_type": "markdown",
      "metadata": {
        "id": "2SCuFHmsKru6"
      },
      "source": [
        "**Write answer here.**\n",
        "\n",
        "skelarn \n",
        "\n",
        "-1.97720819\n",
        "\n",
        "35.21461665\n",
        "\n",
        "method 1\n",
        "\n",
        "-1.977208190106116\n",
        "\n",
        "35.21461664923033"
      ]
    },
    {
      "cell_type": "markdown",
      "metadata": {
        "id": "TeWEuVTbK0GO"
      },
      "source": [
        "##*Method 2*\n",
        "\n",
        "$$ \\hat \\beta = (X^T X)^{-1}X^T Y $$"
      ]
    },
    {
      "cell_type": "markdown",
      "metadata": {
        "id": "_z7qoZh_L-mZ"
      },
      "source": [
        "We will now use the analytical solution to compute the model parameters."
      ]
    },
    {
      "cell_type": "code",
      "execution_count": 65,
      "metadata": {
        "id": "Zts8SpmUKTee"
      },
      "outputs": [
        {
          "data": {
            "text/plain": [
              "array([[35.21461665],\n",
              "       [-1.97720819]])"
            ]
          },
          "execution_count": 65,
          "metadata": {},
          "output_type": "execute_result"
        }
      ],
      "source": [
        "beta_hat = np.linalg.inv(X.T @ X) @ X.T @ Y\n",
        "beta_hat"
      ]
    },
    {
      "cell_type": "markdown",
      "metadata": {
        "id": "8z-Nww8GMmQg"
      },
      "source": [
        "##Question 13\n",
        "\n",
        "Please compare the model parameters we have obtained using Method 2 with those obtained using Sklearn and Method 1."
      ]
    },
    {
      "cell_type": "markdown",
      "metadata": {
        "id": "t1l1WOy0MvRq"
      },
      "source": [
        "**Write answer here.**\n",
        "\n",
        "\n",
        "skelarn \n",
        "\n",
        "[-1.97720819]\n",
        "\n",
        "[35.21461665]\n",
        "\n",
        "method 1\n",
        "\n",
        "[-1.977208190106116]\n",
        "\n",
        "[35.21461664923033]\n",
        "\n",
        "method 2 \n",
        "\n",
        "[35.21461665]\n",
        "\n",
        "[-1.97720819]"
      ]
    },
    {
      "cell_type": "markdown",
      "metadata": {
        "id": "U38d7FeeNAK2"
      },
      "source": [
        "## Question 14\n",
        "\n",
        "In a few sentences, describe the relationship between simple linear regression and multiple linear regression."
      ]
    },
    {
      "cell_type": "markdown",
      "metadata": {
        "id": "69Jw9tPTNM4D"
      },
      "source": [
        "**Write answer here.**\n",
        "\n",
        "\n",
        "Simple linear regression looks at the relationship between one independent variable (like the number of cylinders) and one dependent variable (like highway MPG). Multiple linear regression looks at the relationship between more than one independent variable (like cylinders, fuel type, and year) and the dependent variable. Both try to predict the outcome, but multiple linear regression uses more factors to make better predictions."
      ]
    }
  ],
  "metadata": {
    "colab": {
      "provenance": []
    },
    "kernelspec": {
      "display_name": "env",
      "language": "python",
      "name": "python3"
    },
    "language_info": {
      "codemirror_mode": {
        "name": "ipython",
        "version": 3
      },
      "file_extension": ".py",
      "mimetype": "text/x-python",
      "name": "python",
      "nbconvert_exporter": "python",
      "pygments_lexer": "ipython3",
      "version": "3.12.7"
    }
  },
  "nbformat": 4,
  "nbformat_minor": 0
}
