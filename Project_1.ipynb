{
  "cells": [
    {
      "cell_type": "markdown",
      "metadata": {
        "id": "19xq9JNJVYry"
      },
      "source": [
        "# **Project 1**"
      ]
    },
    {
      "cell_type": "markdown",
      "metadata": {
        "id": "w3jZuVXjVUJO"
      },
      "source": [
        "# Learning Objectives\n",
        "\n",
        "- Explore and glean insights from a real dataset using pandas\n",
        "- Practice using pandas for exploratory analysis, information gathering, and discovery\n",
        "- Practice cleaning data and answering questions"
      ]
    },
    {
      "cell_type": "markdown",
      "metadata": {
        "id": "l_vQl8tAV_hl"
      },
      "source": [
        "# Dataset\n",
        "\n",
        "You are to analyze campaign contributions to the 2016 U.S. presidential primary races made in California. Use the csv file located here: https://drive.google.com/file/d/1Lgg-PwXQ6TQLDowd6XyBxZw5g1NGWPjB/view?usp=sharing. You should download and save this file in the same folder as this notebook is stored.  This file originally came from the U.S. Federal Election Commission (https://www.fec.gov/).\n",
        "\n",
        "Documentation for this data can be found here: https://drive.google.com/file/d/11o_SByceenv0NgNMstM-dxC1jL7I9fHL/view?usp=sharing"
      ]
    },
    {
      "cell_type": "markdown",
      "metadata": {
        "id": "Ool6kAGn8Pd6"
      },
      "source": [
        "When you upload the dataset to Colab, it will take approximately 2-3 minutes to load. **Do not run the code cell under \"Setup\" once the data has fully uploaded.**"
      ]
    },
    {
      "cell_type": "markdown",
      "metadata": {
        "id": "bAAfVfdmWG6b"
      },
      "source": [
        "# Data Questions\n",
        "\n",
        "You are working for a California state-wide election campaign. Your boss wants you to examine historic 2016 election contribution data to see what zipcodes are more supportive of fundraising for your candidate.\n",
        "\n",
        "Your boss asks you to filter out some of the records:\n",
        "- Only use primary 2016 contribution data.\n",
        "- Concentrate on Bernie Sanders as a candidate.\n",
        "\n",
        "The questions your boss wants answered is:\n",
        "- Which zipcode (5-digit zipcode) had the highest count of contributions and the most dollar amount?\n",
        "- What day(s) of the month do most people donate?"
      ]
    },
    {
      "cell_type": "markdown",
      "metadata": {
        "id": "aFOPAFYuW5uA"
      },
      "source": [
        "# Setup\n",
        "\n",
        "Run the cell below as it will load the data into a pandas dataframe named `contrib`. Note that a custom date parser is defined to speed up loading. If Python were to guess the date format, it would take even longer to load."
      ]
    },
    {
      "cell_type": "code",
      "execution_count": 2,
      "metadata": {
        "colab": {
          "base_uri": "https://localhost:8080/"
        },
        "id": "E8fo_GckVC8J",
        "outputId": "311d7061-b366-430c-b03f-ec29942120dd"
      },
      "outputs": [
        {
          "name": "stderr",
          "output_type": "stream",
          "text": [
            "C:\\Users\\idree\\AppData\\Local\\Temp\\ipykernel_21884\\2064147930.py:14: FutureWarning: The argument 'date_parser' is deprecated and will be removed in a future version. Please use 'date_format' instead, or read your data in as 'object' dtype and then call 'to_datetime'.\n",
            "  contrib = pd.read_csv('P00000001-CA.csv', index_col=False, parse_dates=['contb_receipt_dt'], date_parser=d)\n",
            "C:\\Users\\idree\\AppData\\Local\\Temp\\ipykernel_21884\\2064147930.py:14: DtypeWarning: Columns (6,11,12) have mixed types. Specify dtype option on import or set low_memory=False.\n",
            "  contrib = pd.read_csv('P00000001-CA.csv', index_col=False, parse_dates=['contb_receipt_dt'], date_parser=d)\n"
          ]
        }
      ],
      "source": [
        "import pandas as pd\n",
        "import numpy as np\n",
        "from datetime import datetime\n",
        "\n",
        "# These commands below set some options for pandas and to have matplotlib show the charts in the notebook\n",
        "pd.set_option('display.max_rows', 1000)\n",
        "pd.options.display.float_format = '{:,.2f}'.format\n",
        "\n",
        "# Define a date parser to pass to read_csv\n",
        "d = lambda x: datetime.strptime(x, '%d-%b-%y')\n",
        "\n",
        "# Load the data\n",
        "# We have this defaulted to the folder OUTSIDE of your repo - please change it as needed\n",
        "contrib = pd.read_csv('P00000001-CA.csv', index_col=False, parse_dates=['contb_receipt_dt'], date_parser=d)\n",
        "\n",
        "# Note - for now, it is okay to ignore the warning about mixed types."
      ]
    },
    {
      "cell_type": "markdown",
      "metadata": {
        "id": "APbuIOyz-mhu"
      },
      "source": [
        "**For all questions, please do not alter any cells that already exist. However, you can add as many code or text cells as you need to answer the questions.**"
      ]
    },
    {
      "cell_type": "markdown",
      "metadata": {
        "id": "fPT905WLXaan"
      },
      "source": [
        "***\n",
        "# **Part 1: Initial Data Checks (50 points)**\n",
        "\n",
        "First, we will take a preliminary look at the data to check that it was loaded correctly and contains the info we need."
      ]
    },
    {
      "cell_type": "code",
      "execution_count": 5,
      "metadata": {},
      "outputs": [
        {
          "data": {
            "text/html": [
              "<div>\n",
              "<style scoped>\n",
              "    .dataframe tbody tr th:only-of-type {\n",
              "        vertical-align: middle;\n",
              "    }\n",
              "\n",
              "    .dataframe tbody tr th {\n",
              "        vertical-align: top;\n",
              "    }\n",
              "\n",
              "    .dataframe thead th {\n",
              "        text-align: right;\n",
              "    }\n",
              "</style>\n",
              "<table border=\"1\" class=\"dataframe\">\n",
              "  <thead>\n",
              "    <tr style=\"text-align: right;\">\n",
              "      <th></th>\n",
              "      <th>cmte_id</th>\n",
              "      <th>cand_id</th>\n",
              "      <th>cand_nm</th>\n",
              "      <th>contbr_nm</th>\n",
              "      <th>contbr_city</th>\n",
              "      <th>contbr_st</th>\n",
              "      <th>contbr_zip</th>\n",
              "      <th>contbr_employer</th>\n",
              "      <th>contbr_occupation</th>\n",
              "      <th>contb_receipt_amt</th>\n",
              "      <th>contb_receipt_dt</th>\n",
              "      <th>receipt_desc</th>\n",
              "      <th>memo_cd</th>\n",
              "      <th>memo_text</th>\n",
              "      <th>form_tp</th>\n",
              "      <th>file_num</th>\n",
              "      <th>tran_id</th>\n",
              "      <th>election_tp</th>\n",
              "    </tr>\n",
              "  </thead>\n",
              "  <tbody>\n",
              "    <tr>\n",
              "      <th>0</th>\n",
              "      <td>C00575795</td>\n",
              "      <td>P00003392</td>\n",
              "      <td>Clinton, Hillary Rodham</td>\n",
              "      <td>AULL, ANNE</td>\n",
              "      <td>LARKSPUR</td>\n",
              "      <td>CA</td>\n",
              "      <td>949,391,913.00</td>\n",
              "      <td>NaN</td>\n",
              "      <td>RETIRED</td>\n",
              "      <td>50.00</td>\n",
              "      <td>2016-04-26</td>\n",
              "      <td>NaN</td>\n",
              "      <td>X</td>\n",
              "      <td>* HILLARY VICTORY FUND</td>\n",
              "      <td>SA18</td>\n",
              "      <td>1091718</td>\n",
              "      <td>C4768722</td>\n",
              "      <td>P2016</td>\n",
              "    </tr>\n",
              "    <tr>\n",
              "      <th>1</th>\n",
              "      <td>C00575795</td>\n",
              "      <td>P00003392</td>\n",
              "      <td>Clinton, Hillary Rodham</td>\n",
              "      <td>CARROLL, MARYJEAN</td>\n",
              "      <td>CAMBRIA</td>\n",
              "      <td>CA</td>\n",
              "      <td>934,284,638.00</td>\n",
              "      <td>NaN</td>\n",
              "      <td>RETIRED</td>\n",
              "      <td>200.00</td>\n",
              "      <td>2016-04-20</td>\n",
              "      <td>NaN</td>\n",
              "      <td>X</td>\n",
              "      <td>* HILLARY VICTORY FUND</td>\n",
              "      <td>SA18</td>\n",
              "      <td>1091718</td>\n",
              "      <td>C4747242</td>\n",
              "      <td>P2016</td>\n",
              "    </tr>\n",
              "    <tr>\n",
              "      <th>2</th>\n",
              "      <td>C00575795</td>\n",
              "      <td>P00003392</td>\n",
              "      <td>Clinton, Hillary Rodham</td>\n",
              "      <td>GANDARA, DESIREE</td>\n",
              "      <td>FONTANA</td>\n",
              "      <td>CA</td>\n",
              "      <td>923,371,507.00</td>\n",
              "      <td>NaN</td>\n",
              "      <td>RETIRED</td>\n",
              "      <td>5.00</td>\n",
              "      <td>2016-04-02</td>\n",
              "      <td>NaN</td>\n",
              "      <td>X</td>\n",
              "      <td>* HILLARY VICTORY FUND</td>\n",
              "      <td>SA18</td>\n",
              "      <td>1091718</td>\n",
              "      <td>C4666603</td>\n",
              "      <td>P2016</td>\n",
              "    </tr>\n",
              "    <tr>\n",
              "      <th>3</th>\n",
              "      <td>C00577130</td>\n",
              "      <td>P60007168</td>\n",
              "      <td>Sanders, Bernard</td>\n",
              "      <td>LEE, ALAN</td>\n",
              "      <td>CAMARILLO</td>\n",
              "      <td>CA</td>\n",
              "      <td>930,111,214.00</td>\n",
              "      <td>AT&amp;T GOVERNMENT SOLUTIONS</td>\n",
              "      <td>SOFTWARE ENGINEER</td>\n",
              "      <td>40.00</td>\n",
              "      <td>2016-03-04</td>\n",
              "      <td>NaN</td>\n",
              "      <td>NaN</td>\n",
              "      <td>* EARMARKED CONTRIBUTION: SEE BELOW</td>\n",
              "      <td>SA17A</td>\n",
              "      <td>1077404</td>\n",
              "      <td>VPF7BKWA097</td>\n",
              "      <td>P2016</td>\n",
              "    </tr>\n",
              "    <tr>\n",
              "      <th>4</th>\n",
              "      <td>C00577130</td>\n",
              "      <td>P60007168</td>\n",
              "      <td>Sanders, Bernard</td>\n",
              "      <td>LEONELLI, ODETTE</td>\n",
              "      <td>REDONDO BEACH</td>\n",
              "      <td>CA</td>\n",
              "      <td>902,784,310.00</td>\n",
              "      <td>VERICOR ENTERPRISES INC.</td>\n",
              "      <td>PHARMACIST</td>\n",
              "      <td>35.00</td>\n",
              "      <td>2016-03-05</td>\n",
              "      <td>NaN</td>\n",
              "      <td>NaN</td>\n",
              "      <td>* EARMARKED CONTRIBUTION: SEE BELOW</td>\n",
              "      <td>SA17A</td>\n",
              "      <td>1077404</td>\n",
              "      <td>VPF7BKX3MB3</td>\n",
              "      <td>P2016</td>\n",
              "    </tr>\n",
              "    <tr>\n",
              "      <th>...</th>\n",
              "      <td>...</td>\n",
              "      <td>...</td>\n",
              "      <td>...</td>\n",
              "      <td>...</td>\n",
              "      <td>...</td>\n",
              "      <td>...</td>\n",
              "      <td>...</td>\n",
              "      <td>...</td>\n",
              "      <td>...</td>\n",
              "      <td>...</td>\n",
              "      <td>...</td>\n",
              "      <td>...</td>\n",
              "      <td>...</td>\n",
              "      <td>...</td>\n",
              "      <td>...</td>\n",
              "      <td>...</td>\n",
              "      <td>...</td>\n",
              "      <td>...</td>\n",
              "    </tr>\n",
              "    <tr>\n",
              "      <th>1125654</th>\n",
              "      <td>C00573519</td>\n",
              "      <td>P60005915</td>\n",
              "      <td>Carson, Benjamin S.</td>\n",
              "      <td>HENDERSON, YVONNE MRS.</td>\n",
              "      <td>REDONDO BEACH</td>\n",
              "      <td>CA</td>\n",
              "      <td>902781750</td>\n",
              "      <td>RETIRED</td>\n",
              "      <td>RETIRED</td>\n",
              "      <td>200.00</td>\n",
              "      <td>2016-01-29</td>\n",
              "      <td>NaN</td>\n",
              "      <td>NaN</td>\n",
              "      <td>NaN</td>\n",
              "      <td>SA17A</td>\n",
              "      <td>1073637</td>\n",
              "      <td>SA17.1185074</td>\n",
              "      <td>P2016</td>\n",
              "    </tr>\n",
              "    <tr>\n",
              "      <th>1125655</th>\n",
              "      <td>C00573519</td>\n",
              "      <td>P60005915</td>\n",
              "      <td>Carson, Benjamin S.</td>\n",
              "      <td>HENDRICKS, JIM C. MR.</td>\n",
              "      <td>ETNA</td>\n",
              "      <td>CA</td>\n",
              "      <td>960270030</td>\n",
              "      <td>RETIRED</td>\n",
              "      <td>RETIRED</td>\n",
              "      <td>25.00</td>\n",
              "      <td>2016-01-06</td>\n",
              "      <td>NaN</td>\n",
              "      <td>NaN</td>\n",
              "      <td>NaN</td>\n",
              "      <td>SA17A</td>\n",
              "      <td>1073637</td>\n",
              "      <td>SA17.1120355</td>\n",
              "      <td>P2016</td>\n",
              "    </tr>\n",
              "    <tr>\n",
              "      <th>1125656</th>\n",
              "      <td>C00573519</td>\n",
              "      <td>P60005915</td>\n",
              "      <td>Carson, Benjamin S.</td>\n",
              "      <td>HENDRICKS, JIM C. MR.</td>\n",
              "      <td>ETNA</td>\n",
              "      <td>CA</td>\n",
              "      <td>960270030</td>\n",
              "      <td>RETIRED</td>\n",
              "      <td>RETIRED</td>\n",
              "      <td>25.00</td>\n",
              "      <td>2016-01-12</td>\n",
              "      <td>NaN</td>\n",
              "      <td>NaN</td>\n",
              "      <td>NaN</td>\n",
              "      <td>SA17A</td>\n",
              "      <td>1073637</td>\n",
              "      <td>SA17.1131185</td>\n",
              "      <td>P2016</td>\n",
              "    </tr>\n",
              "    <tr>\n",
              "      <th>1125657</th>\n",
              "      <td>C00573519</td>\n",
              "      <td>P60005915</td>\n",
              "      <td>Carson, Benjamin S.</td>\n",
              "      <td>HENDRICKS, JIM C. MR.</td>\n",
              "      <td>ETNA</td>\n",
              "      <td>CA</td>\n",
              "      <td>960270030</td>\n",
              "      <td>RETIRED</td>\n",
              "      <td>RETIRED</td>\n",
              "      <td>50.00</td>\n",
              "      <td>2016-01-21</td>\n",
              "      <td>NaN</td>\n",
              "      <td>NaN</td>\n",
              "      <td>NaN</td>\n",
              "      <td>SA17A</td>\n",
              "      <td>1073637</td>\n",
              "      <td>SA17.1156676</td>\n",
              "      <td>P2016</td>\n",
              "    </tr>\n",
              "    <tr>\n",
              "      <th>1125658</th>\n",
              "      <td>C00573519</td>\n",
              "      <td>P60005915</td>\n",
              "      <td>Carson, Benjamin S.</td>\n",
              "      <td>HENDRICKS, JIM C. MR.</td>\n",
              "      <td>ETNA</td>\n",
              "      <td>CA</td>\n",
              "      <td>960270030</td>\n",
              "      <td>RETIRED</td>\n",
              "      <td>RETIRED</td>\n",
              "      <td>50.00</td>\n",
              "      <td>2016-01-29</td>\n",
              "      <td>NaN</td>\n",
              "      <td>NaN</td>\n",
              "      <td>NaN</td>\n",
              "      <td>SA17A</td>\n",
              "      <td>1073637</td>\n",
              "      <td>SA17.1176690</td>\n",
              "      <td>P2016</td>\n",
              "    </tr>\n",
              "  </tbody>\n",
              "</table>\n",
              "<p>1125659 rows × 18 columns</p>\n",
              "</div>"
            ],
            "text/plain": [
              "           cmte_id    cand_id                  cand_nm  \\\n",
              "0        C00575795  P00003392  Clinton, Hillary Rodham   \n",
              "1        C00575795  P00003392  Clinton, Hillary Rodham   \n",
              "2        C00575795  P00003392  Clinton, Hillary Rodham   \n",
              "3        C00577130  P60007168         Sanders, Bernard   \n",
              "4        C00577130  P60007168         Sanders, Bernard   \n",
              "...            ...        ...                      ...   \n",
              "1125654  C00573519  P60005915      Carson, Benjamin S.   \n",
              "1125655  C00573519  P60005915      Carson, Benjamin S.   \n",
              "1125656  C00573519  P60005915      Carson, Benjamin S.   \n",
              "1125657  C00573519  P60005915      Carson, Benjamin S.   \n",
              "1125658  C00573519  P60005915      Carson, Benjamin S.   \n",
              "\n",
              "                      contbr_nm    contbr_city contbr_st     contbr_zip  \\\n",
              "0                    AULL, ANNE       LARKSPUR        CA 949,391,913.00   \n",
              "1             CARROLL, MARYJEAN        CAMBRIA        CA 934,284,638.00   \n",
              "2              GANDARA, DESIREE        FONTANA        CA 923,371,507.00   \n",
              "3                     LEE, ALAN      CAMARILLO        CA 930,111,214.00   \n",
              "4              LEONELLI, ODETTE  REDONDO BEACH        CA 902,784,310.00   \n",
              "...                         ...            ...       ...            ...   \n",
              "1125654  HENDERSON, YVONNE MRS.  REDONDO BEACH        CA      902781750   \n",
              "1125655   HENDRICKS, JIM C. MR.           ETNA        CA      960270030   \n",
              "1125656   HENDRICKS, JIM C. MR.           ETNA        CA      960270030   \n",
              "1125657   HENDRICKS, JIM C. MR.           ETNA        CA      960270030   \n",
              "1125658   HENDRICKS, JIM C. MR.           ETNA        CA      960270030   \n",
              "\n",
              "                   contbr_employer  contbr_occupation  contb_receipt_amt  \\\n",
              "0                              NaN            RETIRED              50.00   \n",
              "1                              NaN            RETIRED             200.00   \n",
              "2                              NaN            RETIRED               5.00   \n",
              "3        AT&T GOVERNMENT SOLUTIONS  SOFTWARE ENGINEER              40.00   \n",
              "4         VERICOR ENTERPRISES INC.         PHARMACIST              35.00   \n",
              "...                            ...                ...                ...   \n",
              "1125654                    RETIRED            RETIRED             200.00   \n",
              "1125655                    RETIRED            RETIRED              25.00   \n",
              "1125656                    RETIRED            RETIRED              25.00   \n",
              "1125657                    RETIRED            RETIRED              50.00   \n",
              "1125658                    RETIRED            RETIRED              50.00   \n",
              "\n",
              "        contb_receipt_dt receipt_desc memo_cd  \\\n",
              "0             2016-04-26          NaN       X   \n",
              "1             2016-04-20          NaN       X   \n",
              "2             2016-04-02          NaN       X   \n",
              "3             2016-03-04          NaN     NaN   \n",
              "4             2016-03-05          NaN     NaN   \n",
              "...                  ...          ...     ...   \n",
              "1125654       2016-01-29          NaN     NaN   \n",
              "1125655       2016-01-06          NaN     NaN   \n",
              "1125656       2016-01-12          NaN     NaN   \n",
              "1125657       2016-01-21          NaN     NaN   \n",
              "1125658       2016-01-29          NaN     NaN   \n",
              "\n",
              "                                   memo_text form_tp  file_num       tran_id  \\\n",
              "0                     * HILLARY VICTORY FUND    SA18   1091718      C4768722   \n",
              "1                     * HILLARY VICTORY FUND    SA18   1091718      C4747242   \n",
              "2                     * HILLARY VICTORY FUND    SA18   1091718      C4666603   \n",
              "3        * EARMARKED CONTRIBUTION: SEE BELOW   SA17A   1077404   VPF7BKWA097   \n",
              "4        * EARMARKED CONTRIBUTION: SEE BELOW   SA17A   1077404   VPF7BKX3MB3   \n",
              "...                                      ...     ...       ...           ...   \n",
              "1125654                                  NaN   SA17A   1073637  SA17.1185074   \n",
              "1125655                                  NaN   SA17A   1073637  SA17.1120355   \n",
              "1125656                                  NaN   SA17A   1073637  SA17.1131185   \n",
              "1125657                                  NaN   SA17A   1073637  SA17.1156676   \n",
              "1125658                                  NaN   SA17A   1073637  SA17.1176690   \n",
              "\n",
              "        election_tp  \n",
              "0             P2016  \n",
              "1             P2016  \n",
              "2             P2016  \n",
              "3             P2016  \n",
              "4             P2016  \n",
              "...             ...  \n",
              "1125654       P2016  \n",
              "1125655       P2016  \n",
              "1125656       P2016  \n",
              "1125657       P2016  \n",
              "1125658       P2016  \n",
              "\n",
              "[1125659 rows x 18 columns]"
            ]
          },
          "execution_count": 5,
          "metadata": {},
          "output_type": "execute_result"
        }
      ],
      "source": [
        "contrib"
      ]
    },
    {
      "cell_type": "markdown",
      "metadata": {
        "id": "solsuM4FXqib"
      },
      "source": [
        "**Question 1:**\n",
        "\n",
        "Print the *shape* of the data. Does this match the expectation? (2 points)"
      ]
    },
    {
      "cell_type": "markdown",
      "metadata": {},
      "source": [
        "**Answer 1**\n",
        "\n",
        "yes it does match the expectation"
      ]
    },
    {
      "cell_type": "code",
      "execution_count": 4,
      "metadata": {},
      "outputs": [
        {
          "data": {
            "text/plain": [
              "(1125659, 18)"
            ]
          },
          "execution_count": 4,
          "metadata": {},
          "output_type": "execute_result"
        }
      ],
      "source": [
        "contrib.shape"
      ]
    },
    {
      "cell_type": "markdown",
      "metadata": {
        "id": "acu0QqBuXqqm"
      },
      "source": [
        "**Question 2:**\n",
        "\n",
        "Print a list of column names. Are all the columns included that are in the documentation? (2 points)"
      ]
    },
    {
      "cell_type": "markdown",
      "metadata": {},
      "source": [
        "**Answer 2**\n",
        "\n",
        "Yes everything is included you can see it below"
      ]
    },
    {
      "cell_type": "code",
      "execution_count": 6,
      "metadata": {},
      "outputs": [
        {
          "data": {
            "text/plain": [
              "['cmte_id',\n",
              " 'cand_id',\n",
              " 'cand_nm',\n",
              " 'contbr_nm',\n",
              " 'contbr_city',\n",
              " 'contbr_st',\n",
              " 'contbr_zip',\n",
              " 'contbr_employer',\n",
              " 'contbr_occupation',\n",
              " 'contb_receipt_amt',\n",
              " 'contb_receipt_dt',\n",
              " 'receipt_desc',\n",
              " 'memo_cd',\n",
              " 'memo_text',\n",
              " 'form_tp',\n",
              " 'file_num',\n",
              " 'tran_id',\n",
              " 'election_tp']"
            ]
          },
          "execution_count": 6,
          "metadata": {},
          "output_type": "execute_result"
        }
      ],
      "source": [
        "contrib.columns.to_list()"
      ]
    },
    {
      "cell_type": "markdown",
      "metadata": {
        "id": "TntENaocXqtr"
      },
      "source": [
        "**Question 3:**\n",
        "\n",
        "Print out the first five rows of the dataset. How do the columns `cand_id`, `cand_nm` and `contbr_st` look? (3 points)"
      ]
    },
    {
      "cell_type": "markdown",
      "metadata": {},
      "source": [
        "**answer 3**\n",
        "\n",
        "Cand_id: is an unique id for each person like Hilary, Sanders\n",
        "cand_nm: this holds the first ,middle, and last name of the person\n",
        "contbr_st: i think this is the state name abbrevation like CA is Califronia "
      ]
    },
    {
      "cell_type": "code",
      "execution_count": 7,
      "metadata": {},
      "outputs": [
        {
          "data": {
            "text/html": [
              "<div>\n",
              "<style scoped>\n",
              "    .dataframe tbody tr th:only-of-type {\n",
              "        vertical-align: middle;\n",
              "    }\n",
              "\n",
              "    .dataframe tbody tr th {\n",
              "        vertical-align: top;\n",
              "    }\n",
              "\n",
              "    .dataframe thead th {\n",
              "        text-align: right;\n",
              "    }\n",
              "</style>\n",
              "<table border=\"1\" class=\"dataframe\">\n",
              "  <thead>\n",
              "    <tr style=\"text-align: right;\">\n",
              "      <th></th>\n",
              "      <th>cmte_id</th>\n",
              "      <th>cand_id</th>\n",
              "      <th>cand_nm</th>\n",
              "      <th>contbr_nm</th>\n",
              "      <th>contbr_city</th>\n",
              "      <th>contbr_st</th>\n",
              "      <th>contbr_zip</th>\n",
              "      <th>contbr_employer</th>\n",
              "      <th>contbr_occupation</th>\n",
              "      <th>contb_receipt_amt</th>\n",
              "      <th>contb_receipt_dt</th>\n",
              "      <th>receipt_desc</th>\n",
              "      <th>memo_cd</th>\n",
              "      <th>memo_text</th>\n",
              "      <th>form_tp</th>\n",
              "      <th>file_num</th>\n",
              "      <th>tran_id</th>\n",
              "      <th>election_tp</th>\n",
              "    </tr>\n",
              "  </thead>\n",
              "  <tbody>\n",
              "    <tr>\n",
              "      <th>0</th>\n",
              "      <td>C00575795</td>\n",
              "      <td>P00003392</td>\n",
              "      <td>Clinton, Hillary Rodham</td>\n",
              "      <td>AULL, ANNE</td>\n",
              "      <td>LARKSPUR</td>\n",
              "      <td>CA</td>\n",
              "      <td>949,391,913.00</td>\n",
              "      <td>NaN</td>\n",
              "      <td>RETIRED</td>\n",
              "      <td>50.00</td>\n",
              "      <td>2016-04-26</td>\n",
              "      <td>NaN</td>\n",
              "      <td>X</td>\n",
              "      <td>* HILLARY VICTORY FUND</td>\n",
              "      <td>SA18</td>\n",
              "      <td>1091718</td>\n",
              "      <td>C4768722</td>\n",
              "      <td>P2016</td>\n",
              "    </tr>\n",
              "    <tr>\n",
              "      <th>1</th>\n",
              "      <td>C00575795</td>\n",
              "      <td>P00003392</td>\n",
              "      <td>Clinton, Hillary Rodham</td>\n",
              "      <td>CARROLL, MARYJEAN</td>\n",
              "      <td>CAMBRIA</td>\n",
              "      <td>CA</td>\n",
              "      <td>934,284,638.00</td>\n",
              "      <td>NaN</td>\n",
              "      <td>RETIRED</td>\n",
              "      <td>200.00</td>\n",
              "      <td>2016-04-20</td>\n",
              "      <td>NaN</td>\n",
              "      <td>X</td>\n",
              "      <td>* HILLARY VICTORY FUND</td>\n",
              "      <td>SA18</td>\n",
              "      <td>1091718</td>\n",
              "      <td>C4747242</td>\n",
              "      <td>P2016</td>\n",
              "    </tr>\n",
              "    <tr>\n",
              "      <th>2</th>\n",
              "      <td>C00575795</td>\n",
              "      <td>P00003392</td>\n",
              "      <td>Clinton, Hillary Rodham</td>\n",
              "      <td>GANDARA, DESIREE</td>\n",
              "      <td>FONTANA</td>\n",
              "      <td>CA</td>\n",
              "      <td>923,371,507.00</td>\n",
              "      <td>NaN</td>\n",
              "      <td>RETIRED</td>\n",
              "      <td>5.00</td>\n",
              "      <td>2016-04-02</td>\n",
              "      <td>NaN</td>\n",
              "      <td>X</td>\n",
              "      <td>* HILLARY VICTORY FUND</td>\n",
              "      <td>SA18</td>\n",
              "      <td>1091718</td>\n",
              "      <td>C4666603</td>\n",
              "      <td>P2016</td>\n",
              "    </tr>\n",
              "    <tr>\n",
              "      <th>3</th>\n",
              "      <td>C00577130</td>\n",
              "      <td>P60007168</td>\n",
              "      <td>Sanders, Bernard</td>\n",
              "      <td>LEE, ALAN</td>\n",
              "      <td>CAMARILLO</td>\n",
              "      <td>CA</td>\n",
              "      <td>930,111,214.00</td>\n",
              "      <td>AT&amp;T GOVERNMENT SOLUTIONS</td>\n",
              "      <td>SOFTWARE ENGINEER</td>\n",
              "      <td>40.00</td>\n",
              "      <td>2016-03-04</td>\n",
              "      <td>NaN</td>\n",
              "      <td>NaN</td>\n",
              "      <td>* EARMARKED CONTRIBUTION: SEE BELOW</td>\n",
              "      <td>SA17A</td>\n",
              "      <td>1077404</td>\n",
              "      <td>VPF7BKWA097</td>\n",
              "      <td>P2016</td>\n",
              "    </tr>\n",
              "    <tr>\n",
              "      <th>4</th>\n",
              "      <td>C00577130</td>\n",
              "      <td>P60007168</td>\n",
              "      <td>Sanders, Bernard</td>\n",
              "      <td>LEONELLI, ODETTE</td>\n",
              "      <td>REDONDO BEACH</td>\n",
              "      <td>CA</td>\n",
              "      <td>902,784,310.00</td>\n",
              "      <td>VERICOR ENTERPRISES INC.</td>\n",
              "      <td>PHARMACIST</td>\n",
              "      <td>35.00</td>\n",
              "      <td>2016-03-05</td>\n",
              "      <td>NaN</td>\n",
              "      <td>NaN</td>\n",
              "      <td>* EARMARKED CONTRIBUTION: SEE BELOW</td>\n",
              "      <td>SA17A</td>\n",
              "      <td>1077404</td>\n",
              "      <td>VPF7BKX3MB3</td>\n",
              "      <td>P2016</td>\n",
              "    </tr>\n",
              "  </tbody>\n",
              "</table>\n",
              "</div>"
            ],
            "text/plain": [
              "     cmte_id    cand_id                  cand_nm          contbr_nm  \\\n",
              "0  C00575795  P00003392  Clinton, Hillary Rodham         AULL, ANNE   \n",
              "1  C00575795  P00003392  Clinton, Hillary Rodham  CARROLL, MARYJEAN   \n",
              "2  C00575795  P00003392  Clinton, Hillary Rodham   GANDARA, DESIREE   \n",
              "3  C00577130  P60007168         Sanders, Bernard          LEE, ALAN   \n",
              "4  C00577130  P60007168         Sanders, Bernard   LEONELLI, ODETTE   \n",
              "\n",
              "     contbr_city contbr_st     contbr_zip            contbr_employer  \\\n",
              "0       LARKSPUR        CA 949,391,913.00                        NaN   \n",
              "1        CAMBRIA        CA 934,284,638.00                        NaN   \n",
              "2        FONTANA        CA 923,371,507.00                        NaN   \n",
              "3      CAMARILLO        CA 930,111,214.00  AT&T GOVERNMENT SOLUTIONS   \n",
              "4  REDONDO BEACH        CA 902,784,310.00   VERICOR ENTERPRISES INC.   \n",
              "\n",
              "   contbr_occupation  contb_receipt_amt contb_receipt_dt receipt_desc memo_cd  \\\n",
              "0            RETIRED              50.00       2016-04-26          NaN       X   \n",
              "1            RETIRED             200.00       2016-04-20          NaN       X   \n",
              "2            RETIRED               5.00       2016-04-02          NaN       X   \n",
              "3  SOFTWARE ENGINEER              40.00       2016-03-04          NaN     NaN   \n",
              "4         PHARMACIST              35.00       2016-03-05          NaN     NaN   \n",
              "\n",
              "                             memo_text form_tp  file_num      tran_id  \\\n",
              "0               * HILLARY VICTORY FUND    SA18   1091718     C4768722   \n",
              "1               * HILLARY VICTORY FUND    SA18   1091718     C4747242   \n",
              "2               * HILLARY VICTORY FUND    SA18   1091718     C4666603   \n",
              "3  * EARMARKED CONTRIBUTION: SEE BELOW   SA17A   1077404  VPF7BKWA097   \n",
              "4  * EARMARKED CONTRIBUTION: SEE BELOW   SA17A   1077404  VPF7BKX3MB3   \n",
              "\n",
              "  election_tp  \n",
              "0       P2016  \n",
              "1       P2016  \n",
              "2       P2016  \n",
              "3       P2016  \n",
              "4       P2016  "
            ]
          },
          "execution_count": 7,
          "metadata": {},
          "output_type": "execute_result"
        }
      ],
      "source": [
        "contrib.head(5)"
      ]
    },
    {
      "cell_type": "markdown",
      "metadata": {
        "id": "Oeng5j8OXqwh"
      },
      "source": [
        "**Question 4:**\n",
        "\n",
        "Print out the values for the column `election_tp`. In your own words, based on the documentation, what information does the `election_tp` variable contain? Do the values in the column match the documentation? (3 points)"
      ]
    },
    {
      "cell_type": "markdown",
      "metadata": {},
      "source": [
        "**Answer 4**\n",
        "\n",
        "i belive this stands for election 2016 like p2016 = presidential election 2016\n",
        "and yes they do match the columns in the dataset"
      ]
    },
    {
      "cell_type": "code",
      "execution_count": 10,
      "metadata": {},
      "outputs": [
        {
          "data": {
            "text/plain": [
              "0    P2016\n",
              "1    P2016\n",
              "2    P2016\n",
              "3    P2016\n",
              "4    P2016\n",
              "Name: election_tp, dtype: object"
            ]
          },
          "execution_count": 10,
          "metadata": {},
          "output_type": "execute_result"
        }
      ],
      "source": [
        "contrib['election_tp'].head(5)"
      ]
    },
    {
      "cell_type": "markdown",
      "metadata": {
        "id": "2t3o9aTSXqzo"
      },
      "source": [
        "**Question 5:**\n",
        "\n",
        "Print out the datatypes for all of the columns. What are the datatypes for the `contbr_zip`, `contb_receipt_amt`, `contb_receipt_dt`? (5 points)"
      ]
    },
    {
      "cell_type": "markdown",
      "metadata": {},
      "source": [
        "**Answer 5**\n",
        "\n",
        "`contbr_zip` : object\n",
        "\n",
        "`contb_receipt_amt`: Float64\n",
        "\n",
        "`contb_receipt_dt`: datetime64[ns]\n"
      ]
    },
    {
      "cell_type": "code",
      "execution_count": 11,
      "metadata": {},
      "outputs": [
        {
          "data": {
            "text/plain": [
              "cmte_id                      object\n",
              "cand_id                      object\n",
              "cand_nm                      object\n",
              "contbr_nm                    object\n",
              "contbr_city                  object\n",
              "contbr_st                    object\n",
              "contbr_zip                   object\n",
              "contbr_employer              object\n",
              "contbr_occupation            object\n",
              "contb_receipt_amt           float64\n",
              "contb_receipt_dt     datetime64[ns]\n",
              "receipt_desc                 object\n",
              "memo_cd                      object\n",
              "memo_text                    object\n",
              "form_tp                      object\n",
              "file_num                      int64\n",
              "tran_id                      object\n",
              "election_tp                  object\n",
              "dtype: object"
            ]
          },
          "execution_count": 11,
          "metadata": {},
          "output_type": "execute_result"
        }
      ],
      "source": [
        "contrib.dtypes"
      ]
    },
    {
      "cell_type": "markdown",
      "metadata": {
        "id": "TM_wjq8iXq2_"
      },
      "source": [
        "**Question 6:**\n",
        "\n",
        "What columns have the most nulls?  Would you recommend to drop any columns based on the number of nulls? (5 points)\n",
        "\n",
        "*Hint:* Use the .isna() and .sum() functions together"
      ]
    },
    {
      "cell_type": "markdown",
      "metadata": {},
      "source": [
        "**Answer 6**\n",
        "\n",
        "contbr_employer       157902,\n",
        "contbr_occupation      10399,\n",
        "receipt_desc         1110614,\n",
        "memo_cd               981391,\n",
        "memo_text             624511,\n",
        "election_tp             1425,\n",
        "\n",
        "`these has the most null `\n",
        "\n",
        "contbr_city               26,\n",
        "contbr_zip                95,\n",
        "\n",
        "`these are the lest none `\n",
        "\n",
        "i can only suggest to drop one of the least one because if you drop the one with the most it could effect your dataset plus it depends on what you need it for and what are you looking for so the circumstance matters \n",
        "\n"
      ]
    },
    {
      "cell_type": "code",
      "execution_count": 14,
      "metadata": {},
      "outputs": [
        {
          "data": {
            "text/plain": [
              "cmte_id                    0\n",
              "cand_id                    0\n",
              "cand_nm                    0\n",
              "contbr_nm                  0\n",
              "contbr_city               26\n",
              "contbr_st                  0\n",
              "contbr_zip                95\n",
              "contbr_employer       157902\n",
              "contbr_occupation      10399\n",
              "contb_receipt_amt          0\n",
              "contb_receipt_dt           0\n",
              "receipt_desc         1110614\n",
              "memo_cd               981391\n",
              "memo_text             624511\n",
              "form_tp                    0\n",
              "file_num                   0\n",
              "tran_id                    0\n",
              "election_tp             1425\n",
              "dtype: int64"
            ]
          },
          "execution_count": 14,
          "metadata": {},
          "output_type": "execute_result"
        }
      ],
      "source": [
        "contrib.isnull().sum()"
      ]
    },
    {
      "cell_type": "markdown",
      "metadata": {
        "id": "wp2oYCCwXq55"
      },
      "source": [
        "**Question 7:**\n",
        "\n",
        "A column we know that we want to use is the cand_nm column.  From the documentation each candidate is a unique candidate id also. Check data quality of `cand_id` column to see if it matches `cand_nm` column. Specifically check to ensure our targetted candidate 'Bernard Sanders' always has the same cand_id throughout. Any issues with `cand_nm` matching `cand_id`? (5 points)\n",
        "\n",
        "*Hint:* Look at the value counts for candidate ID and name pairs."
      ]
    },
    {
      "cell_type": "markdown",
      "metadata": {
        "id": "9QSB-3rzXq8w"
      },
      "source": [
        "**Question 8:**\n",
        "\n",
        "Another area to check is to make sure all of the records are from California. Check the `contbr_st` column - are there any records outside of California based on `contbr_st`? (5 points)"
      ]
    },
    {
      "cell_type": "markdown",
      "metadata": {
        "id": "O2_XuxYSXq_n"
      },
      "source": [
        "**Question 9:**\n",
        "\n",
        "The next column to check for the analysis is the `tran_id` column. This column could be the primary key so look for duplicates. How many duplicate entries are there? (5 points)\n",
        "\n",
        "*Hint:* Look at the where the tran id value counts are greater than 1"
      ]
    },
    {
      "cell_type": "code",
      "execution_count": null,
      "metadata": {
        "id": "P0eQA2FfvXsR"
      },
      "outputs": [],
      "source": [
        "# check a few duplicated tran_id examples to see if there is a pattern for why there are duplicae entries\n",
        "examples = ['ADB49CB248C174E298F0', 'A5602AD777C8C4632B5A', 'SA17.1131188', 'SA17.959311', 'C10357933', 'C9499151']\n",
        "contrib[contrib['tran_id'].isin(examples)]"
      ]
    },
    {
      "cell_type": "markdown",
      "metadata": {
        "id": "6qsPTOLavF8U"
      },
      "source": [
        "After examining a few of these duplicated tran_id's, there do not appear to be any patterns for why there are duplicate entries."
      ]
    },
    {
      "cell_type": "markdown",
      "metadata": {
        "id": "egEGXoy3XrCS"
      },
      "source": [
        "**Question 10:**\n",
        "\n",
        "Another column to check is the `contb_receipt_amt` that shows the donation amounts. How many negative donations are included? What do negative donations mean? Please show at least pull a few rows to look at the records with negative donations. Do these records match with the expectation of why a negative donation would happen? (5 points)\n",
        "\n",
        "To assist you, please refer to the following:\n",
        "\n",
        "https://www.fec.gov/help-candidates-and-committees/filing-reports/redesignating-and-reattributing-contributions/\n",
        "\n",
        "Also, it may be useful to examine the 'receipt_desc' and 'memo_text' fields."
      ]
    },
    {
      "cell_type": "markdown",
      "metadata": {
        "id": "ZxLoOtHuXrFF"
      },
      "source": [
        "**Question 11:**\n",
        "\n",
        "Another column to look at is the date of donation column. Are there any dates outside of the primary period (defined as '2014-01-01' to '2016-06-07')? Are the dates well-formatted for our analysis? (5 points)"
      ]
    },
    {
      "cell_type": "markdown",
      "metadata": {
        "id": "xs5pB0NaXrNM"
      },
      "source": [
        "**Question 12:**\n",
        "\n",
        "Let's examine the ```contbr_zip``` field. The zip codes should be 5 digits and not contain any decimals.\n",
        "\n",
        "Look at the distribution of zip codes. Do they appear to be properly formatted? If not, give two examples of incorrectly formatted zip codes.\n",
        "\n",
        "(5 points)"
      ]
    },
    {
      "cell_type": "markdown",
      "metadata": {
        "id": "RnxFKTf61GvC"
      },
      "source": [
        "**At this stage, here is a list of columns that appear important to answer the boss's questions:**\n",
        "\n",
        "\"tran_id\", \"cand_id\", \"cand_nm\", \"election_tp\", \"contbr_zip\", \"contbr_nm\", \"contb_receipt_amt\", and \"contb_receipt_date\"\n",
        "\n",
        "**Here is a list of columns that do not appear important to answer the boss's questions:**\n",
        "\n",
        "\"cmte_id\", \"contbr_city\", \"contbr_st\", \"contbr_employer\", \"contbr_occupation\", \"receipt_desc\", \"memo_cd\", \"memo_text\", \"form_tp\", \"file_num\""
      ]
    },
    {
      "cell_type": "markdown",
      "metadata": {
        "id": "T2jq75M_XrQj"
      },
      "source": [
        "***\n",
        "# **Part 2: Data Filtering and Data Quality Fixes (25 points)**\n",
        "\n",
        "Now that we have a basic understanding of the data, let's filter out the records we don't need and fix the data."
      ]
    },
    {
      "cell_type": "markdown",
      "metadata": {
        "id": "lk-UMaRfXrUC"
      },
      "source": [
        "**Question 13:**\n",
        "\n",
        "From the dataset filter out (remove) any election_tp not in the primary election. Print/show the shape of the dataframe after the filtering is complete. (5 points)"
      ]
    },
    {
      "cell_type": "markdown",
      "metadata": {
        "id": "B19nVt2w3bpU"
      },
      "source": [
        "**Question 14:**\n",
        "\n",
        "From the dataset filter out (remove) any candidate that is not Bernie Sanders. Print/show the shape of the dataframe after the filtering is complete. (5 points)"
      ]
    },
    {
      "cell_type": "markdown",
      "metadata": {
        "id": "X-6I7LZv38h3"
      },
      "source": [
        "**Question 15:**\n",
        "\n",
        "The `contbr_zip` column is not formatted well for our analysis.\n",
        "\n",
        "Make a new zipcode column that is the five-digit zipcodes. Filter out any records outside of California based on the zipcode. Print/show the shape of the dataframe after the filtering is complete. (10 points).\n",
        "\n",
        "**Note:**\n",
        "\n",
        "If you were conducting this analysis in the real world, you would have to research what the valid 5-digit zipcodes for California are!\n",
        "\n",
        "For ease of the assignment, I have done this research for you.\n",
        "\n",
        "**Valid CA zip codes ranges from 90001 to 96162.**\n",
        "\n",
        "I used the following source for this information:\n",
        "\n",
        "https://www.structnet.com/instructions/zip_min_max_by_state.html"
      ]
    },
    {
      "cell_type": "code",
      "execution_count": null,
      "metadata": {
        "id": "m6YYEARQ444v"
      },
      "outputs": [],
      "source": [
        "contrib['contbr_zip'] = contrib['contbr_zip'].astype(\"string\")\n",
        "ca_zip_code_list = contrib['contbr_zip'].tolist()"
      ]
    },
    {
      "cell_type": "markdown",
      "metadata": {
        "id": "gO4FycaF5WKC"
      },
      "source": [
        "**Question 16:**\n",
        "\n",
        "The receipt amount column has negative donations. After talking with your team, a decision was made that the best course of action is to remove these negative values so that the donation count and amount is more accurate. Print/show the shape of the dataframe after the filtering is complete. (5 points)"
      ]
    },
    {
      "cell_type": "markdown",
      "metadata": {
        "id": "O8n9lDL15tX3"
      },
      "source": [
        "Next, we will drop columns that were not needed for the filtering and will not be needed to answer the boss's questions. Please take a moment to see which columns can be dropped in the code cell below."
      ]
    },
    {
      "cell_type": "code",
      "execution_count": null,
      "metadata": {
        "id": "4vOGrfLx5vEg"
      },
      "outputs": [],
      "source": [
        "# drop columns that won't be used in the analysis\n",
        "\n",
        "drop_cols = [\"cmte_id\", \"contbr_city\", \"contbr_st\", \"contbr_employer\", \"contbr_occupation\", \"receipt_desc\",\n",
        "             \"memo_cd\", \"memo_text\", \"form_tp\", \"file_num\"]\n",
        "\n",
        "\n",
        "#pre-drop dataframe shape\n",
        "print(\"Pre-drop row count: \", contrib.shape[0])\n",
        "print(\"Pre-drop column count: \", contrib.shape[1])\n",
        "\n",
        "contrib = contrib.drop(drop_cols, axis=1)\n",
        "\n",
        "#post-drop dataframe shape\n",
        "print(\"Post-drop row count: \", contrib.shape[0])\n",
        "print(\"Post-drop column count: \", contrib.shape[1])"
      ]
    },
    {
      "cell_type": "markdown",
      "metadata": {
        "id": "oq-pEc9c6a9D"
      },
      "source": [
        "***\n",
        "# **3. Answering the questions (20 points)**\n",
        "\n",
        "Now that the data is cleaned and filterd - let's answer the two questions from your boss!"
      ]
    },
    {
      "cell_type": "markdown",
      "metadata": {
        "id": "wquNsoxU6xd0"
      },
      "source": [
        "**Question 17:**\n",
        "\n",
        "Which zipcode had the highest count of contributions and the most dollar amount? (10 points)"
      ]
    },
    {
      "cell_type": "markdown",
      "metadata": {
        "id": "yXUJ724F7FTz"
      },
      "source": [
        "**Question 18:**\n",
        "\n",
        "What day(s) of the month do most people donate? (10 points)"
      ]
    }
  ],
  "metadata": {
    "colab": {
      "provenance": []
    },
    "kernelspec": {
      "display_name": "env",
      "language": "python",
      "name": "python3"
    },
    "language_info": {
      "codemirror_mode": {
        "name": "ipython",
        "version": 3
      },
      "file_extension": ".py",
      "mimetype": "text/x-python",
      "name": "python",
      "nbconvert_exporter": "python",
      "pygments_lexer": "ipython3",
      "version": "3.12.7"
    }
  },
  "nbformat": 4,
  "nbformat_minor": 0
}
