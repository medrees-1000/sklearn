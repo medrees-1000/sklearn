{
 "cells": [
  {
   "cell_type": "markdown",
   "id": "b0237f0c-fc67-46b9-af75-111b564f2b89",
   "metadata": {},
   "source": [
    "# Merge Sort, Quicksort and Divide-n-Conquer Algorithms in Python\n",
    "\n",
    "[Data Structures and Algorithms in Python](https://jovian.ai/learn/data-structures-and-algorithms-in-python) is a beginner-friendly introduction to common data structures (linked lists, stacks, queues, graphs) and algorithms (search, sorting, recursion, dynamic programming) in Python, designed to help you prepare for coding interviews and assessments. \n",
    "\n",
    "Earn a verified certificate of accomplishment for this course by signing up here: http://pythondsa.com. Ask questions, get help & participate in discussions on the [course community forum](https://jovian.ai/forum/c/data-structures-and-algorithms-in-python/78). \n"
   ]
  },
  {
   "cell_type": "markdown",
   "id": "032a148b-80a9-4426-87a2-12364a154aa9",
   "metadata": {},
   "source": [
    "### Prerequisites\n",
    "\n",
    "This course assumes very little background in programming and mathematics, and you can learn the required concepts here:\n",
    "\n",
    "- Basic programming with Python ([variables](https://jovian.ai/aakashns/first-steps-with-python), [data types](https://jovian.ai/aakashns/python-variables-and-data-types), [loops](https://jovian.ai/aakashns/python-branching-and-loops), [functions](https://jovian.ai/aakashns/python-functions-and-scope) etc.)\n",
    "- Some high school mathematics ([polynomials](https://www.youtube.com/watch?v=Vm7H0VTlIco), [vectors, matrices](https://www.youtube.com/watch?v=0oGJTQCy4cQ&list=PLSQl0a2vh4HCs4zPpOEdF2GuydqS90Yb6) and [probability](https://www.youtube.com/watch?v=uzkc-qNVoOk))\n",
    "- No prior knowledge of data structures or algorithms is required\n",
    "\n",
    "We'll cover any additional mathematical and theoretical concepts we need as we go along.\n",
    "\n",
    "\n"
   ]
  },
  {
   "cell_type": "markdown",
   "id": "a3c3142b-1b42-4162-aaa9-76665b9cfa68",
   "metadata": {},
   "source": [
    "### How to Run the Code\n",
    "\n",
    "The best way to learn the material is to execute the code and experiment with it yourself. This tutorial is an executable [Jupyter notebook](https://jupyter.org). You can _run_ this tutorial and experiment with the code examples in a couple of ways: *using free online resources* (recommended) or *on your computer*.\n",
    "\n",
    "#### Option 1: Running using free online resources (1-click, recommended)\n",
    "\n",
    "The easiest way to start executing the code is to click the **Run** button at the top of this page and select **Run on Binder**. You can also select \"Run on Colab\" or \"Run on Kaggle\", but you'll need to create an account on [Google Colab](https://colab.research.google.com) or [Kaggle](https://kaggle.com) to use these platforms.\n",
    "\n",
    "\n",
    "#### Option 2: Running on your computer locally\n",
    "\n",
    "To run the code on your computer locally, you'll need to set up [Python](https://www.python.org), download the notebook and install the required libraries. We recommend using the [Conda](https://docs.conda.io/projects/conda/en/latest/user-guide/install/) distribution of Python. Click the **Run** button at the top of this page, select the **Run Locally** option, and follow the instructions.\n",
    "\n"
   ]
  },
  {
   "cell_type": "markdown",
   "id": "33bcf4c5-1cc5-4644-8de1-84aecc010bc4",
   "metadata": {},
   "source": [
    "## Problem \n",
    "\n",
    "\n",
    "In this notebook, we'll focus on solving the following problem:\n",
    "\n",
    "> **QUESTION 1**: You're working on a new feature on Jovian called \"Top Notebooks of the Week\". Write a function to sort a list of notebooks in decreasing order of likes. Keep in mind that up to millions of notebooks  can be created every week, so your function needs to be as efficient as possible.\n",
    "\n",
    "\n",
    "The problem of sorting a list of objects comes up over and over in computer science and software development, and it's important to understand common approaches for sorting, and the trade-offs they offer. Before we solve the above problem, we'll solve a simplified version of the problem:\n",
    "\n",
    "> **QUESTION 2**: Write a program to sort a list of numbers.\n",
    "\n",
    "\n",
    "\"Sorting\" usually refers to \"sorting in ascending order\", unless specified otherwise."
   ]
  },
  {
   "cell_type": "markdown",
   "id": "a9060f34-3d9b-406a-a9b3-ad427b2ca054",
   "metadata": {},
   "source": [
    "## The Method\n",
    "\n",
    "\n",
    "Here's a systematic strategy we'll apply for solving problems:\n",
    "\n",
    "1. State the problem clearly. Identify the input & output formats.\n",
    "2. Come up with some example inputs & outputs. Try to cover all edge cases.\n",
    "3. Come up with a correct solution for the problem. State it in plain English.\n",
    "4. Implement the solution and test it using example inputs. Fix bugs, if any.\n",
    "5. Analyze the algorithm's complexity and identify inefficiencies, if any.\n",
    "6. Apply the right technique to overcome the inefficiency. Repeat steps 3 to 6.\n",
    "\n",
    "\n"
   ]
  },
  {
   "cell_type": "markdown",
   "id": "d11007b9-6ebc-4365-9dd1-1f9841510852",
   "metadata": {},
   "source": [
    "## 1. State the problem clearly. Identify the input & output formats.\n",
    "\n",
    "\n",
    "#### Problem\n",
    "\n",
    "> We need to write a function to sort a list of numbers in increasing order.\n",
    "\n",
    "#### Input\n",
    "\n",
    "1. `nums`: A list of numbers e.g. `[4, 2, 6, 3, 4, 6, 2, 1]` \n",
    "\n",
    "#### Output\n",
    "\n",
    "2. `sorted_nums`: The sorted version of `nums` e.g. `[1, 2, 2, 3, 4, 4, 6, 6]`\n",
    "\n",
    "\n",
    "The signature of our function would be as follows:"
   ]
  },
  {
   "cell_type": "code",
   "execution_count": 19,
   "id": "c25cb093-fbc0-4fa9-9b6f-ad0a1182e227",
   "metadata": {},
   "outputs": [],
   "source": [
    "def sort(nums):\n",
    "    pass"
   ]
  },
  {
   "cell_type": "markdown",
   "id": "bc08e0bb-ae9a-4bbc-9d6c-b486c907e5cb",
   "metadata": {},
   "source": [
    "## 2. Come up with some example inputs & outputs. \n",
    "\n",
    "Here are some scenarios we may want to test out:\n",
    "\n",
    "1. Some lists of numbers in random order.\n",
    "2. A list that's already sorted.\n",
    "3. A list that's sorted in descending order.\n",
    "4. A list containing repeating elements.\n",
    "5. An empty list. \n",
    "6. A list containing just one element.\n",
    "7. A list containing one element repeated many times.\n",
    "8. A really long list.\n",
    "\n",
    "Let's create some test cases for these scenarios. We'll represent each test case as a dictionary for easier automated testing."
   ]
  },
  {
   "cell_type": "code",
   "execution_count": 20,
   "id": "bfe03a36-2af5-4375-b379-1be92bb1ad14",
   "metadata": {},
   "outputs": [],
   "source": [
    "# List of numbers in random order\n",
    "test0 = {\n",
    "    'input': {\n",
    "        'nums': [4, 2, 6, 3, 4, 6, 2, 1]\n",
    "    },\n",
    "    'output': [1, 2, 2, 3, 4, 4, 6, 6]\n",
    "}"
   ]
  },
  {
   "cell_type": "code",
   "execution_count": 21,
   "id": "6c156f02-a820-4d5d-b12d-da66edfda040",
   "metadata": {},
   "outputs": [],
   "source": [
    "# List of numbers in random order\n",
    "test1 = {\n",
    "    'input': {\n",
    "        'nums': [5, 2, 6, 1, 23, 7, -12, 12, -243, 0]\n",
    "    },\n",
    "    'output': [-243, -12, 0, 1, 2, 5, 6, 7, 12, 23]\n",
    "}"
   ]
  },
  {
   "cell_type": "code",
   "execution_count": 22,
   "id": "89af8d2f-91ff-4751-824e-24de1b780c91",
   "metadata": {},
   "outputs": [],
   "source": [
    "# A list that's already sorted\n",
    "test2 = {\n",
    "    'input': {\n",
    "        'nums': [3, 5, 6, 8, 9, 10, 99]\n",
    "    },\n",
    "    'output': [3, 5, 6, 8, 9, 10, 99]\n",
    "}"
   ]
  },
  {
   "cell_type": "code",
   "execution_count": 23,
   "id": "4e998cdc-c8a0-4db7-82c9-59ff3b1ce1ce",
   "metadata": {},
   "outputs": [],
   "source": [
    "# A list that's sorted in descending order\n",
    "test3 = {\n",
    "    'input': {\n",
    "        'nums': [99, 10, 9, 8, 6, 5, 3]\n",
    "    },\n",
    "    'output': [3, 5, 6, 8, 9, 10, 99]\n",
    "}"
   ]
  },
  {
   "cell_type": "code",
   "execution_count": 24,
   "id": "6182d231-7592-4ed6-869a-1e33c44fb79a",
   "metadata": {},
   "outputs": [],
   "source": [
    "# A list containing repeating elements\n",
    "test4 = {\n",
    "    'input': {\n",
    "        'nums': [5, -12, 2, 6, 1, 23, 7, 7, -12, 6, 12, 1, -243, 1, 0]\n",
    "    },\n",
    "    'output': [-243, -12, -12, 0, 1, 1, 1, 2, 5, 6, 6, 7, 7, 12, 23]\n",
    "}"
   ]
  },
  {
   "cell_type": "code",
   "execution_count": 25,
   "id": "f764d816-abc3-44d0-a656-e7dfdf5c84ab",
   "metadata": {},
   "outputs": [],
   "source": [
    "# An empty list \n",
    "test5 = {\n",
    "    'input': {\n",
    "        'nums': []\n",
    "    },\n",
    "    'output': []\n",
    "}"
   ]
  },
  {
   "cell_type": "code",
   "execution_count": 26,
   "id": "0b509018-084c-404d-9514-2d175fe693c0",
   "metadata": {},
   "outputs": [],
   "source": [
    "# A list containing just one element\n",
    "test6 = {\n",
    "    'input': {\n",
    "        'nums': [23]\n",
    "    },\n",
    "    'output': [23]\n",
    "}"
   ]
  },
  {
   "cell_type": "code",
   "execution_count": 27,
   "id": "5dd93ecc-0a9b-4b31-8be7-e2c86349e7f1",
   "metadata": {},
   "outputs": [],
   "source": [
    "# A list containing one element repeated many times\n",
    "test7 = {\n",
    "    'input': {\n",
    "        'nums': [42, 42, 42, 42, 42, 42, 42]\n",
    "    },\n",
    "    'output': [42, 42, 42, 42, 42, 42, 42]\n",
    "}"
   ]
  },
  {
   "cell_type": "markdown",
   "id": "e870399b-287e-491a-8eed-0560433a0493",
   "metadata": {},
   "source": [
    "To create the final test case (a really long list), we can start with a sorted list created using `range` and shuffle it to create the input."
   ]
  },
  {
   "cell_type": "code",
   "execution_count": 28,
   "id": "6d841e40-3630-494b-b651-49ef482aa305",
   "metadata": {},
   "outputs": [],
   "source": [
    "import random\n",
    "\n",
    "in_list = list(range(10000))\n",
    "out_list = list(range(10000))\n",
    "random.shuffle(in_list)\n",
    "\n",
    "test8 = {\n",
    "    'input': {\n",
    "        'nums': in_list\n",
    "    },\n",
    "    'output': out_list\n",
    "}"
   ]
  },
  {
   "cell_type": "code",
   "execution_count": 29,
   "id": "7e2cd7fc-f735-43c9-b1d5-15f70b1369a9",
   "metadata": {},
   "outputs": [],
   "source": [
    "tests = [test0, test1, test2, test3, test4, test5, test6, test7, test8]"
   ]
  },
  {
   "cell_type": "markdown",
   "id": "a292016a-ac7e-421b-a995-4517b2e7d3ea",
   "metadata": {},
   "source": [
    "## 3. Come up with a correct solution. State it in plain English.\n",
    "\n",
    "It's easy to come up with a correct solution. Here's one: \n",
    "\n",
    "1. Iterate over the list of numbers, starting from the left\n",
    "2. Compare each number with the number that follows it\n",
    "3. If the number is greater than the one that follows it, swap the two elements\n",
    "4. Repeat steps 1 to 3 till the list is sorted.\n",
    "\n",
    "We need to repeat steps 1 to 3 at most `n-1` times to ensure that the array is sorted. Can you explain why? Hint: After one iteration, the largest number in the list.\n",
    "\n",
    "This method is called **bubble sort**, as it causes smaller elements to *bubble* to the top and larger to *sink* to the bottom. Here's a visual representation of the process:\n",
    "\n",
    "![](https://upload.wikimedia.org/wikipedia/commons/c/c8/Bubble-sort-example-300px.gif)\n",
    "\n"
   ]
  },
  {
   "cell_type": "markdown",
   "id": "c74a108c-ff22-4a2b-89dd-72ad84f9956d",
   "metadata": {},
   "source": [
    "## 4. Implement the solution and test it using example inputs.\n",
    "\n",
    "The implementation is straightforward. We'll create a copy of the list inside our function, to avoid changing it while sorting."
   ]
  },
  {
   "cell_type": "code",
   "execution_count": 30,
   "id": "be3c53a9-261c-4b31-8828-6ea564cf713d",
   "metadata": {},
   "outputs": [],
   "source": [
    "def bubble_sort(nums):\n",
    "    # Create a copy of the list, to avoid changing it\n",
    "    nums = list(nums)\n",
    "    \n",
    "    # 4. Repeat the process n-1 times\n",
    "    for _ in range(len(nums) - 1):\n",
    "        \n",
    "        # 1. Iterate over the array (except last element)\n",
    "        for i in range(len(nums) - 1):\n",
    "            \n",
    "            # 2. Compare the number with  \n",
    "            if nums[i] > nums[i+1]:\n",
    "                \n",
    "                # 3. Swap the two elements\n",
    "                nums[i], nums[i+1] = nums[i+1], nums[i]\n",
    "    \n",
    "    # Return the sorted list\n",
    "    return nums"
   ]
  },
  {
   "cell_type": "markdown",
   "id": "5565815c-9aba-4da7-b577-a72dd84bef02",
   "metadata": {},
   "source": [
    "Notice how we're a tuple assignment to swap two elements in a single line of code."
   ]
  },
  {
   "cell_type": "code",
   "execution_count": 31,
   "id": "3a4e0852-98c6-4f8f-b366-a66bf000d631",
   "metadata": {},
   "outputs": [
    {
     "data": {
      "text/plain": [
       "(3, 2)"
      ]
     },
     "execution_count": 31,
     "metadata": {},
     "output_type": "execute_result"
    }
   ],
   "source": [
    "x, y = 2, 3\n",
    "x, y = y, x\n",
    "x, y"
   ]
  },
  {
   "cell_type": "markdown",
   "id": "f08990be-5750-4a71-9ac9-011db5acc7f3",
   "metadata": {},
   "source": [
    "Let's test it with an example."
   ]
  },
  {
   "cell_type": "code",
   "execution_count": 32,
   "id": "f9dc2716-d0aa-48f8-ae9b-3e5751ebd6fa",
   "metadata": {},
   "outputs": [
    {
     "name": "stdout",
     "output_type": "stream",
     "text": [
      "Input: [4, 2, 6, 3, 4, 6, 2, 1]\n",
      "Expected output: [1, 2, 2, 3, 4, 4, 6, 6]\n",
      "Actual output: [1, 2, 2, 3, 4, 4, 6, 6]\n",
      "Match: True\n"
     ]
    }
   ],
   "source": [
    "nums0, output0 = test0['input']['nums'], test0['output']\n",
    "\n",
    "print('Input:', nums0)\n",
    "print('Expected output:', output0)\n",
    "result0 = bubble_sort(nums0)\n",
    "print('Actual output:', result0)\n",
    "print('Match:', result0 == output0)"
   ]
  },
  {
   "cell_type": "code",
   "execution_count": 33,
   "id": "bfa703d9-fd65-4603-bec1-b57ed0d3706e",
   "metadata": {},
   "outputs": [
    {
     "data": {
      "text/plain": [
       "True"
      ]
     },
     "execution_count": 33,
     "metadata": {},
     "output_type": "execute_result"
    }
   ],
   "source": [
    "result0 == output0"
   ]
  },
  {
   "cell_type": "markdown",
   "id": "72fba014-414b-4c12-858b-7813f8f6c2db",
   "metadata": {},
   "source": [
    "We can evaluate all the cases together using the `evaluate_test_cases` helper function from the `jovian` library."
   ]
  },
  {
   "cell_type": "code",
   "execution_count": 34,
   "id": "8e8534b8-b7b7-4bf4-974f-f16bcaebf3b4",
   "metadata": {},
   "outputs": [],
   "source": [
    "#!pip install jovian --upgrade --quiet"
   ]
  },
  {
   "cell_type": "code",
   "execution_count": 35,
   "id": "8aa508e0-aa6f-4788-82c7-cd32a3dbef2c",
   "metadata": {},
   "outputs": [],
   "source": [
    "from jovian.pythondsa import evaluate_test_cases"
   ]
  },
  {
   "cell_type": "code",
   "execution_count": 36,
   "id": "9b14ab2f-b234-45be-8d67-c8547736848d",
   "metadata": {
    "scrolled": true
   },
   "outputs": [
    {
     "name": "stdout",
     "output_type": "stream",
     "text": [
      "\n",
      "\u001b[1mTEST CASE #0\u001b[0m\n",
      "\n",
      "Input:\n",
      "{'nums': [4, 2, 6, 3, 4, 6, 2, 1]}\n",
      "\n",
      "Expected Output:\n",
      "[1, 2, 2, 3, 4, 4, 6, 6]\n",
      "\n",
      "\n",
      "Actual Output:\n",
      "[1, 2, 2, 3, 4, 4, 6, 6]\n",
      "\n",
      "Execution Time:\n",
      "0.011 ms\n",
      "\n",
      "Test Result:\n",
      "\u001b[92mPASSED\u001b[0m\n",
      "\n",
      "\n",
      "\u001b[1mTEST CASE #1\u001b[0m\n",
      "\n",
      "Input:\n",
      "{'nums': [5, 2, 6, 1, 23, 7, -12, 12, -243, 0]}\n",
      "\n",
      "Expected Output:\n",
      "[-243, -12, 0, 1, 2, 5, 6, 7, 12, 23]\n",
      "\n",
      "\n",
      "Actual Output:\n",
      "[-243, -12, 0, 1, 2, 5, 6, 7, 12, 23]\n",
      "\n",
      "Execution Time:\n",
      "0.01 ms\n",
      "\n",
      "Test Result:\n",
      "\u001b[92mPASSED\u001b[0m\n",
      "\n",
      "\n",
      "\u001b[1mTEST CASE #2\u001b[0m\n",
      "\n",
      "Input:\n",
      "{'nums': [3, 5, 6, 8, 9, 10, 99]}\n",
      "\n",
      "Expected Output:\n",
      "[3, 5, 6, 8, 9, 10, 99]\n",
      "\n",
      "\n",
      "Actual Output:\n",
      "[3, 5, 6, 8, 9, 10, 99]\n",
      "\n",
      "Execution Time:\n",
      "0.007 ms\n",
      "\n",
      "Test Result:\n",
      "\u001b[92mPASSED\u001b[0m\n",
      "\n",
      "\n",
      "\u001b[1mTEST CASE #3\u001b[0m\n",
      "\n",
      "Input:\n",
      "{'nums': [99, 10, 9, 8, 6, 5, 3]}\n",
      "\n",
      "Expected Output:\n",
      "[3, 5, 6, 8, 9, 10, 99]\n",
      "\n",
      "\n",
      "Actual Output:\n",
      "[3, 5, 6, 8, 9, 10, 99]\n",
      "\n",
      "Execution Time:\n",
      "0.006 ms\n",
      "\n",
      "Test Result:\n",
      "\u001b[92mPASSED\u001b[0m\n",
      "\n",
      "\n",
      "\u001b[1mTEST CASE #4\u001b[0m\n",
      "\n",
      "Input:\n",
      "{'nums': [5, -12, 2, 6, 1, 23, 7, 7, -12, 6, 12, 1, -243, 1, 0]}\n",
      "\n",
      "Expected Output:\n",
      "[-243, -12, -12, 0, 1, 1, 1, 2, 5, 6, 6, 7, 7, 12, 23]\n",
      "\n",
      "\n",
      "Actual Output:\n",
      "[-243, -12, -12, 0, 1, 1, 1, 2, 5, 6, 6, 7, 7, 12, 23]\n",
      "\n",
      "Execution Time:\n",
      "0.017 ms\n",
      "\n",
      "Test Result:\n",
      "\u001b[92mPASSED\u001b[0m\n",
      "\n",
      "\n",
      "\u001b[1mTEST CASE #5\u001b[0m\n",
      "\n",
      "Input:\n",
      "{'nums': []}\n",
      "\n",
      "Expected Output:\n",
      "[]\n",
      "\n",
      "\n",
      "Actual Output:\n",
      "[]\n",
      "\n",
      "Execution Time:\n",
      "0.001 ms\n",
      "\n",
      "Test Result:\n",
      "\u001b[92mPASSED\u001b[0m\n",
      "\n",
      "\n",
      "\u001b[1mTEST CASE #6\u001b[0m\n",
      "\n",
      "Input:\n",
      "{'nums': [23]}\n",
      "\n",
      "Expected Output:\n",
      "[23]\n",
      "\n",
      "\n",
      "Actual Output:\n",
      "[23]\n",
      "\n",
      "Execution Time:\n",
      "0.001 ms\n",
      "\n",
      "Test Result:\n",
      "\u001b[92mPASSED\u001b[0m\n",
      "\n",
      "\n",
      "\u001b[1mTEST CASE #7\u001b[0m\n",
      "\n",
      "Input:\n",
      "{'nums': [42, 42, 42, 42, 42, 42, 42]}\n",
      "\n",
      "Expected Output:\n",
      "[42, 42, 42, 42, 42, 42, 42]\n",
      "\n",
      "\n",
      "Actual Output:\n",
      "[42, 42, 42, 42, 42, 42, 42]\n",
      "\n",
      "Execution Time:\n",
      "0.005 ms\n",
      "\n",
      "Test Result:\n",
      "\u001b[92mPASSED\u001b[0m\n",
      "\n",
      "\n",
      "\u001b[1mTEST CASE #8\u001b[0m\n",
      "\n",
      "Input:\n",
      "{'nums': [402, 7229, 188, 2501, 4174, 3034, 7136, 5967, 1146, 2682, 961, 1432, 2774, 5615, 8589, 918...\n",
      "\n",
      "Expected Output:\n",
      "[0, 1, 2, 3, 4, 5, 6, 7, 8, 9, 10, 11, 12, 13, 14, 15, 16, 17, 18, 19, 20, 21, 22, 23, 24, 25, 26, 2...\n",
      "\n",
      "\n",
      "Actual Output:\n",
      "[0, 1, 2, 3, 4, 5, 6, 7, 8, 9, 10, 11, 12, 13, 14, 15, 16, 17, 18, 19, 20, 21, 22, 23, 24, 25, 26, 2...\n",
      "\n",
      "Execution Time:\n",
      "6070.215 ms\n",
      "\n",
      "Test Result:\n",
      "\u001b[92mPASSED\u001b[0m\n",
      "\n",
      "\n",
      "\u001b[1mSUMMARY\u001b[0m\n",
      "\n",
      "TOTAL: 9, \u001b[92mPASSED\u001b[0m: 9, \u001b[91mFAILED\u001b[0m: 0\n"
     ]
    }
   ],
   "source": [
    "results = evaluate_test_cases(bubble_sort, tests)"
   ]
  },
  {
   "cell_type": "markdown",
   "id": "aba30c90-42f9-4cba-9018-1f9276c6edc3",
   "metadata": {},
   "source": [
    "Great, looks like all our test cases passed! Although the last test case (a list of 10,000 numbers) took about 12 seconds to execute. "
   ]
  },
  {
   "cell_type": "markdown",
   "id": "1edac6d9-fd7c-46e0-825f-06160c043cd3",
   "metadata": {},
   "source": [
    "## 5. Analyze the algorithm's complexity and identify inefficiencies\n",
    "\n",
    "The core operations in bubble sort are \"compare\" and \"swap\". To analyze the time complexity, we can simply count the total number of comparisons being made, since the total number of swaps will be less than or equal to the total number of comparisons (can you see why?).\n",
    "\n",
    "```\n",
    "for _ in range(len(nums) - 1):\n",
    "    for i in range(len(nums) - 1):\n",
    "        if nums[i] > nums[i+1]:\n",
    "            nums[i], nums[i+1] = nums[i+1], nums[i]\n",
    "```\n",
    "\n",
    "There are two loops, each of length `n-1`, where `n` is the number of elements in `nums`. So the total number of comparisons is $(n-1)*(n-1)$ i.e. $(n-1)^2$ i.e. $n^2 - 2n + 1$. \n",
    "\n",
    "Expressing this in the Big O notation, we can conclude that the time complexity of bubble sort is $O(n^2)$ (also known as quadratic complexity).\n",
    "\n",
    "**Exercise:** Verify that the bubble sort requires $O(1)$ additional space.\n",
    "\n",
    "The space complexity of bubble sort is $O(n)$, even thought it requires only constant/zero additional space, because the space required to store the inputs is also considered while calculating space complexity.\n",
    "\n",
    "As we saw from the last test, a list of 10,000 numbers takes about 12 seconds to be sorted using bubble sort. A list of ten times the size will 100 times longer i.e. about 20 minutes to be sorted, which is quite inefficient. A list of a million elements would take close to 2 days to be sorted.\n",
    "\n",
    "\n",
    "The inefficiency in bubble sort comes from the fact that we're shifting elements by at most one position at a time.\n",
    "\n",
    "![](https://upload.wikimedia.org/wikipedia/commons/c/c8/Bubble-sort-example-300px.gif)\n"
   ]
  },
  {
   "cell_type": "markdown",
   "id": "590ea33f-5c92-49ea-893e-a9d8d158d05d",
   "metadata": {},
   "source": [
    "### Insertion Sort\n",
    "\n",
    "Before we look at explore more efficient sorting techniques, here's another simple sorting technique called insertion sort, where we keep the initial portion of the array sorted and insert the remaining elements one by one at the right position."
   ]
  },
  {
   "cell_type": "code",
   "execution_count": null,
   "id": "a555f10c-cab1-4899-bc6d-86c1105024c1",
   "metadata": {},
   "outputs": [],
   "source": [
    "def insertion_sort(nums):\n",
    "    nums = list(nums)\n",
    "    for i in range(len(nums)):\n",
    "        cur = nums.pop(i)\n",
    "        j = i-1\n",
    "        while j >=0 and nums[j] > cur:\n",
    "            j -= 1\n",
    "        nums.insert(j+1, cur)\n",
    "    return nums            "
   ]
  },
  {
   "cell_type": "code",
   "execution_count": 38,
   "id": "472cdddc-8413-4567-8f3c-62679429790c",
   "metadata": {},
   "outputs": [
    {
     "name": "stdout",
     "output_type": "stream",
     "text": [
      "Input: [4, 2, 6, 3, 4, 6, 2, 1]\n",
      "Expected output: [1, 2, 2, 3, 4, 4, 6, 6]\n",
      "Actual output: [1, 2, 2, 3, 4, 4, 6, 6]\n",
      "Match: True\n"
     ]
    }
   ],
   "source": [
    "nums0, output0 = test0['input']['nums'], test0['output']\n",
    "\n",
    "print('Input:', nums0)\n",
    "print('Expected output:', output0)\n",
    "result0 = insertion_sort(nums0)\n",
    "print('Actual output:', result0)\n",
    "print('Match:', result0 == output0)"
   ]
  },
  {
   "cell_type": "markdown",
   "id": "14b7f784-f9d8-4753-8845-2f8ab8dd6291",
   "metadata": {},
   "source": [
    "**Exercises**:\n",
    "\n",
    "1. Read the source code of the `insertion_sort` function and describe the algorithm in plain English. Reading source code is an essential skill for software development.\n",
    "2. Determine the time and space complexity of insertion sort. Is it any better than bubble sort? Why or why not?"
   ]
  },
  {
   "cell_type": "markdown",
   "id": "edbe83db-0388-43e8-9874-3d81536b2cdf",
   "metadata": {},
   "source": [
    "### Save and upload your work to Jovian\n",
    "\n",
    "Whether you're running this Jupyter notebook online or on your computer, it's essential to save your work from time to time. You can continue working on a saved notebook later or share it with friends and colleagues to let them execute your code. [Jovian](https://jovian.ai/platform-features) offers an easy way of saving and sharing your Jupyter notebooks online."
   ]
  },
  {
   "cell_type": "code",
   "execution_count": 39,
   "id": "8765dd92-f09f-4619-b526-faf5ab2b9215",
   "metadata": {},
   "outputs": [],
   "source": [
    "#!pip install jovian --upgrade --quiet"
   ]
  },
  {
   "cell_type": "code",
   "execution_count": 40,
   "id": "46aadf40-5428-4ce3-a5c7-d790b142e1ef",
   "metadata": {},
   "outputs": [],
   "source": [
    "import jovian"
   ]
  },
  {
   "cell_type": "code",
   "execution_count": 41,
   "id": "fb61db4c-565e-4b76-a021-2535e7a38cea",
   "metadata": {},
   "outputs": [],
   "source": [
    "#jovian.commit()"
   ]
  },
  {
   "cell_type": "markdown",
   "id": "6c6954e3-027e-412c-b304-82d61047b858",
   "metadata": {},
   "source": [
    "## 6. Apply the right technique to overcome the inefficiency. Repeat Steps 3 to 6.\n",
    "\n",
    "\n",
    "To performing sorting more efficiently, we'll apply a strategy called **Divide and Conquer**, which has the following general steps:\n",
    "\n",
    "1. Divide the inputs into two roughly equal parts.\n",
    "2. Recursively solve the problem individually for each of the two parts.\n",
    "3. Combine the results to solve the problem for the original inputs.\n",
    "4. Include terminating conditions for small or indivisible inputs.\n",
    "\n",
    "Here's a visual representation of the strategy:\n",
    "\n",
    "![](https://www.educative.io/api/edpresso/shot/5327356208087040/image/6475288173084672)\n",
    "\n",
    "### Merge Sort\n",
    "\n",
    "Following a visual representation of the divide and conquer applied for sorting numbers. This algorithm is known as merge sort:\n",
    "\n",
    "\n",
    "<img src=\"https://upload.wikimedia.org/wikipedia/commons/thumb/e/e6/Merge_sort_algorithm_diagram.svg/2560px-Merge_sort_algorithm_diagram.svg.png\" width=\"480\">\n",
    "\n"
   ]
  },
  {
   "cell_type": "markdown",
   "id": "27e6a3f2-b244-42f3-92f4-958567ccad41",
   "metadata": {},
   "source": [
    "## 7. Come up with a correct solution. State it in Plain English.\n",
    "\n",
    "Here's a step-by-step description for merge sort:\n",
    "\n",
    "1. If the input list is empty or contains just one element, it is already sorted. Return it.\n",
    "2. If not, divide the list of numbers into two roughly equal parts.\n",
    "3. Sort each part recursively using the merge sort algorithm. You'll get back two sorted lists.\n",
    "4. Merge the two sorted lists to get a single sorted list\n",
    "\n",
    "Can you guess how the \"merge\" operation step 4 works? Hint: Watch this animation: https://youtu.be/GW0USDwhBgo?t=28\n",
    "\n",
    "> **QUESTION 3**: Write a function to merge two sorted arrays.\n",
    "\n",
    "\n",
    "Try to explain how the merge operation works in your own words below:\n",
    "\n",
    "1. ???\n",
    "2. ???\n",
    "3. ???\n",
    "4. ???\n"
   ]
  },
  {
   "cell_type": "markdown",
   "id": "b12dbfb0-942e-430f-a362-30580bcba3e5",
   "metadata": {},
   "source": [
    "## 8. Implement the solution and test it using example inputs\n",
    "\n",
    "Let's implement the merge sort algorithm assuming we already have a helper function called `merge` for merging two sorted arrays."
   ]
  },
  {
   "cell_type": "code",
   "execution_count": 42,
   "id": "b59b26fa-106d-4f48-b2c9-679bb5ea0cca",
   "metadata": {},
   "outputs": [],
   "source": [
    "def merge_sort(nums):\n",
    "    # Terminating condition (list of 0 or 1 elements)\n",
    "    if len(nums) <= 1:\n",
    "        return nums\n",
    "    \n",
    "    # Get the midpoint\n",
    "    mid = len(nums) // 2\n",
    "    \n",
    "    # Split the list into two halves\n",
    "    left = nums[:mid]\n",
    "    right = nums[mid:]\n",
    "    \n",
    "    # Solve the problem for each half recursively\n",
    "    left_sorted, right_sorted = merge_sort(left), merge_sort(right)\n",
    "    \n",
    "    # Combine the results of the two halves\n",
    "    sorted_nums =  merge(left_sorted, right_sorted)\n",
    "    \n",
    "    return sorted_nums"
   ]
  },
  {
   "cell_type": "markdown",
   "id": "b5f6f409-e22e-4313-b221-ebed483ab23a",
   "metadata": {},
   "source": [
    "Two merge two sorted arrays, we can repeatedly compare the two least elements of each array, and copy over the smaller one into a new array.\n",
    "\n",
    "Here's a visual representation of the merge operation:\n",
    "\n",
    "<img src=\"https://i.imgur.com/XeEpa0U.png\" width=\"480\">\n",
    "\n",
    "\n"
   ]
  },
  {
   "cell_type": "code",
   "execution_count": 43,
   "id": "ba534595-035b-4428-880a-83623d08dadb",
   "metadata": {},
   "outputs": [],
   "source": [
    "def merge(nums1, nums2):    \n",
    "    # List to store the results \n",
    "    merged = []\n",
    "    \n",
    "    # Indices for iteration\n",
    "    i, j = 0, 0\n",
    "    \n",
    "    # Loop over the two lists\n",
    "    while i < len(nums1) and j < len(nums2):        \n",
    "        \n",
    "        # Include the smaller element in the result and move to next element\n",
    "        if nums1[i] <= nums2[j]:\n",
    "            merged.append(nums1[i])\n",
    "            i += 1 \n",
    "        else:\n",
    "            merged.append(nums2[j])\n",
    "            j += 1\n",
    "    \n",
    "    # Get the remaining parts\n",
    "    nums1_tail = nums1[i:]\n",
    "    nums2_tail = nums2[j:]\n",
    "    \n",
    "    # Return the final merged array\n",
    "    return merged + nums1_tail + nums2_tail"
   ]
  },
  {
   "cell_type": "markdown",
   "id": "04a4e801-118f-456e-9d97-e7f0948ee8e5",
   "metadata": {},
   "source": [
    "Let's test the merge operation, before we test merge sort. "
   ]
  },
  {
   "cell_type": "code",
   "execution_count": 44,
   "id": "c3666a69-1659-4824-bf61-10330ef0959b",
   "metadata": {},
   "outputs": [
    {
     "data": {
      "text/plain": [
       "[-1, 0, 1, 2, 3, 4, 7, 8, 9, 11, 12]"
      ]
     },
     "execution_count": 44,
     "metadata": {},
     "output_type": "execute_result"
    }
   ],
   "source": [
    "merge([1, 4, 7, 9, 11], [-1, 0, 2, 3, 8, 12])"
   ]
  },
  {
   "cell_type": "markdown",
   "id": "88a0683d-ab32-4644-9945-244225a63982",
   "metadata": {},
   "source": [
    "It seems to work as expected. We can now test the `merge_sort` function."
   ]
  },
  {
   "cell_type": "code",
   "execution_count": 45,
   "id": "71b21413-c247-4b56-b36b-203a5d3a9723",
   "metadata": {},
   "outputs": [
    {
     "name": "stdout",
     "output_type": "stream",
     "text": [
      "Input: [4, 2, 6, 3, 4, 6, 2, 1]\n",
      "Expected output: [1, 2, 2, 3, 4, 4, 6, 6]\n",
      "Actual output: [1, 2, 2, 3, 4, 4, 6, 6]\n",
      "Match: True\n"
     ]
    }
   ],
   "source": [
    "nums0, output0 = test0['input']['nums'], test0['output']\n",
    "\n",
    "print('Input:', nums0)\n",
    "print('Expected output:', output0)\n",
    "result0 = merge_sort(nums0)\n",
    "print('Actual output:', result0)\n",
    "print('Match:', result0 == output0)"
   ]
  },
  {
   "cell_type": "markdown",
   "id": "1380374d-77ef-4fb8-bac3-9bea6772c468",
   "metadata": {},
   "source": [
    "Let's test all the cases using the `evaluate_test_cases` function from `jovian`."
   ]
  },
  {
   "cell_type": "code",
   "execution_count": 46,
   "id": "b80999b2-b69d-4fc5-a79d-d31c639081b8",
   "metadata": {
    "scrolled": true
   },
   "outputs": [
    {
     "name": "stdout",
     "output_type": "stream",
     "text": [
      "\n",
      "\u001b[1mTEST CASE #0\u001b[0m\n",
      "\n",
      "Input:\n",
      "{'nums': [4, 2, 6, 3, 4, 6, 2, 1]}\n",
      "\n",
      "Expected Output:\n",
      "[1, 2, 2, 3, 4, 4, 6, 6]\n",
      "\n",
      "\n",
      "Actual Output:\n",
      "[1, 2, 2, 3, 4, 4, 6, 6]\n",
      "\n",
      "Execution Time:\n",
      "0.013 ms\n",
      "\n",
      "Test Result:\n",
      "\u001b[92mPASSED\u001b[0m\n",
      "\n",
      "\n",
      "\u001b[1mTEST CASE #1\u001b[0m\n",
      "\n",
      "Input:\n",
      "{'nums': [5, 2, 6, 1, 23, 7, -12, 12, -243, 0]}\n",
      "\n",
      "Expected Output:\n",
      "[-243, -12, 0, 1, 2, 5, 6, 7, 12, 23]\n",
      "\n",
      "\n",
      "Actual Output:\n",
      "[-243, -12, 0, 1, 2, 5, 6, 7, 12, 23]\n",
      "\n",
      "Execution Time:\n",
      "0.013 ms\n",
      "\n",
      "Test Result:\n",
      "\u001b[92mPASSED\u001b[0m\n",
      "\n",
      "\n",
      "\u001b[1mTEST CASE #2\u001b[0m\n",
      "\n",
      "Input:\n",
      "{'nums': [3, 5, 6, 8, 9, 10, 99]}\n",
      "\n",
      "Expected Output:\n",
      "[3, 5, 6, 8, 9, 10, 99]\n",
      "\n",
      "\n",
      "Actual Output:\n",
      "[3, 5, 6, 8, 9, 10, 99]\n",
      "\n",
      "Execution Time:\n",
      "0.007 ms\n",
      "\n",
      "Test Result:\n",
      "\u001b[92mPASSED\u001b[0m\n",
      "\n",
      "\n",
      "\u001b[1mTEST CASE #3\u001b[0m\n",
      "\n",
      "Input:\n",
      "{'nums': [99, 10, 9, 8, 6, 5, 3]}\n",
      "\n",
      "Expected Output:\n",
      "[3, 5, 6, 8, 9, 10, 99]\n",
      "\n",
      "\n",
      "Actual Output:\n",
      "[3, 5, 6, 8, 9, 10, 99]\n",
      "\n",
      "Execution Time:\n",
      "0.007 ms\n",
      "\n",
      "Test Result:\n",
      "\u001b[92mPASSED\u001b[0m\n",
      "\n",
      "\n",
      "\u001b[1mTEST CASE #4\u001b[0m\n",
      "\n",
      "Input:\n",
      "{'nums': [5, -12, 2, 6, 1, 23, 7, 7, -12, 6, 12, 1, -243, 1, 0]}\n",
      "\n",
      "Expected Output:\n",
      "[-243, -12, -12, 0, 1, 1, 1, 2, 5, 6, 6, 7, 7, 12, 23]\n",
      "\n",
      "\n",
      "Actual Output:\n",
      "[-243, -12, -12, 0, 1, 1, 1, 2, 5, 6, 6, 7, 7, 12, 23]\n",
      "\n",
      "Execution Time:\n",
      "0.016 ms\n",
      "\n",
      "Test Result:\n",
      "\u001b[92mPASSED\u001b[0m\n",
      "\n",
      "\n",
      "\u001b[1mTEST CASE #5\u001b[0m\n",
      "\n",
      "Input:\n",
      "{'nums': []}\n",
      "\n",
      "Expected Output:\n",
      "[]\n",
      "\n",
      "\n",
      "Actual Output:\n",
      "[]\n",
      "\n",
      "Execution Time:\n",
      "0.001 ms\n",
      "\n",
      "Test Result:\n",
      "\u001b[92mPASSED\u001b[0m\n",
      "\n",
      "\n",
      "\u001b[1mTEST CASE #6\u001b[0m\n",
      "\n",
      "Input:\n",
      "{'nums': [23]}\n",
      "\n",
      "Expected Output:\n",
      "[23]\n",
      "\n",
      "\n",
      "Actual Output:\n",
      "[23]\n",
      "\n",
      "Execution Time:\n",
      "0.001 ms\n",
      "\n",
      "Test Result:\n",
      "\u001b[92mPASSED\u001b[0m\n",
      "\n",
      "\n",
      "\u001b[1mTEST CASE #7\u001b[0m\n",
      "\n",
      "Input:\n",
      "{'nums': [42, 42, 42, 42, 42, 42, 42]}\n",
      "\n",
      "Expected Output:\n",
      "[42, 42, 42, 42, 42, 42, 42]\n",
      "\n",
      "\n",
      "Actual Output:\n",
      "[42, 42, 42, 42, 42, 42, 42]\n",
      "\n",
      "Execution Time:\n",
      "0.006 ms\n",
      "\n",
      "Test Result:\n",
      "\u001b[92mPASSED\u001b[0m\n",
      "\n",
      "\n",
      "\u001b[1mTEST CASE #8\u001b[0m\n",
      "\n",
      "Input:\n",
      "{'nums': [402, 7229, 188, 2501, 4174, 3034, 7136, 5967, 1146, 2682, 961, 1432, 2774, 5615, 8589, 918...\n",
      "\n",
      "Expected Output:\n",
      "[0, 1, 2, 3, 4, 5, 6, 7, 8, 9, 10, 11, 12, 13, 14, 15, 16, 17, 18, 19, 20, 21, 22, 23, 24, 25, 26, 2...\n",
      "\n",
      "\n",
      "Actual Output:\n",
      "[0, 1, 2, 3, 4, 5, 6, 7, 8, 9, 10, 11, 12, 13, 14, 15, 16, 17, 18, 19, 20, 21, 22, 23, 24, 25, 26, 2...\n",
      "\n",
      "Execution Time:\n",
      "24.177 ms\n",
      "\n",
      "Test Result:\n",
      "\u001b[92mPASSED\u001b[0m\n",
      "\n",
      "\n",
      "\u001b[1mSUMMARY\u001b[0m\n",
      "\n",
      "TOTAL: 9, \u001b[92mPASSED\u001b[0m: 9, \u001b[91mFAILED\u001b[0m: 0\n"
     ]
    }
   ],
   "source": [
    "results = evaluate_test_cases(merge_sort, tests)"
   ]
  },
  {
   "cell_type": "markdown",
   "id": "0ffca749-f2cb-4217-8f18-01a6835d9b54",
   "metadata": {},
   "source": [
    "All the test cases have passed! Our function works as expected.\n",
    "\n",
    "Notice the last test case, the merge sort function took just 50 milliseconds to sort 10,000 numbers, which took bubble sort about 12 seconds."
   ]
  },
  {
   "cell_type": "code",
   "execution_count": 47,
   "id": "3ef08d7f-dca0-4bc3-9441-06b09b79b48a",
   "metadata": {},
   "outputs": [],
   "source": [
    "#jovian.commit()"
   ]
  },
  {
   "cell_type": "markdown",
   "id": "5ecadceb-c6dc-4870-9905-48d2c7c435b7",
   "metadata": {},
   "source": [
    "## 9. Analyze the algorithm's complexity and identify inefficiencies\n",
    "\n",
    "Analyzing the complexity of recursive algorithms can be tricky. It helps to track and follow the chain of recursive calls. We'll add some print statements to our `merge_sort` and `merge_functions` to display the _tree_ of recursive function calls."
   ]
  },
  {
   "cell_type": "code",
   "execution_count": 48,
   "id": "9f08f377-859b-4655-898a-02f87d7798ea",
   "metadata": {},
   "outputs": [],
   "source": [
    "def merge(nums1, nums2, depth=0):\n",
    "    print('  '*depth, 'merge:', nums1, nums2)\n",
    "    i, j, merged = 0, 0, []\n",
    "    while i < len(nums1) and j < len(nums2):\n",
    "        if nums1[i] <= nums2[j]:\n",
    "            merged.append(nums1[i])\n",
    "            i += 1\n",
    "        else:\n",
    "            merged.append(nums2[j])\n",
    "            j += 1\n",
    "    return merged + nums1[i:] + nums2[j:]\n",
    "        \n",
    "def merge_sort(nums, depth=0):\n",
    "    print('  '*depth, 'merge_sort:', nums)\n",
    "    if len(nums) < 2: \n",
    "        return nums\n",
    "    mid = len(nums) // 2\n",
    "    return merge(merge_sort(nums[:mid], depth+1), \n",
    "                 merge_sort(nums[mid:], depth+1), \n",
    "                 depth+1)"
   ]
  },
  {
   "cell_type": "code",
   "execution_count": 49,
   "id": "87055b1e-bbdf-4cd9-8a31-552783b1b76d",
   "metadata": {},
   "outputs": [
    {
     "name": "stdout",
     "output_type": "stream",
     "text": [
      " merge_sort: [5, -12, 2, 6, 1, 23, 7, 7, -12]\n",
      "   merge_sort: [5, -12, 2, 6]\n",
      "     merge_sort: [5, -12]\n",
      "       merge_sort: [5]\n",
      "       merge_sort: [-12]\n",
      "       merge: [5] [-12]\n",
      "     merge_sort: [2, 6]\n",
      "       merge_sort: [2]\n",
      "       merge_sort: [6]\n",
      "       merge: [2] [6]\n",
      "     merge: [-12, 5] [2, 6]\n",
      "   merge_sort: [1, 23, 7, 7, -12]\n",
      "     merge_sort: [1, 23]\n",
      "       merge_sort: [1]\n",
      "       merge_sort: [23]\n",
      "       merge: [1] [23]\n",
      "     merge_sort: [7, 7, -12]\n",
      "       merge_sort: [7]\n",
      "       merge_sort: [7, -12]\n",
      "         merge_sort: [7]\n",
      "         merge_sort: [-12]\n",
      "         merge: [7] [-12]\n",
      "       merge: [7] [-12, 7]\n",
      "     merge: [1, 23] [-12, 7, 7]\n",
      "   merge: [-12, 2, 5, 6] [-12, 1, 7, 7, 23]\n"
     ]
    },
    {
     "data": {
      "text/plain": [
       "[-12, -12, 1, 2, 5, 6, 7, 7, 23]"
      ]
     },
     "execution_count": 49,
     "metadata": {},
     "output_type": "execute_result"
    }
   ],
   "source": [
    "merge_sort([5, -12, 2, 6, 1, 23, 7, 7, -12])"
   ]
  },
  {
   "cell_type": "markdown",
   "id": "d66f3034-44e3-4176-acaf-0e9d02b01e55",
   "metadata": {},
   "source": [
    "We can now see that each `merge_sort` call itself invokes `merge_sort` twice (but with an array half the size), and also invokes the `merge` function once to merge the two resulting arrays. The two calls to `merge_sort` themselves make two recursive calls followed by an invocation of `merge`. The division continues till we reach an list of size 1 or 0. Thus, the merge sort algorithm ultimately boils down to a series of `merge` operations performed on arrays of varying sizes. Inside the `merge` function we perform comparisons and add numbers to a new array.\n",
    "\n",
    "**Exercise:** Verify that time complexity of the merge operation is $O(n)$, where $n$ is the sum of the sizes of the two input lists. Hint: Count the number of comparisons.\n",
    "\n",
    "To find the overall complexity of `merge_sort`, we simply need to count how many times the `merge` function was invoked and the size of the input list for each invocation. Here's how all the subproblems can be visualized:\n",
    "\n",
    "\n",
    "![](https://i.imgur.com/j1IuS2t.png)\n",
    "\n",
    "Counting from the top and starting from 0, the $k^{th}$ level of the above tree involves $2^k$ invocations of `merge` with sublists of size roughly $n / 2^k$, where $n$ is the size of the original input list. Therefore the total number of comparisons at each level of the tree is $2^k * n/2^k = n$.\n",
    "\n",
    "Thus, if the height of the tree is $h$, the total number of comparisons is $n*h$. Since there are $n$ sublists of size 1 at the lowest level, it follows that $2^{(h-1)} = n$ i.e. $h = \\log n + 1$. Thus the time complexity of the merge sort algorithms is $O(n \\log n)$.\n",
    "\n",
    "As we already saw, it took just 50 ms to sort an array of 10,000 elements. Even an array of 1 million elements will take only a few seconds to be sorted.\n",
    "\n",
    "\n",
    "### Space Complexity\n",
    "\n",
    "\n",
    "\n",
    "\n",
    "To find the space complexity of merge sort, it helps to recall that a new list with equal to the sum of the sizes of the two lists is created in each invocation of `merge`. \n",
    "\n",
    "```\n",
    "i, j, merged = 0, 0, []\n",
    "while i < len(nums1) and j < len(nums2):\n",
    "    if nums1[i] <= nums2[j]:\n",
    "        merged.append(nums1[i])\n",
    "        i += 1\n",
    "    else:\n",
    "        merged.append(nums2[j])\n",
    "        j += 1\n",
    "```\n",
    "\n",
    "\n",
    "At first glance, it may seem that $O(n)$ space is required for each level of the tree, so the space complexity of merge sort is $O(n \\log n)$.\n",
    "\n",
    "![](https://i.imgur.com/KTbibGC.png)\n",
    "\n",
    "However, since the original sublists can be discarded after the `merge` operation, the additional space can be freed or reused for future merge calls. Thus, merge sort requires $O(n)$ additional space i.e. the space complexity is $O(n)$.\n",
    "\n",
    "\n",
    "There are several extensions and variations and extensions of merge sort:\n",
    "\n",
    "* K-way merge sort: https://en.wikipedia.org/wiki/K-way_merge_algorithm\n",
    "* Counting inversions in an array: https://www.geeksforgeeks.org/counting-inversions/\n",
    "* Merge sort and insertion sort hybrids: https://en.wikipedia.org/wiki/Timsort\n"
   ]
  },
  {
   "cell_type": "code",
   "execution_count": 50,
   "id": "f9886f16-08ea-4982-b5a2-58aa7464dd70",
   "metadata": {},
   "outputs": [],
   "source": [
    "#jovian.commit()"
   ]
  },
  {
   "cell_type": "markdown",
   "id": "b4835c53-d0ef-4051-82de-fdf87b02133c",
   "metadata": {},
   "source": [
    "## 10. Apply the right technique to overcome the inefficiency. Repeat Steps 3 to 6.\n",
    "\n",
    "The fact that merge sort requires allocating additional space as large as the input itself makes it somewhat slow in practice because memory allocation is far more expensive than comparisons or swapping.\n",
    "\n",
    "### Quicksort\n",
    "\n",
    "To overcome the space inefficiencies of merge sort, we'll study another divide-and-conquer based sorting algorithm called **quicksort**, which works as follows:\n",
    "\n",
    "1. If the list is empty or has just one element, return it. It's already sorted.\n",
    "2. Pick a random element from the list. This element is called a _pivot_.\n",
    "3. Reorder the list so that all elements with values less than or equal to the pivot come before the pivot, while all elements with values greater than the pivot come after it. This operation is called _partitioning_.\n",
    "4. The pivot element divides the array into two parts which can be sorted independently by making a recursive call to quicksort.\n",
    "\n",
    "![](https://images.deepai.org/glossary-terms/a5228ea07c794b468efd1b7f758b9ead/Quicksort.png)\n",
    "\n",
    "The key observation here is that after the partition, the pivot element is at its right place in the sorted array, and the two parts of the array can be sorted independently in-place.\n",
    "\n",
    "Here's an implementation of quicksort, assuming we already have a helper function called `partitions` which picks a pivot, partitions the array in-place, and returns the position of the pivot element."
   ]
  },
  {
   "cell_type": "code",
   "execution_count": 51,
   "id": "7fb8be50-8575-45a5-b532-588f0ddc702d",
   "metadata": {},
   "outputs": [],
   "source": [
    "def quicksort(nums, start=0, end=None):\n",
    "    # print('quicksort', nums, start, end)\n",
    "    if end is None:\n",
    "        nums = list(nums)\n",
    "        end = len(nums) - 1\n",
    "    \n",
    "    if start < end:\n",
    "        pivot = partition(nums, start, end)\n",
    "        quicksort(nums, start, pivot-1)\n",
    "        quicksort(nums, pivot+1, end)\n",
    "\n",
    "    return nums"
   ]
  },
  {
   "cell_type": "markdown",
   "id": "ab73a79b-60f2-4d0e-b992-a6045e9d8ce3",
   "metadata": {},
   "source": [
    "Here's how the partition operation works([source](https://medium.com/basecs/pivoting-to-understand-quicksort-part-1-75178dfb9313)):\n",
    "\n",
    "<img src=\"https://i.imgur.com/Igk7Kr4.png\" width=\"420\">\n",
    "\n",
    "\n",
    "Here's an implementation of partition, which uses the last element of the list as a pivot:"
   ]
  },
  {
   "cell_type": "code",
   "execution_count": 52,
   "id": "a0f59b26-1d92-41f1-8f61-0e7c75039c11",
   "metadata": {},
   "outputs": [],
   "source": [
    "def partition(nums, start=0, end=None):\n",
    "    # print('partition', nums, start, end)\n",
    "    if end is None:\n",
    "        end = len(nums) - 1\n",
    "    \n",
    "    # Initialize right and left pointers\n",
    "    l, r = start, end-1\n",
    "    \n",
    "    # Iterate while they're apart\n",
    "    while r > l:\n",
    "        # print('  ', nums, l, r)\n",
    "        # Increment left pointer if number is less or equal to pivot\n",
    "        if nums[l] <= nums[end]:\n",
    "            l += 1\n",
    "        \n",
    "        # Decrement right pointer if number is greater than pivot\n",
    "        elif nums[r] > nums[end]:\n",
    "            r -= 1\n",
    "        \n",
    "        # Two out-of-place elements found, swap them\n",
    "        else:\n",
    "            nums[l], nums[r] = nums[r], nums[l]\n",
    "    # print('  ', nums, l, r)\n",
    "    # Place the pivot between the two parts\n",
    "    if nums[l] > nums[end]:\n",
    "        nums[l], nums[end] = nums[end], nums[l]\n",
    "        return l\n",
    "    else:\n",
    "        return end"
   ]
  },
  {
   "cell_type": "markdown",
   "id": "22d15c19-f9d2-4c27-a0dd-8ce2da5d0ffc",
   "metadata": {},
   "source": [
    "Let's see the partition function in action:"
   ]
  },
  {
   "cell_type": "code",
   "execution_count": 53,
   "id": "1ec85993-d6d9-4650-996d-0ddeed3354ca",
   "metadata": {},
   "outputs": [
    {
     "name": "stdout",
     "output_type": "stream",
     "text": [
      "[1, 0, 2, 3, 5, 11, 6] 3\n"
     ]
    }
   ],
   "source": [
    "l1 = [1, 5, 6, 2, 0, 11, 3]\n",
    "pivot = partition(l1)\n",
    "print(l1, pivot)"
   ]
  },
  {
   "cell_type": "markdown",
   "id": "d0463457-035d-421c-874f-ef61fb9af2be",
   "metadata": {},
   "source": [
    "As expected the list was partitioned using `3` as the pivot element, which finally ends up at the index `2` within the partitioned list.\n",
    "\n",
    "**Exercise:** Add print statements inside the partition function to display the list, the left pointer and the right pointer at the beginning and end of every loop, to study how the partitioning works."
   ]
  },
  {
   "cell_type": "code",
   "execution_count": null,
   "id": "496a27bf-e48e-43c4-b286-779198c1adf5",
   "metadata": {},
   "outputs": [],
   "source": []
  },
  {
   "cell_type": "markdown",
   "id": "e7492cf0-5e36-4562-ba57-ddd44dd01441",
   "metadata": {},
   "source": [
    "We can now see quicksort in action:"
   ]
  },
  {
   "cell_type": "code",
   "execution_count": 54,
   "id": "49b6cd9e-fc14-41a0-bed1-86e3a24abe9f",
   "metadata": {},
   "outputs": [
    {
     "name": "stdout",
     "output_type": "stream",
     "text": [
      "Input: [4, 2, 6, 3, 4, 6, 2, 1]\n",
      "Expected output: [1, 2, 2, 3, 4, 4, 6, 6]\n",
      "Actual output: [1, 2, 2, 3, 4, 4, 6, 6]\n",
      "Match: True\n"
     ]
    }
   ],
   "source": [
    "nums0, output0 = test0['input']['nums'], test0['output']\n",
    "\n",
    "print('Input:', nums0)\n",
    "print('Expected output:', output0)\n",
    "result0 = quicksort(nums0)\n",
    "print('Actual output:', result0)\n",
    "print('Match:', result0 == output0)"
   ]
  },
  {
   "cell_type": "markdown",
   "id": "61b14604-f9fa-447a-a0be-9cf9a99a497c",
   "metadata": {},
   "source": [
    "Let's test all the cases using the `evaluate_test_cases` function from `jovian`."
   ]
  },
  {
   "cell_type": "code",
   "execution_count": 55,
   "id": "f5d871aa-53fa-4f58-b2f6-ee716ddc3b4f",
   "metadata": {
    "scrolled": true
   },
   "outputs": [
    {
     "name": "stdout",
     "output_type": "stream",
     "text": [
      "\n",
      "\u001b[1mTEST CASE #0\u001b[0m\n",
      "\n",
      "Input:\n",
      "{'nums': [4, 2, 6, 3, 4, 6, 2, 1]}\n",
      "\n",
      "Expected Output:\n",
      "[1, 2, 2, 3, 4, 4, 6, 6]\n",
      "\n",
      "\n",
      "Actual Output:\n",
      "[1, 2, 2, 3, 4, 4, 6, 6]\n",
      "\n",
      "Execution Time:\n",
      "0.011 ms\n",
      "\n",
      "Test Result:\n",
      "\u001b[92mPASSED\u001b[0m\n",
      "\n",
      "\n",
      "\u001b[1mTEST CASE #1\u001b[0m\n",
      "\n",
      "Input:\n",
      "{'nums': [5, 2, 6, 1, 23, 7, -12, 12, -243, 0]}\n",
      "\n",
      "Expected Output:\n",
      "[-243, -12, 0, 1, 2, 5, 6, 7, 12, 23]\n",
      "\n",
      "\n",
      "Actual Output:\n",
      "[-243, -12, 0, 1, 2, 5, 6, 7, 12, 23]\n",
      "\n",
      "Execution Time:\n",
      "0.008 ms\n",
      "\n",
      "Test Result:\n",
      "\u001b[92mPASSED\u001b[0m\n",
      "\n",
      "\n",
      "\u001b[1mTEST CASE #2\u001b[0m\n",
      "\n",
      "Input:\n",
      "{'nums': [3, 5, 6, 8, 9, 10, 99]}\n",
      "\n",
      "Expected Output:\n",
      "[3, 5, 6, 8, 9, 10, 99]\n",
      "\n",
      "\n",
      "Actual Output:\n",
      "[3, 5, 6, 8, 9, 10, 99]\n",
      "\n",
      "Execution Time:\n",
      "0.005 ms\n",
      "\n",
      "Test Result:\n",
      "\u001b[92mPASSED\u001b[0m\n",
      "\n",
      "\n",
      "\u001b[1mTEST CASE #3\u001b[0m\n",
      "\n",
      "Input:\n",
      "{'nums': [99, 10, 9, 8, 6, 5, 3]}\n",
      "\n",
      "Expected Output:\n",
      "[3, 5, 6, 8, 9, 10, 99]\n",
      "\n",
      "\n",
      "Actual Output:\n",
      "[3, 5, 6, 8, 9, 10, 99]\n",
      "\n",
      "Execution Time:\n",
      "0.005 ms\n",
      "\n",
      "Test Result:\n",
      "\u001b[92mPASSED\u001b[0m\n",
      "\n",
      "\n",
      "\u001b[1mTEST CASE #4\u001b[0m\n",
      "\n",
      "Input:\n",
      "{'nums': [5, -12, 2, 6, 1, 23, 7, 7, -12, 6, 12, 1, -243, 1, 0]}\n",
      "\n",
      "Expected Output:\n",
      "[-243, -12, -12, 0, 1, 1, 1, 2, 5, 6, 6, 7, 7, 12, 23]\n",
      "\n",
      "\n",
      "Actual Output:\n",
      "[-243, -12, -12, 0, 1, 1, 1, 2, 5, 6, 6, 7, 7, 12, 23]\n",
      "\n",
      "Execution Time:\n",
      "0.01 ms\n",
      "\n",
      "Test Result:\n",
      "\u001b[92mPASSED\u001b[0m\n",
      "\n",
      "\n",
      "\u001b[1mTEST CASE #5\u001b[0m\n",
      "\n",
      "Input:\n",
      "{'nums': []}\n",
      "\n",
      "Expected Output:\n",
      "[]\n",
      "\n",
      "\n",
      "Actual Output:\n",
      "[]\n",
      "\n",
      "Execution Time:\n",
      "0.001 ms\n",
      "\n",
      "Test Result:\n",
      "\u001b[92mPASSED\u001b[0m\n",
      "\n",
      "\n",
      "\u001b[1mTEST CASE #6\u001b[0m\n",
      "\n",
      "Input:\n",
      "{'nums': [23]}\n",
      "\n",
      "Expected Output:\n",
      "[23]\n",
      "\n",
      "\n",
      "Actual Output:\n",
      "[23]\n",
      "\n",
      "Execution Time:\n",
      "0.002 ms\n",
      "\n",
      "Test Result:\n",
      "\u001b[92mPASSED\u001b[0m\n",
      "\n",
      "\n",
      "\u001b[1mTEST CASE #7\u001b[0m\n",
      "\n",
      "Input:\n",
      "{'nums': [42, 42, 42, 42, 42, 42, 42]}\n",
      "\n",
      "Expected Output:\n",
      "[42, 42, 42, 42, 42, 42, 42]\n",
      "\n",
      "\n",
      "Actual Output:\n",
      "[42, 42, 42, 42, 42, 42, 42]\n",
      "\n",
      "Execution Time:\n",
      "0.005 ms\n",
      "\n",
      "Test Result:\n",
      "\u001b[92mPASSED\u001b[0m\n",
      "\n",
      "\n",
      "\u001b[1mTEST CASE #8\u001b[0m\n",
      "\n",
      "Input:\n",
      "{'nums': [402, 7229, 188, 2501, 4174, 3034, 7136, 5967, 1146, 2682, 961, 1432, 2774, 5615, 8589, 918...\n",
      "\n",
      "Expected Output:\n",
      "[0, 1, 2, 3, 4, 5, 6, 7, 8, 9, 10, 11, 12, 13, 14, 15, 16, 17, 18, 19, 20, 21, 22, 23, 24, 25, 26, 2...\n",
      "\n",
      "\n",
      "Actual Output:\n",
      "[0, 1, 2, 3, 4, 5, 6, 7, 8, 9, 10, 11, 12, 13, 14, 15, 16, 17, 18, 19, 20, 21, 22, 23, 24, 25, 26, 2...\n",
      "\n",
      "Execution Time:\n",
      "14.334 ms\n",
      "\n",
      "Test Result:\n",
      "\u001b[92mPASSED\u001b[0m\n",
      "\n",
      "\n",
      "\u001b[1mSUMMARY\u001b[0m\n",
      "\n",
      "TOTAL: 9, \u001b[92mPASSED\u001b[0m: 9, \u001b[91mFAILED\u001b[0m: 0\n"
     ]
    }
   ],
   "source": [
    "from jovian.pythondsa import evaluate_test_cases\n",
    "\n",
    "results = evaluate_test_cases(quicksort, tests)"
   ]
  },
  {
   "cell_type": "markdown",
   "id": "8dd8bc52-3ce1-47f3-95cc-7cf96cfc49a4",
   "metadata": {},
   "source": [
    "All the test cases have passed successfully! You will also notice that is also marginally faster than merge sort for larger lists."
   ]
  },
  {
   "cell_type": "markdown",
   "id": "bb0cea92-5c89-48d1-8bcb-0fe8e985a324",
   "metadata": {},
   "source": [
    "### Time Complexity of Quicksort\n",
    "\n",
    "If we assume that \n",
    "\n",
    "\n",
    "Best case partitioning:\n",
    "\n",
    "<img src=\"https://i.imgur.com/DgvYvnG.png\" width=\"480\">\n",
    "\n",
    "\n",
    "If we partition the list into two nearly equal parts, then the complexity analysis is similar to that of merge sort and quicksort has the complexity $O(n \\log n)$. This is called the average-case complexity.\n",
    "\n",
    "\n",
    "Worst case partitioning:\n",
    "\n",
    "\n",
    "<img src=\"https://cdn.kastatic.org/ka-perseus-images/7da2ac32779bef669a6f05decb62f219a9132158.png\" width=\"480\">\n",
    "\n",
    "In this case, the partition is called `n` times with lists of sizes `n`, `n-1`... so that total comparisions are $n + (n-1) + (n-2) + ... + 2 + 1 = n * (n-1) / 2$. So the worst-case complexity of quicksort is $O(n^2)$.\n",
    "\n",
    "**Exercise:** Verify that quicksort requires $O(1)$ additional space.\n",
    "\n",
    "Despite the quadratic worst case time complexity Quicksort is preferred in many situations because its running time is closer to $O(n \\log n)$ in practice, especially with a good strategy for picking a pivot. Some these are:\n",
    "\n",
    "- [Picking a random pivot](https://cs.stackexchange.com/questions/7582/what-is-the-advantage-of-randomized-quicksort)\n",
    "- [Picking median of medians](https://en.wikipedia.org/wiki/Median_of_medians)\n",
    "\n",
    "\n",
    "Here are some other problems you can solve using the partitioning strategy of Quicksort: https://www.techiedelight.com/problems-solved-using-partitioning-logic-quicksort/\n",
    "\n",
    "\n",
    "\n"
   ]
  },
  {
   "cell_type": "markdown",
   "id": "c4e74d7f-8a41-4cdb-b506-e37eaa0781a0",
   "metadata": {},
   "source": [
    "## Custom Comparison Functions\n",
    "\n",
    "Let's return to our original problem statement now.\n",
    "\n",
    "> **QUESTION 1**: You're working on a new feature on Jovian called \"Top Notebooks of the Week\". Write a function to sort a list of notebooks in decreasing order of likes. Keep in mind that up to millions of notebooks  can be created every week, so your function needs to be as efficient as possible.\n",
    "\n",
    "First, we need to sort objects, not just numbers. Also, we want to sort them in the descending order of likes. To achieve this, all we need is a custom comparison function to compare two notebooks.\n",
    "\n",
    "Let's create a class that captures basic information about notebooks."
   ]
  },
  {
   "cell_type": "code",
   "execution_count": 57,
   "id": "30161439-f53f-4611-8e2f-940ea78b5988",
   "metadata": {},
   "outputs": [],
   "source": [
    "class Notebook:\n",
    "    def __init__(self, title, username, likes):\n",
    "        self.title, self.username, self.likes = title, username, likes\n",
    "        \n",
    "    def __repr__(self):\n",
    "        return 'Notebook <\"{}/{}\", {} likes>'.format(self.username, self.title, self.likes)"
   ]
  },
  {
   "cell_type": "markdown",
   "id": "faf9d3f8-39c9-4d28-a33c-e18379ac9ee0",
   "metadata": {},
   "source": [
    "Let's create some sample notebooks"
   ]
  },
  {
   "cell_type": "code",
   "execution_count": 58,
   "id": "2c6e2232-1b62-488e-9cd1-3ccaaba0821b",
   "metadata": {},
   "outputs": [],
   "source": [
    "nb0 = Notebook('pytorch-basics', 'aakashns', 373)\n",
    "nb1 = Notebook('linear-regression', 'siddhant', 532)\n",
    "nb2 = Notebook('logistic-regression', 'vikas', 31)\n",
    "nb3 = Notebook('feedforward-nn', 'sonaksh', 94)\n",
    "nb4 = Notebook('cifar10-cnn', 'biraj', 2)\n",
    "nb5 = Notebook('cifar10-resnet', 'tanya', 29)\n",
    "nb6 = Notebook('anime-gans', 'hemanth', 80)\n",
    "nb7 = Notebook('python-fundamentals', 'vishal', 136)\n",
    "nb8 = Notebook('python-functions', 'aakashns', 74)\n",
    "nb9 = Notebook('python-numpy', 'siddhant', 92)"
   ]
  },
  {
   "cell_type": "code",
   "execution_count": 59,
   "id": "1d9b7881-a687-4d38-ae32-fe1979b78929",
   "metadata": {},
   "outputs": [],
   "source": [
    "notebooks = [nb0, nb1, nb2, nb3, nb4, nb5,nb6, nb7, nb8, nb9]"
   ]
  },
  {
   "cell_type": "code",
   "execution_count": 60,
   "id": "3222fd2a-78a0-422c-bcb4-2054774e00ab",
   "metadata": {},
   "outputs": [
    {
     "data": {
      "text/plain": [
       "[Notebook <\"aakashns/pytorch-basics\", 373 likes>,\n",
       " Notebook <\"siddhant/linear-regression\", 532 likes>,\n",
       " Notebook <\"vikas/logistic-regression\", 31 likes>,\n",
       " Notebook <\"sonaksh/feedforward-nn\", 94 likes>,\n",
       " Notebook <\"biraj/cifar10-cnn\", 2 likes>,\n",
       " Notebook <\"tanya/cifar10-resnet\", 29 likes>,\n",
       " Notebook <\"hemanth/anime-gans\", 80 likes>,\n",
       " Notebook <\"vishal/python-fundamentals\", 136 likes>,\n",
       " Notebook <\"aakashns/python-functions\", 74 likes>,\n",
       " Notebook <\"siddhant/python-numpy\", 92 likes>]"
      ]
     },
     "execution_count": 60,
     "metadata": {},
     "output_type": "execute_result"
    }
   ],
   "source": [
    "notebooks"
   ]
  },
  {
   "cell_type": "markdown",
   "id": "5cca2270-f080-49f4-aa77-89b5a4fdd688",
   "metadata": {},
   "source": [
    "Next, we'll define a custom comparison function for comparing two notebooks. It will return the strings `'lesser'`, `'equal'` or `'greater'` to establish order between the two objects."
   ]
  },
  {
   "cell_type": "code",
   "execution_count": 61,
   "id": "4fefa7b2-2875-45c5-9b84-e3dbc51b2860",
   "metadata": {},
   "outputs": [],
   "source": [
    "def compare_likes(nb1, nb2):\n",
    "    if nb1.likes > nb2.likes:\n",
    "        return 'lesser'\n",
    "    elif nb1.likes == nb2.likes:\n",
    "        return 'equal'\n",
    "    elif nb1.likes < nb2.likes:\n",
    "        return 'greater'"
   ]
  },
  {
   "cell_type": "markdown",
   "id": "78ca2f04-b029-4821-b046-26e2a93fd901",
   "metadata": {},
   "source": [
    "Note that we say `nb1` is _lesser_ than `nb2` if it has higher likes, because we want to sort the notebooks in decreasing order of likes.\n",
    "\n",
    "Here's an implementation of merge sort which accepts a custom comparison function."
   ]
  },
  {
   "cell_type": "code",
   "execution_count": 62,
   "id": "0cb276cd-ab44-4c5b-aa9a-fa70aca4fae0",
   "metadata": {},
   "outputs": [],
   "source": [
    "def default_compare(x, y):\n",
    "    if x < y:\n",
    "        return 'less'\n",
    "    elif x == y:\n",
    "        return 'equal'\n",
    "    else:\n",
    "        return 'greater'\n",
    "\n",
    "def merge_sort(objs, compare=default_compare):\n",
    "    if len(objs) < 2:\n",
    "        return objs\n",
    "    mid = len(objs) // 2\n",
    "    return merge(merge_sort(objs[:mid], compare), \n",
    "                 merge_sort(objs[mid:], compare), \n",
    "                 compare)\n",
    "\n",
    "def merge(left, right, compare):\n",
    "    i, j, merged = 0, 0, []\n",
    "    while i < len(left) and j < len(right):\n",
    "        result = compare(left[i], right[j])\n",
    "        if result == 'lesser' or result == 'equal':\n",
    "            merged.append(left[i])\n",
    "            i += 1\n",
    "        else:\n",
    "            merged.append(right[j])\n",
    "            j += 1\n",
    "    return merged + left[i:] + right[j:]"
   ]
  },
  {
   "cell_type": "code",
   "execution_count": 63,
   "id": "0dc73e58-e1d7-4bd5-bed7-2d7e0fd7239a",
   "metadata": {},
   "outputs": [],
   "source": [
    "sorted_notebooks = merge_sort(notebooks, compare_likes)"
   ]
  },
  {
   "cell_type": "code",
   "execution_count": 64,
   "id": "8d37281d-9bec-4463-94e5-61fe7ee3465b",
   "metadata": {},
   "outputs": [
    {
     "data": {
      "text/plain": [
       "[Notebook <\"siddhant/linear-regression\", 532 likes>,\n",
       " Notebook <\"aakashns/pytorch-basics\", 373 likes>,\n",
       " Notebook <\"vishal/python-fundamentals\", 136 likes>,\n",
       " Notebook <\"sonaksh/feedforward-nn\", 94 likes>,\n",
       " Notebook <\"siddhant/python-numpy\", 92 likes>,\n",
       " Notebook <\"hemanth/anime-gans\", 80 likes>,\n",
       " Notebook <\"aakashns/python-functions\", 74 likes>,\n",
       " Notebook <\"vikas/logistic-regression\", 31 likes>,\n",
       " Notebook <\"tanya/cifar10-resnet\", 29 likes>,\n",
       " Notebook <\"biraj/cifar10-cnn\", 2 likes>]"
      ]
     },
     "execution_count": 64,
     "metadata": {},
     "output_type": "execute_result"
    }
   ],
   "source": [
    "sorted_notebooks"
   ]
  },
  {
   "cell_type": "markdown",
   "id": "afb46087-e835-41fb-9268-f4389245ce8a",
   "metadata": {},
   "source": [
    "As you can see, the notebooks are now sorted by likes. Since we have written a generic `merge_sort` function that works with any compare function, we can also use it to sort the notebooks by title."
   ]
  },
  {
   "cell_type": "code",
   "execution_count": 65,
   "id": "24766a0d-c33b-433b-8ab0-cb8a15fc593a",
   "metadata": {},
   "outputs": [],
   "source": [
    "def compare_titles(nb1, nb2):\n",
    "    if nb1.title < nb2.title:\n",
    "        return 'lesser'\n",
    "    elif nb1.title == nb2.title:\n",
    "        return 'equal'\n",
    "    elif nb1.title > nb2.title:\n",
    "        return 'greater'"
   ]
  },
  {
   "cell_type": "code",
   "execution_count": 66,
   "id": "977c34ab-93a1-44dd-bc69-0f52db9f3368",
   "metadata": {},
   "outputs": [
    {
     "data": {
      "text/plain": [
       "[Notebook <\"hemanth/anime-gans\", 80 likes>,\n",
       " Notebook <\"biraj/cifar10-cnn\", 2 likes>,\n",
       " Notebook <\"tanya/cifar10-resnet\", 29 likes>,\n",
       " Notebook <\"sonaksh/feedforward-nn\", 94 likes>,\n",
       " Notebook <\"siddhant/linear-regression\", 532 likes>,\n",
       " Notebook <\"vikas/logistic-regression\", 31 likes>,\n",
       " Notebook <\"aakashns/python-functions\", 74 likes>,\n",
       " Notebook <\"vishal/python-fundamentals\", 136 likes>,\n",
       " Notebook <\"siddhant/python-numpy\", 92 likes>,\n",
       " Notebook <\"aakashns/pytorch-basics\", 373 likes>]"
      ]
     },
     "execution_count": 66,
     "metadata": {},
     "output_type": "execute_result"
    }
   ],
   "source": [
    "merge_sort(notebooks, compare_titles)"
   ]
  },
  {
   "cell_type": "markdown",
   "id": "6e1c9f05-7b5b-4ef4-b91f-3abe4eefb9f4",
   "metadata": {},
   "source": [
    "**Exercise:** Implement and test generic versions of bubble sort, insertion sort and quicksort using the empty cells below."
   ]
  },
  {
   "cell_type": "markdown",
   "id": "789f0a6e",
   "metadata": {},
   "source": [
    "**Excerise:** make one comparison fucntion for username/title so like two levels "
   ]
  },
  {
   "cell_type": "code",
   "execution_count": null,
   "id": "63940f3b-8af2-4ae5-9cd4-2fb2b6be7c3d",
   "metadata": {},
   "outputs": [],
   "source": []
  },
  {
   "cell_type": "code",
   "execution_count": null,
   "id": "ba20b59c-d29e-4906-9112-b5a4c8b8e268",
   "metadata": {},
   "outputs": [],
   "source": []
  },
  {
   "cell_type": "code",
   "execution_count": null,
   "id": "4e4738aa-0921-40bc-9ed0-5c34bbcad49c",
   "metadata": {},
   "outputs": [],
   "source": []
  },
  {
   "cell_type": "markdown",
   "id": "de597772-3261-4154-aa53-cd9525c311d2",
   "metadata": {},
   "source": [
    "Let's save our work before continuing."
   ]
  },
  {
   "cell_type": "markdown",
   "id": "be7e66be-402e-4cee-8530-0d4435fadda2",
   "metadata": {},
   "source": [
    "## Summary and Exercises\n",
    "\n",
    "We've covered the following sorting algorithms in this tutorial:\n",
    "\n",
    "1. Bubble sort\n",
    "2. Insertion sort\n",
    "3. Merge sort\n",
    "4. Quick sort\n",
    "\n",
    "There are several other sorting algorithms, and most languages provide library functions for sorting that use a hybrid approach depending on the size and type of element in the list/array.\n",
    "\n",
    "\n",
    "Try out some problems on sorting and divide-n-conquer here:\n",
    "\n",
    "* https://leetcode.com/tag/sort/\n",
    "* https://www.techiedelight.com/sorting-interview-questions/\n",
    "* [HackerRank](https://www.hackerrank.com/domains/algorithms?filters%5Bsubdomains%5D%5B%5D=arrays-and-sorting)\n",
    "* https://leetcode.com/tag/divide-and-conquer/\n",
    "* https://www.geeksforgeeks.org/divide-and-conquer/\n",
    "\n",
    "Use this problem solving template: https://jovian.ai/aakashns/python-problem-solving-template"
   ]
  },
  {
   "cell_type": "code",
   "execution_count": null,
   "id": "3527f0d7-2557-4ea5-96b9-06e7b1209f7e",
   "metadata": {},
   "outputs": [],
   "source": []
  }
 ],
 "metadata": {
  "kaggle": {
   "accelerator": "none",
   "dataSources": [],
   "isGpuEnabled": false,
   "isInternetEnabled": true,
   "language": "python",
   "sourceType": "notebook"
  },
  "kernelspec": {
   "display_name": "env",
   "language": "python",
   "name": "python3"
  },
  "language_info": {
   "codemirror_mode": {
    "name": "ipython",
    "version": 3
   },
   "file_extension": ".py",
   "mimetype": "text/x-python",
   "name": "python",
   "nbconvert_exporter": "python",
   "pygments_lexer": "ipython3",
   "version": "3.12.9"
  }
 },
 "nbformat": 4,
 "nbformat_minor": 5
}
