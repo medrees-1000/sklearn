{
 "cells": [
  {
   "cell_type": "markdown",
   "metadata": {
    "id": "bDnkCXW_eJBH"
   },
   "source": [
    "#**Project 2 - Intro to Model Building & Gradient Descent**"
   ]
  },
  {
   "cell_type": "code",
   "execution_count": 1,
   "metadata": {
    "id": "0h8fpW2bc0ca"
   },
   "outputs": [],
   "source": [
    "import numpy as np\n",
    "from sklearn.model_selection import train_test_split\n",
    "from sklearn.metrics import mean_squared_error\n",
    "import matplotlib.pyplot as plt"
   ]
  },
  {
   "cell_type": "markdown",
   "metadata": {
    "id": "meU7e2L2d9oF"
   },
   "source": [
    "##**Data Creation**"
   ]
  },
  {
   "cell_type": "code",
   "execution_count": 2,
   "metadata": {
    "id": "oe7kD525d5ub"
   },
   "outputs": [],
   "source": [
    "def create_1d_data(num_examples, w, b, bound):\n",
    "  \"\"\"Create X, Y data with a linear relationship with added noise.\n",
    "\n",
    "  Args:\n",
    "    num_examples: number of examples to generate\n",
    "    w: desired slope\n",
    "    b: desired intercept\n",
    "    bound: lower and upper boundary of the data interval\n",
    "\n",
    "  Returns:\n",
    "    X and Y with shape (num_examples)\n",
    "  \"\"\"\n",
    "\n",
    "  np.random.seed(4)  # consistent random number generation\n",
    "  X = np.arange(num_examples)\n",
    "  deltas = np.random.uniform(low=-bound, high=bound, size=X.shape) # added noise\n",
    "  Y = b + deltas + w * X\n",
    "\n",
    "  return X, Y"
   ]
  },
  {
   "cell_type": "markdown",
   "metadata": {
    "id": "dBi1shnBe5ep"
   },
   "source": [
    "### Question 1 (2 points)\n",
    "\n",
    "Use the function ```create_1d_data``` to create data with the following specifications:\n",
    "\n",
    "1. ```num_examples = 70 ```\n",
    "2. ```w = 2```\n",
    "3. ```b = 1```\n",
    "4. ```bound = 1```\n",
    "\n",
    "Save the output to variables called ```X``` and ```Y```.\n",
    "\n"
   ]
  },
  {
   "cell_type": "code",
   "execution_count": 3,
   "metadata": {
    "colab": {
     "base_uri": "https://localhost:8080/"
    },
    "id": "RkrsKGgLeh6M",
    "outputId": "fc8f3fbc-3747-455a-fb30-8aefe1be5807"
   },
   "outputs": [
    {
     "data": {
      "text/plain": [
       "((70,), (70,))"
      ]
     },
     "execution_count": 3,
     "metadata": {},
     "output_type": "execute_result"
    }
   ],
   "source": [
    "X, Y = create_1d_data(num_examples=70, w=2, b=1, bound=1)\n",
    "X.shape, Y.shape"
   ]
  },
  {
   "cell_type": "markdown",
   "metadata": {
    "id": "wa9kZQjRgc1B"
   },
   "source": [
    "## **Data Preprocessing**"
   ]
  },
  {
   "cell_type": "markdown",
   "metadata": {
    "id": "Q_Ku78qdglaj"
   },
   "source": [
    "### Question 2 (3 points)\n",
    "\n",
    "1. Add a column of $1s$ to $X$ (this will serve as an intercept or \"bias\" in our modeling task later on). Note: do not create a new array, just concatenate with the current values;\n",
    "2. Print the shape of the array."
   ]
  },
  {
   "cell_type": "code",
   "execution_count": 4,
   "metadata": {
    "id": "AlrJHjv8frQ7"
   },
   "outputs": [
    {
     "data": {
      "text/plain": [
       "(70, 2)"
      ]
     },
     "execution_count": 4,
     "metadata": {},
     "output_type": "execute_result"
    }
   ],
   "source": [
    "X = np.c_[np.ones(X.shape[0]), X]\n",
    "X.shape"
   ]
  },
  {
   "cell_type": "markdown",
   "metadata": {
    "id": "XoQlRGgRhHLe"
   },
   "source": [
    "### Question 3 (7 points)\n",
    "\n",
    "Using the **train_test_split()** method available in scikit-learn:\n",
    "1. Split the (X,Y) data into training and test paritions by setting ```test_size=0.2``` and ```random_state=1234```. All the other arguments of the method are set to default values. Name the resulting arrays ```X_train```, ```X_test```, ```Y_train```, ```Y_test```.\n",
    "2. Print the shape of each array."
   ]
  },
  {
   "cell_type": "code",
   "execution_count": 5,
   "metadata": {
    "colab": {
     "base_uri": "https://localhost:8080/"
    },
    "id": "4F1a_wIZgtoK",
    "outputId": "35baeb1e-ad0a-431b-af46-3810814bddea"
   },
   "outputs": [
    {
     "data": {
      "text/plain": [
       "((56, 2), (14, 2), (56,), (14,))"
      ]
     },
     "execution_count": 5,
     "metadata": {},
     "output_type": "execute_result"
    }
   ],
   "source": [
    "X_train, X_test = train_test_split(X,  test_size=0.2, random_state=1234)\n",
    "Y_train, Y_test = train_test_split(Y,  test_size=0.2, random_state=1234)\n",
    "X_train.shape, X_test.shape, Y_train.shape, Y_test.shape"
   ]
  },
  {
   "cell_type": "markdown",
   "metadata": {
    "id": "QNQFih4DsYMw"
   },
   "source": [
    "##**Modeling**"
   ]
  },
  {
   "cell_type": "markdown",
   "metadata": {
    "id": "Zy5NUGltiF8e"
   },
   "source": [
    "### Question 4 (4 points)\n",
    "\n",
    "Based on how the data were generated, the following is a reasonable guess for a linear model:\n",
    "\n",
    "$M_1(x) = 1+2x$ \\\n",
    "\n",
    "1. Using the matrix multiplicaton operation ```np.dot```, create a vector of predictions called ```M1_hat_train``` using the weights for $M_1$ and ```X_train```.\n",
    "2. Print the shape of the predictions to verify that they match the shape of ```Y_train```."
   ]
  },
  {
   "cell_type": "code",
   "execution_count": 6,
   "metadata": {
    "colab": {
     "base_uri": "https://localhost:8080/",
     "height": 158
    },
    "id": "-0ZB2UTmhwUk",
    "outputId": "9ca02684-3b36-4317-b98b-f52d94ad9758"
   },
   "outputs": [
    {
     "data": {
      "text/plain": [
       "(56,)"
      ]
     },
     "execution_count": 6,
     "metadata": {},
     "output_type": "execute_result"
    }
   ],
   "source": [
    "M1_weights = np.array([1, 2])\n",
    "M1_hat_train = np.dot(X_train, M1_weights)\n",
    "M1_hat_train.shape"
   ]
  },
  {
   "cell_type": "markdown",
   "metadata": {
    "id": "Nycl5e9LkSCU"
   },
   "source": [
    "### Question 5 (6 points)\n",
    "\n",
    "In this question, you will complete code that executes the gradient descent algorithm for learning model parameters.\n",
    "\n",
    "a. Please fill in all TODOs in the function below."
   ]
  },
  {
   "cell_type": "code",
   "execution_count": 7,
   "metadata": {
    "id": "ISyLoPgxkDoV"
   },
   "outputs": [],
   "source": [
    "def gradient_descent(inputs, outputs, learning_rate, num_epochs):\n",
    "  \"\"\"Apply the gradient descent algorithm to learn learn linear regression.\n",
    "\n",
    "  Args:\n",
    "    inputs: A 2-D array where each column is an input feature and each\n",
    "            row is a training example.\n",
    "    outputs: A 1-D array containing the real-valued\n",
    "             label corresponding to the input data in the same row.\n",
    "    learning_rate: The learning rate to use for updates.\n",
    "    num_epochs: The number of passes through the full training data.\n",
    "\n",
    "  Returns:\n",
    "    weights: A 2-D array with the learned weights after each training epoch.\n",
    "    losses: A 1-D array with the loss after each epoch.\n",
    "  \"\"\"\n",
    "  # m = number of examples, n = number of features\n",
    "  m, n = inputs.shape\n",
    "\n",
    "  # We'll use a vector of size n to store the learned weights and initialize\n",
    "  # all weights to 1.\n",
    "  W = np.ones(n)\n",
    "\n",
    "  # Keep track of the training loss and weights after each step.\n",
    "  losses = []\n",
    "  weights = []\n",
    "\n",
    "  for epoch in range(num_epochs):\n",
    "    # Append the old weights to the weights list to keep track of them.\n",
    "    weights.append(W)\n",
    "\n",
    "    # Evaluate the current predictions for the training examples given\n",
    "    # the current estimate of W (you did this in exercise 5).\n",
    "    predictions = np.dot(inputs, W)\n",
    "\n",
    "    # Find the difference between the predictions and the actual target\n",
    "    # values.\n",
    "    diff = predictions - outputs\n",
    "\n",
    "    # In standard linear regression, we want to minimize the sum of squared\n",
    "    # differences. Compute the mean squared error loss. Don't bother with the\n",
    "    # 1/2 scaling factor here.\n",
    "    loss = np.mean(diff ** 2)\n",
    "\n",
    "    # Append the loss to the losses list to keep a track of it.\n",
    "    losses.append(loss)\n",
    "\n",
    "    # Compute the gradient with respect to the loss.\n",
    "    # [Formula (4) in the Gradient Descent Implementation]\n",
    "    gradient = np.dot(diff, inputs) / m\n",
    "    # Update weights, scaling the gradient by the learning rate.\n",
    "    W = W - learning_rate * gradient\n",
    "\n",
    "  return np.array(weights), np.array(losses)"
   ]
  },
  {
   "cell_type": "markdown",
   "metadata": {
    "id": "d9ZKvisFFmmT"
   },
   "source": [
    "b. What does each element in the gradient array represent? The gradient array is referring to the result of ```np.dot(diff, inputs) / m``` in the code above.\n",
    "\n",
    "\n"
   ]
  },
  {
   "cell_type": "markdown",
   "metadata": {
    "id": "dsm7YJJ_Gdwo"
   },
   "source": [
    "**Write answer here.**\n",
    "\n",
    "\n",
    "he average rate of change of the loss function with respect to each weight"
   ]
  },
  {
   "cell_type": "markdown",
   "metadata": {
    "id": "8Kc8LL5cltU8"
   },
   "source": [
    "Run the cell below. It will execute the gradient descent algorithm using the training data. We are using a learning rate of 0.0002 and 5 epochs."
   ]
  },
  {
   "cell_type": "code",
   "execution_count": 8,
   "metadata": {
    "colab": {
     "base_uri": "https://localhost:8080/"
    },
    "id": "D-L4F9Vnk7lH",
    "outputId": "fd1ec95e-b7d5-4e5c-ce2f-76901333676f"
   },
   "outputs": [
    {
     "data": {
      "text/plain": [
       "(array([[1.        , 1.        ],\n",
       "        [1.00709394, 1.33262886],\n",
       "        [1.01183193, 1.55469157],\n",
       "        [1.01499708, 1.7029404 ],\n",
       "        [1.01711221, 1.80191116]]),\n",
       " array([1665.36666086,  742.41486626,  331.06572624,  147.73208293,\n",
       "          66.02235863]))"
      ]
     },
     "execution_count": 8,
     "metadata": {},
     "output_type": "execute_result"
    }
   ],
   "source": [
    "grad_desc_results = gradient_descent(X_train, Y_train, learning_rate=0.0002, num_epochs=5)\n",
    "grad_desc_results"
   ]
  },
  {
   "cell_type": "markdown",
   "metadata": {
    "id": "kfHN7oxWnlVZ"
   },
   "source": [
    "### Question 6 (2 points)\n",
    "\n",
    "Describe the ```grad_desc_results``` output, i.e. what values does each array contain?"
   ]
  },
  {
   "cell_type": "markdown",
   "metadata": {
    "id": "YLOCAMZnn0OC"
   },
   "source": [
    "**Write answer here.**\n",
    "\n",
    "The first array in grad_desc_results contains the weight values at each epoch\n",
    "\n",
    "\n",
    "The second array in grad_desc_results shows the loss values at each epoch:"
   ]
  },
  {
   "cell_type": "markdown",
   "metadata": {
    "id": "uPjkpOi0pR26"
   },
   "source": [
    "In the plot below, we visualize the gradient descent results."
   ]
  },
  {
   "cell_type": "code",
   "execution_count": 9,
   "metadata": {
    "colab": {
     "base_uri": "https://localhost:8080/",
     "height": 472
    },
    "id": "Jkjj2dyHlhqo",
    "outputId": "ac5c72b9-7672-422f-f36f-7f0c47adcf55"
   },
   "outputs": [
    {
     "data": {
      "image/png": "[encoded data removed]",
      "text/plain": [
       "<Figure size 640x480 with 1 Axes>"
      ]
     },
     "metadata": {},
     "output_type": "display_data"
    }
   ],
   "source": [
    "# plot loss versus epoch\n",
    "epochs = np.array([1, 2, 3, 4, 5])\n",
    "loss_vector = grad_desc_results[1]\n",
    "plt.plot(epochs, loss_vector, marker='o')\n",
    "plt.xlabel('Epoch')\n",
    "plt.ylabel('Loss')\n",
    "plt.title('Tracking Loss, 5 Epochs, 0.0002 Learning Rate');"
   ]
  },
  {
   "cell_type": "markdown",
   "metadata": {
    "id": "lQoFagqnp04j"
   },
   "source": [
    "**Hyperparameter tuning** plays an important role in optimizing ML models. One systematically adjusts hyperparameters to find the right balance between model complexity and generalization, ultimately leading to better predictive performance and model effectiveness.\n",
    "\n",
    "Note that hyperparameter tuning is typically performed on **a separate validation dataset**. However, for the purposes of this assignment and based on the ML knowledge you've acquired thus far, we will perform hyperparameter tuning directly on the training data.\n",
    "\n",
    "In the plots below, we compare the loss at each epoch under the following scenarios:\n",
    "\n",
    "1. learning_rate=.0002, num_epochs=5\n",
    "2. learning_rate=.02, num_epochs=5\n",
    "3. learning_rate=.0002, num_epochs=10"
   ]
  },
  {
   "cell_type": "code",
   "execution_count": 10,
   "metadata": {
    "colab": {
     "base_uri": "https://localhost:8080/",
     "height": 607
    },
    "id": "rEuuMJJIpbb8",
    "outputId": "ebdfdcc1-3455-4366-e44b-fc3a95f91d83"
   },
   "outputs": [
    {
     "data": {
      "image/png": "[encoded data removed]",
      "text/plain": [
       "<Figure size 1000x600 with 3 Axes>"
      ]
     },
     "metadata": {},
     "output_type": "display_data"
    }
   ],
   "source": [
    "# run gradient descent using X_train, Y_train; learning rate = 0.02; 5 epochs\n",
    "# store losses in an array\n",
    "grad_desc_results_new_learning_rate = gradient_descent(X_train, Y_train, learning_rate=0.02, num_epochs=5)\n",
    "loss_vector_new_learning_rate = grad_desc_results_new_learning_rate[1]\n",
    "\n",
    "# run gradient descent using X_train, Y_train; learning rate = 0.0002; 10 epochs\n",
    "# store epochs and losses in new arrays\n",
    "grad_desc_results_new_epoch = gradient_descent(X_train, Y_train, learning_rate=0.0002, num_epochs=10)\n",
    "epochs_updated = np.array([1, 2, 3, 4, 5, 6, 7, 8, 9, 10])\n",
    "loss_vector_new_epoch = grad_desc_results_new_epoch[1]\n",
    "\n",
    "# plot loss versus epoch in all scenarios under consideration\n",
    "fig, ax = plt.subplots(1, 3, tight_layout=True, figsize=(10, 6))\n",
    "\n",
    "ax[0].plot(epochs, loss_vector, marker='o')\n",
    "ax[0].set_xlabel('Epoch')\n",
    "ax[0].set_ylabel('Loss')\n",
    "ax[0].set_title('5 Epochs, 0.0002 Learning Rate').set_size(10)\n",
    "\n",
    "ax[1].plot(epochs, loss_vector_new_learning_rate, marker='o')\n",
    "ax[1].set_xlabel('Epoch')\n",
    "ax[1].set_ylabel('Loss')\n",
    "ax[1].set_title('5 Epochs, 0.02 Learning Rate').set_size(10)\n",
    "\n",
    "ax[2].plot(epochs_updated, loss_vector_new_epoch, marker='o')\n",
    "ax[2].set_xlabel('Epoch')\n",
    "ax[2].set_ylabel('Loss')\n",
    "ax[2].set_title('10 Epochs, 0.0002 Learning Rate').set_size(10);"
   ]
  },
  {
   "cell_type": "code",
   "execution_count": 11,
   "metadata": {
    "colab": {
     "base_uri": "https://localhost:8080/"
    },
    "id": "mMVdtMURqlCg",
    "outputId": "e5e7d520-d1bd-4870-8d87-c9cd18756ce1"
   },
   "outputs": [
    {
     "name": "stdout",
     "output_type": "stream",
     "text": [
      "5 Epochs, 0.0002 Learning Rate\n",
      "Loss at Last Epoch:  66.0223586320446\n",
      "\n",
      "5 Epochs, 0.02 Learning Rate\n",
      "Loss at Last Epoch:  1943544404976517.2\n",
      "\n",
      "10 Epochs, 0.0002 Learning Rate\n",
      "Loss at Last Epoch:  1.479786682981072\n"
     ]
    }
   ],
   "source": [
    "# print loss at last epoch in each scenario\n",
    "print('5 Epochs, 0.0002 Learning Rate')\n",
    "print('Loss at Last Epoch: ', grad_desc_results[1][4])\n",
    "print()\n",
    "\n",
    "print('5 Epochs, 0.02 Learning Rate')\n",
    "print('Loss at Last Epoch: ', grad_desc_results_new_learning_rate[1][4])\n",
    "print()\n",
    "\n",
    "print('10 Epochs, 0.0002 Learning Rate')\n",
    "print('Loss at Last Epoch: ', grad_desc_results_new_epoch[1][9])"
   ]
  },
  {
   "cell_type": "markdown",
   "metadata": {
    "id": "W4Up3Rlnrf_i"
   },
   "source": [
    "###Question 7 (4 points)\n",
    "\n",
    "Using the plots and last epoch losses above, justify your answers to the following questions:\n",
    "\n",
    "1. Do you think it would be beneficial to extend the model training in Question 5 by increasing the learning rate to 0.02? Assume 5 epochs are used.\n",
    "\n",
    "2. Restoring to the previous learning rate of 0.0002, would you  consider extending the model training in Question 5 by increasing the number of epochs to 10?"
   ]
  },
  {
   "cell_type": "markdown",
   "metadata": {
    "id": "HVXzkKL7sliR"
   },
   "source": [
    "**Write answer here.**\n",
    "\n",
    "1) answer for one, no it is not beneficial to extend the model traning by increasing the learning rate to 0.02 as we have seen we have higher loss which outweights the benefit\n",
    "\n",
    "2) I would consider it depending on the dataset it might me needed when we have less data i guess so we have less loss but on bigger dataset i think it would be bit insificent "
   ]
  },
  {
   "cell_type": "markdown",
   "metadata": {
    "id": "uXPAnIowtbwM"
   },
   "source": [
    "### Question 8 (3 points)\n",
    "\n",
    "Which of the three hyperparameter combinations performs best?\n",
    "\n",
    "Using the optimal hyperparameter combination, extract the improved model weights from the last epoch.\n",
    "\n",
    "*Hint:* You will need to index into either ```grad_desc_results```, ```grad_desc_results_new_learning_rate```, or ```grad_desc_results_new_epoch``` to extract the weights.\n",
    "\n",
    "Save the weights array to a variable called ```M2_weights```."
   ]
  },
  {
   "cell_type": "code",
   "execution_count": 12,
   "metadata": {
    "id": "etXlCVEsrcGp"
   },
   "outputs": [
    {
     "data": {
      "text/plain": [
       "array([1.02081727, 1.97432553])"
      ]
     },
     "execution_count": 12,
     "metadata": {},
     "output_type": "execute_result"
    }
   ],
   "source": [
    "M2_weights =  grad_desc_results_new_epoch[0][9]\n",
    "M2_weights"
   ]
  },
  {
   "cell_type": "markdown",
   "metadata": {
    "id": "3y867zk43Z9T"
   },
   "source": [
    "##**Evaluation and Generalization**"
   ]
  },
  {
   "cell_type": "markdown",
   "metadata": {
    "id": "MmnWZwql5Qe4"
   },
   "source": [
    "To evaluate our models, we assess their performance based on how closely they fit the available data. In other words, we compare the true value $y$ with the predicted value $\\hat{y}$ for each $x$."
   ]
  },
  {
   "cell_type": "markdown",
   "metadata": {
    "id": "9KqqRor05uGv"
   },
   "source": [
    "###Question 9 (4 points)\n",
    "Compute the MSE metric on the training dataset for models $M_1$ and $M_2$.\n",
    "\n",
    "*Hint:* You can use the **mean_squared_error()** method available in sklearn.metrics."
   ]
  },
  {
   "cell_type": "code",
   "execution_count": 13,
   "metadata": {
    "colab": {
     "base_uri": "https://localhost:8080/"
    },
    "id": "HyDNK2oK5tai",
    "outputId": "0929be19-052c-4ada-a75d-0683388183cb"
   },
   "outputs": [
    {
     "name": "stdout",
     "output_type": "stream",
     "text": [
      "0.3280557752885262\n",
      "1.479786682981072\n"
     ]
    }
   ],
   "source": [
    "# first, compute predictions for model 2\n",
    "M2_hat_train = np.dot(X_train, M2_weights)\n",
    "\n",
    "M1_mse = mean_squared_error(Y_train, M1_hat_train)\n",
    "print(M1_mse)\n",
    "\n",
    "M2_mse = mean_squared_error(Y_train, M2_hat_train)\n",
    "print(M2_mse)"
   ]
  },
  {
   "cell_type": "markdown",
   "metadata": {
    "id": "rihHYkZH7AUk"
   },
   "source": [
    "Now, let's define $M_3(x)$ to be the model whose weights come from the analytical solution to least-squares regression.\n",
    "\n",
    "Recall, the analytical solution is characterized by the following weights:\n",
    "\n",
    "$$ \\hat \\beta = (X^T X)^{-1}X^T Y $$"
   ]
  },
  {
   "cell_type": "code",
   "execution_count": 14,
   "metadata": {
    "colab": {
     "base_uri": "https://localhost:8080/"
    },
    "id": "jXfJK0oS6-Yn",
    "outputId": "1e1debf1-a35a-4d91-dc0b-085e4722216c"
   },
   "outputs": [
    {
     "data": {
      "text/plain": [
       "array([1.14837761, 1.99797911])"
      ]
     },
     "execution_count": 14,
     "metadata": {},
     "output_type": "execute_result"
    }
   ],
   "source": [
    "M3_weights = np.linalg.inv(X_train.T @ X_train) @ X_train.T @ Y_train\n",
    "M3_weights"
   ]
  },
  {
   "cell_type": "code",
   "execution_count": 21,
   "metadata": {
    "colab": {
     "base_uri": "https://localhost:8080/"
    },
    "id": "CT9ha9mJ69Wv",
    "outputId": "4458959a-cfcb-4499-b431-075abd1a355d"
   },
   "outputs": [
    {
     "name": "stdout",
     "output_type": "stream",
     "text": [
      "M3 MSE:  0.3204807624921627\n"
     ]
    }
   ],
   "source": [
    "M3_hat_train = np.dot(X_train, M3_weights)\n",
    "M3_mse = mean_squared_error(Y_train, M3_hat_train)\n",
    "print('M3 MSE: ', M3_mse)"
   ]
  },
  {
   "cell_type": "markdown",
   "metadata": {
    "id": "RfBNLgum8qW_"
   },
   "source": [
    "### Question 10 (2 points)\n",
    "\n",
    "Why are $M_3$'s weights not identical to $M_1$'s?"
   ]
  },
  {
   "cell_type": "markdown",
   "metadata": {
    "id": "9lS8EsP49gHw"
   },
   "source": [
    "**Write answer here.**\n",
    "\n",
    "\n",
    "The weights of 𝑀3 are not identical to 𝑀1\n",
    "because they were likely trained under different conditions, such as different data splits, initialization, or hyperparameters.\n",
    "​\n",
    "  "
   ]
  },
  {
   "cell_type": "markdown",
   "metadata": {
    "id": "Tyi1ZOkB-C2w"
   },
   "source": [
    "### Question 11 (2 points)\n",
    "\n",
    "Why does $M_3$ have a lower MSE on the training data than $M_1$?"
   ]
  },
  {
   "cell_type": "markdown",
   "metadata": {
    "id": "RUaThJFL-NQI"
   },
   "source": [
    "**Write answer here.**\n",
    "\n",
    "\n",
    "Because of different weights that were given to them for Training "
   ]
  },
  {
   "cell_type": "markdown",
   "metadata": {
    "id": "ZAi5G6Fq-u6s"
   },
   "source": [
    "### Question 12 (2 points)\n",
    "\n",
    "When dealing with convex loss functions such as the mean squared error that take on a single minimum value, gradient descent should converge to the analytical solution.\n",
    "\n",
    "In other words, the model parameters for $M_2$ and $M_3$ should be identical.\n",
    "\n",
    "Provide at least one reason as to why the $M_2$ and $M_3$ weights are not exactly aligned."
   ]
  },
  {
   "cell_type": "markdown",
   "metadata": {
    "id": "tEFhp4hd_1Yj"
   },
   "source": [
    "**Write answer here.**\n",
    "\n",
    "\n",
    "\n",
    "The weights for 𝑀2 and 𝑀3\n",
    "​ aren't exactly the same because things like different starting points or tiny differences in how the model learned can lead to small changes, even though both models try to reach the same goal."
   ]
  },
  {
   "cell_type": "markdown",
   "metadata": {
    "id": "NCvfPmoKBHkW"
   },
   "source": [
    "### Question 13 (2 points)\n",
    "\n",
    "Which of the three models ($M_1(x)$, $M_2(x)$, $M_3(x)$) demonstrates better generalization ability? Explain."
   ]
  },
  {
   "cell_type": "code",
   "execution_count": 16,
   "metadata": {
    "colab": {
     "base_uri": "https://localhost:8080/"
    },
    "id": "FPi4PBXs8hiP",
    "outputId": "7ff68096-398b-4253-e436-4d7cdb9f69f3"
   },
   "outputs": [
    {
     "name": "stdout",
     "output_type": "stream",
     "text": [
      "M1 Test MSE:  0.2908006971666422\n",
      "M2 Test MSE:  1.066053488198779\n",
      "M3 Test MSE:  0.3103880362660164\n"
     ]
    }
   ],
   "source": [
    "# compute predictions for models 1, 2, and 3 on test data\n",
    "M1_hat_test = np.dot(X_test, M1_weights)\n",
    "M2_hat_test = np.dot(X_test, M2_weights)\n",
    "M3_hat_test = np.dot(X_test, M3_weights)\n",
    "\n",
    "# compute test MSE for models 1, 2, and 3\n",
    "M1_mse_test = mean_squared_error(Y_test, M1_hat_test)\n",
    "M2_mse_test = mean_squared_error(Y_test, M2_hat_test)\n",
    "M3_mse_test = mean_squared_error(Y_test, M3_hat_test)\n",
    "\n",
    "#print test MSE for models 1, 2, and 3\n",
    "print('M1 Test MSE: ', M1_mse_test)\n",
    "print('M2 Test MSE: ', M2_mse_test)\n",
    "print('M3 Test MSE: ', M3_mse_test)"
   ]
  },
  {
   "cell_type": "markdown",
   "metadata": {
    "id": "TTvtpwEXBo4a"
   },
   "source": [
    "**Write answer here.**\n",
    "\n",
    "M1 Demonstrates the best genrelaztion ability.\n",
    "\n",
    "The model with the lowest test error or the smallest gap between training and test error demonstrates better generalization ability, as it performs well on new, unseen data.and M1 has the lowest "
   ]
  }
 ],
 "metadata": {
  "colab": {
   "provenance": []
  },
  "kernelspec": {
   "display_name": "env",
   "language": "python",
   "name": "python3"
  },
  "language_info": {
   "codemirror_mode": {
    "name": "ipython",
    "version": 3
   },
   "file_extension": ".py",
   "mimetype": "text/x-python",
   "name": "python",
   "nbconvert_exporter": "python",
   "pygments_lexer": "ipython3",
   "version": "3.12.7"
  }
 },
 "nbformat": 4,
 "nbformat_minor": 0
}
