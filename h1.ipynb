{
 "cells": [
  {
   "cell_type": "code",
   "execution_count": 1,
   "metadata": {},
   "outputs": [],
   "source": [
    "import pandas as pd "
   ]
  },
  {
   "cell_type": "markdown",
   "metadata": {},
   "source": [
    "# **Bitcoin**\n",
    "\n",
    "Consider a one-time investment in bitcoin. Imagine the value of that investment is tracked monthly and provided as an (ordered) tuple of dictionaries (see example `data` below).\n",
    "\n",
    "The key for each dictionary is the month, and the value is the value of the investment at the end of the given month. For example, by January 31, 2018 the investment had a value of $1200 as shown in `data` below.\n",
    "\n",
    "The initial investment is made on January 1, 2018 and was for $1000 (key labelled 'Initial' in the `data` below).\n",
    "\n",
    "Fill in the Python function named `bitcoin_invest` that takes an input formatted like `data`, and return a dataframe comprising a row for each month with columns for date, balance, and return. **Print out/display this dataframe.**\n",
    "\n",
    "Some definitions: <br>\n",
    "- The gain for each period is the end balance minus the start balance.\n",
    "- The growth factor for each period is the end balance divided by the start balance.  \n",
    "- The return for each period is the growth factor minus 1."
   ]
  },
  {
   "cell_type": "code",
   "execution_count": 2,
   "metadata": {},
   "outputs": [
    {
     "data": {
      "text/plain": [
       "({'Initial': 1000},\n",
       " {'Jan 2018': 1200},\n",
       " {'Feb 2018': 1400},\n",
       " {'Mar 2018': 700},\n",
       " {'Apr 2018': 800},\n",
       " {'May 2018': 500})"
      ]
     },
     "execution_count": 2,
     "metadata": {},
     "output_type": "execute_result"
    }
   ],
   "source": [
    "data = ({\"Initial\": 1000}, {\"Jan 2018\":1200},{\"Feb 2018\":1400},{\"Mar 2018\":700},{\"Apr 2018\":800},{\"May 2018\":500})\n",
    "data"
   ]
  },
  {
   "cell_type": "code",
   "execution_count": 5,
   "metadata": {},
   "outputs": [
    {
     "data": {
      "text/html": [
       "<div>\n",
       "<style scoped>\n",
       "    .dataframe tbody tr th:only-of-type {\n",
       "        vertical-align: middle;\n",
       "    }\n",
       "\n",
       "    .dataframe tbody tr th {\n",
       "        vertical-align: top;\n",
       "    }\n",
       "\n",
       "    .dataframe thead th {\n",
       "        text-align: right;\n",
       "    }\n",
       "</style>\n",
       "<table border=\"1\" class=\"dataframe\">\n",
       "  <thead>\n",
       "    <tr style=\"text-align: right;\">\n",
       "      <th></th>\n",
       "      <th>date</th>\n",
       "      <th>balance</th>\n",
       "      <th>return</th>\n",
       "    </tr>\n",
       "  </thead>\n",
       "  <tbody>\n",
       "    <tr>\n",
       "      <th>0</th>\n",
       "      <td>01-31-2018</td>\n",
       "      <td>1200</td>\n",
       "      <td>0.200000</td>\n",
       "    </tr>\n",
       "    <tr>\n",
       "      <th>1</th>\n",
       "      <td>02-28-2018</td>\n",
       "      <td>1400</td>\n",
       "      <td>0.166667</td>\n",
       "    </tr>\n",
       "    <tr>\n",
       "      <th>2</th>\n",
       "      <td>03-31-2018</td>\n",
       "      <td>700</td>\n",
       "      <td>-0.500000</td>\n",
       "    </tr>\n",
       "    <tr>\n",
       "      <th>3</th>\n",
       "      <td>04-30-2018</td>\n",
       "      <td>800</td>\n",
       "      <td>0.142857</td>\n",
       "    </tr>\n",
       "    <tr>\n",
       "      <th>4</th>\n",
       "      <td>05-31-2018</td>\n",
       "      <td>500</td>\n",
       "      <td>-0.375000</td>\n",
       "    </tr>\n",
       "  </tbody>\n",
       "</table>\n",
       "</div>"
      ],
      "text/plain": [
       "         date  balance    return\n",
       "0  01-31-2018     1200  0.200000\n",
       "1  02-28-2018     1400  0.166667\n",
       "2  03-31-2018      700 -0.500000\n",
       "3  04-30-2018      800  0.142857\n",
       "4  05-31-2018      500 -0.375000"
      ]
     },
     "execution_count": 5,
     "metadata": {},
     "output_type": "execute_result"
    }
   ],
   "source": [
    "#create dictionary to map month abbreviation to month value\n",
    "month_map = {\"Jan\": \"01\", \"Feb\": \"02\", \"Mar\": \"03\", \"Apr\": \"04\", \"May\": \"05\", \"Jun\": \"06\",\n",
    "             \"Jul\": \"07\", \"Aug\": \"08\", \"Sep\": \"09\", \"Sept\": \"09\", \"Oct\": \"10\", \"Nov\": \"11\", \"Dec\": \"12\"}\n",
    "\n",
    "#create dictionary to map month to the number of days in that month\n",
    "month_day_map = {\"Jan\": \"31\", \"Feb\": \"28\", \"Mar\": \"31\", \"Apr\": \"30\", \"May\": \"31\", \"Jun\": \"30\",\n",
    "             \"Jul\": \"31\", \"Aug\": \"31\", \"Sep\": \"30\", \"Sept\": \"30\", \"Oct\": \"31\", \"Nov\": \"30\", \"Dec\": \"31\"}\n",
    "\n",
    "def bitcoin_invest(monthly_data):\n",
    "    \"\"\"This function takes in a tuple of dictionaries containing monthly investment values. The function returns a dataframe that displays\n",
    "    the date, balance, and return for each month.\"\"\"\n",
    "\n",
    "    #initialize dataframe as list\n",
    "    df = []\n",
    "\n",
    "    #loop through each month in the monthly data to create a single row in the dataframe\n",
    "    for i in range(1, len(monthly_data)):\n",
    "\n",
    "        #track the current and previous key in the monthly data --> needed to obtain start and end balances for the month\n",
    "        previous_key = list(monthly_data[i-1].keys())[0]\n",
    "        current_key = list(monthly_data[i].keys())[0]\n",
    "\n",
    "\n",
    "        #store current month\n",
    "        current_month = current_key.split()[0]\n",
    "\n",
    "        #parse out month and year from current key to create the date of the form MM-DD-YYYY\n",
    "        month = current_month\n",
    "        year = current_key.split()[1]\n",
    "        month_numeric = month_map[month]\n",
    "        day = month_day_map[month]\n",
    "        date = f'{month_numeric}-{day}-{year}'\n",
    "\n",
    "        #retrieve starting and ending balances --> needed for the balance and return values in the given row\n",
    "        start_balance = monthly_data[i-1][previous_key]\n",
    "        end_balance = monthly_data[i][current_key]\n",
    "\n",
    "        #compute growth factor and return on investment (roi) for the month\n",
    "        growth_factor = end_balance / start_balance\n",
    "        roi = growth_factor - 1\n",
    "\n",
    "        #create row for given month\n",
    "        df_row = [date, end_balance, roi]\n",
    "\n",
    "        #append row to df list that will be transformed into a dataframe\n",
    "        df.append(df_row)\n",
    "\n",
    "    #set column names for dataframe\n",
    "    col_names = ['date', 'balance', 'return']\n",
    "\n",
    "    #create dataframe from list of lists and return\n",
    "    df = pd.DataFrame(df, columns=col_names)\n",
    "    return df\n",
    "\n",
    "#display dataframe using data\n",
    "result = bitcoin_invest(data)\n",
    "result"
   ]
  }
 ],
 "metadata": {
  "kernelspec": {
   "display_name": "env",
   "language": "python",
   "name": "python3"
  },
  "language_info": {
   "codemirror_mode": {
    "name": "ipython",
    "version": 3
   },
   "file_extension": ".py",
   "mimetype": "text/x-python",
   "name": "python",
   "nbconvert_exporter": "python",
   "pygments_lexer": "ipython3",
   "version": "3.12.7"
  }
 },
 "nbformat": 4,
 "nbformat_minor": 2
}
